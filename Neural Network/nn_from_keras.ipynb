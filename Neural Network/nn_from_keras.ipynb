{
  "nbformat": 4,
  "nbformat_minor": 0,
  "metadata": {
    "colab": {
      "provenance": []
    },
    "kernelspec": {
      "name": "python3",
      "display_name": "Python 3"
    },
    "language_info": {
      "name": "python"
    }
  },
  "cells": [
    {
      "cell_type": "code",
      "source": [
        "import tensorflow as tf\n",
        "from sklearn.datasets import load_iris\n",
        "from sklearn.model_selection import train_test_split\n",
        "from sklearn.preprocessing import StandardScaler\n",
        "from sklearn.preprocessing import OneHotEncoder\n",
        "import numpy as np\n",
        "\n",
        "# Load Iris dataset\n",
        "iris = load_iris()\n",
        "X = iris.data  # Features\n",
        "y = iris.target  # Labels\n",
        "\n",
        "\n",
        "encoder = OneHotEncoder(sparse_output=False)\n",
        "y_onehot = encoder.fit_transform(y.reshape(-1, 1))\n",
        "\n",
        "\n",
        "X_train, X_test, y_train, y_test = train_test_split(X, y_onehot, test_size=0.2, random_state=42)\n",
        "\n",
        "scaler = StandardScaler()\n",
        "X_train = scaler.fit_transform(X_train)\n",
        "X_test = scaler.transform(X_test)\n",
        "\n",
        "model = tf.keras.Sequential([\n",
        "    tf.keras.layers.InputLayer(shape=(X_train.shape[1],)),  # Input layer\n",
        "    tf.keras.layers.Dense(10, activation='relu'),  # Hidden layer with 10 neurons and ReLU activation\n",
        "    tf.keras.layers.Dense(3, activation='softmax')  # Output layer with 3 neurons (for 3 classes) and softmax activation\n",
        "])\n",
        "\n",
        "# Compile the model\n",
        "model.compile(optimizer='adam',\n",
        "              loss='categorical_crossentropy',\n",
        "              metrics=['accuracy'])\n",
        "\n",
        "model.fit(X_train, y_train, epochs=150, batch_size=8, validation_split=0.2, verbose=0)\n",
        "\n",
        "test_loss, test_acc = model.evaluate(X_test, y_test)\n",
        "print(f\"Test Accuracy: {test_acc:.4f}\")\n",
        "\n",
        "# Make predictions\n",
        "predictions = model.predict(X_test)\n",
        "print(predictions)#\n",
        "predicted_classes = np.argmax(predictions, axis=1)\n",
        "print(predicted_classes)\n",
        "true_classes = np.argmax(y_test, axis=1)\n",
        "\n",
        "print(f\"Predictions: {predicted_classes}\")\n",
        "print(f\"True labels: {true_classes}\")\n"
      ],
      "metadata": {
        "colab": {
          "base_uri": "https://localhost:8080/"
        },
        "id": "mEp7C9lXadFX",
        "outputId": "8ddbd0cc-9c15-4d66-a42b-1ef8011f7d5d"
      },
      "execution_count": null,
      "outputs": [
        {
          "output_type": "stream",
          "name": "stderr",
          "text": [
            "/usr/local/lib/python3.11/dist-packages/keras/src/layers/core/input_layer.py:27: UserWarning: Argument `input_shape` is deprecated. Use `shape` instead.\n",
            "  warnings.warn(\n"
          ]
        },
        {
          "output_type": "stream",
          "name": "stdout",
          "text": [
            "\u001b[1m1/1\u001b[0m \u001b[32m━━━━━━━━━━━━━━━━━━━━\u001b[0m\u001b[37m\u001b[0m \u001b[1m0s\u001b[0m 429ms/step - accuracy: 1.0000 - loss: 0.0736\n",
            "Test Accuracy: 1.0000\n",
            "\u001b[1m1/1\u001b[0m \u001b[32m━━━━━━━━━━━━━━━━━━━━\u001b[0m\u001b[37m\u001b[0m \u001b[1m0s\u001b[0m 136ms/step\n",
            "[[1.9727398e-03 9.3154365e-01 6.6483609e-02]\n",
            " [9.9504191e-01 4.9570370e-03 9.0457900e-07]\n",
            " [6.5993738e-08 7.3128514e-04 9.9926853e-01]\n",
            " [3.2599734e-03 8.3208638e-01 1.6465363e-01]\n",
            " [1.9444653e-03 8.5775352e-01 1.4030203e-01]\n",
            " [9.9106783e-01 8.9293169e-03 2.8585039e-06]\n",
            " [2.7896749e-02 9.6254712e-01 9.5562134e-03]\n",
            " [9.5321579e-05 2.9196337e-02 9.7070831e-01]\n",
            " [2.5908963e-04 5.4410243e-01 4.5563850e-01]\n",
            " [6.2110196e-03 9.7280604e-01 2.0982938e-02]\n",
            " [5.4931059e-04 1.3708198e-01 8.6236870e-01]\n",
            " [9.9627936e-01 3.7196227e-03 1.0964999e-06]\n",
            " [9.9580544e-01 4.1937488e-03 7.8863303e-07]\n",
            " [9.9627423e-01 3.7246919e-03 1.0899022e-06]\n",
            " [9.9801922e-01 1.9805136e-03 1.7011827e-07]\n",
            " [7.7616130e-03 8.0530250e-01 1.8693575e-01]\n",
            " [7.8233434e-06 9.0155909e-03 9.9097663e-01]\n",
            " [3.7899308e-03 9.7434616e-01 2.1863962e-02]\n",
            " [3.2490771e-03 9.4392943e-01 5.2821495e-02]\n",
            " [5.2581149e-06 8.5195117e-03 9.9147528e-01]\n",
            " [9.9691099e-01 3.0883758e-03 6.3060713e-07]\n",
            " [9.0011687e-04 3.1466457e-01 6.8443531e-01]\n",
            " [9.9456638e-01 5.4324321e-03 1.2122035e-06]\n",
            " [9.3004383e-06 1.4998228e-02 9.8499244e-01]\n",
            " [7.2654837e-04 1.1249222e-01 8.8678122e-01]\n",
            " [3.4540157e-05 1.7281365e-02 9.8268408e-01]\n",
            " [9.5567611e-06 4.2131100e-02 9.5785928e-01]\n",
            " [1.0597258e-05 7.2899456e-03 9.9269944e-01]\n",
            " [9.9368542e-01 6.3124425e-03 2.1347610e-06]\n",
            " [9.9557149e-01 4.4271466e-03 1.3155121e-06]]\n",
            "Predictions: [1 0 2 1 1 0 1 2 1 1 2 0 0 0 0 1 2 1 1 2 0 2 0 2 2 2 2 2 0 0]\n",
            "True labels: [1 0 2 1 1 0 1 2 1 1 2 0 0 0 0 1 2 1 1 2 0 2 0 2 2 2 2 2 0 0]\n"
          ]
        }
      ]
    },
    {
      "cell_type": "code",
      "source": [
        "predicted_classes = np.argmax(predictions, axis=1)\n",
        "print(predicted_classes)"
      ],
      "metadata": {
        "colab": {
          "base_uri": "https://localhost:8080/"
        },
        "id": "hczlGWvuadCa",
        "outputId": "c0bf11dd-8fc5-4fc8-ad57-2fdb67504914"
      },
      "execution_count": null,
      "outputs": [
        {
          "output_type": "stream",
          "name": "stdout",
          "text": [
            "[1 0 2 1 1 0 1 2 1 1 2 0 0 0 0 1 2 1 1 2 0 2 0 2 2 2 2 2 0 0]\n"
          ]
        }
      ]
    }
  ]
}