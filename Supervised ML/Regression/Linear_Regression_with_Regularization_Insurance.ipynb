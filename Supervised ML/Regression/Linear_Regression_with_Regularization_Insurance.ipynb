{
  "nbformat": 4,
  "nbformat_minor": 0,
  "metadata": {
    "colab": {
      "provenance": [],
      "collapsed_sections": [
        "6XY-qRdMyg5i",
        "8vC_Fx8cQkeF",
        "KSB4C_h3Wrbf"
      ]
    },
    "kernelspec": {
      "name": "python3",
      "display_name": "Python 3"
    },
    "language_info": {
      "name": "python"
    }
  },
  "cells": [
    {
      "cell_type": "code",
      "source": [
        "import matplotlib.pyplot as plt\n",
        "import numpy as np\n",
        "import pandas as pd\n",
        "from sklearn.linear_model import LinearRegression , Ridge, Lasso,ElasticNet,RidgeCV, LassoCV,ElasticNetCV\n",
        "from sklearn.preprocessing import LabelEncoder\n",
        "from sklearn.preprocessing import OneHotEncoder\n",
        "from sklearn.preprocessing import PolynomialFeatures\n",
        "from sklearn.metrics import mean_absolute_error, mean_absolute_percentage_error, mean_squared_error,r2_score\n",
        "from sklearn.model_selection import train_test_split\n",
        "from sklearn.preprocessing import StandardScaler\n",
        "import warnings\n",
        "warnings.filterwarnings('ignore')"
      ],
      "metadata": {
        "id": "E4Oz6-5KyY6O"
      },
      "execution_count": null,
      "outputs": []
    },
    {
      "cell_type": "markdown",
      "source": [
        "#with simple train test"
      ],
      "metadata": {
        "id": "ewEG3qRbyet3"
      }
    },
    {
      "cell_type": "markdown",
      "source": [
        "##Label encoding"
      ],
      "metadata": {
        "id": "6XY-qRdMyg5i"
      }
    },
    {
      "cell_type": "code",
      "execution_count": null,
      "metadata": {
        "colab": {
          "base_uri": "https://localhost:8080/"
        },
        "id": "Eu3v2l8JxDNB",
        "outputId": "480c5fdb-fe0f-410e-9adf-4a244cb21293"
      },
      "outputs": [
        {
          "output_type": "execute_result",
          "data": {
            "text/plain": [
              "   age     sex   bmi  children smoker     region  expenses\n",
              "0   19  female  27.9         0    yes  southwest  16884.92\n",
              "1   18    male  33.8         1     no  southeast   1725.55\n",
              "2   28    male  33.0         3     no  southeast   4449.46\n",
              "3   33    male  22.7         0     no  northwest  21984.47\n",
              "4   32    male  28.9         0     no  northwest   3866.86"
            ],
            "text/html": [
              "\n",
              "  <div id=\"df-c03b83bb-83c8-4007-bc4f-57f9ecf7034a\" class=\"colab-df-container\">\n",
              "    <div>\n",
              "<style scoped>\n",
              "    .dataframe tbody tr th:only-of-type {\n",
              "        vertical-align: middle;\n",
              "    }\n",
              "\n",
              "    .dataframe tbody tr th {\n",
              "        vertical-align: top;\n",
              "    }\n",
              "\n",
              "    .dataframe thead th {\n",
              "        text-align: right;\n",
              "    }\n",
              "</style>\n",
              "<table border=\"1\" class=\"dataframe\">\n",
              "  <thead>\n",
              "    <tr style=\"text-align: right;\">\n",
              "      <th></th>\n",
              "      <th>age</th>\n",
              "      <th>sex</th>\n",
              "      <th>bmi</th>\n",
              "      <th>children</th>\n",
              "      <th>smoker</th>\n",
              "      <th>region</th>\n",
              "      <th>expenses</th>\n",
              "    </tr>\n",
              "  </thead>\n",
              "  <tbody>\n",
              "    <tr>\n",
              "      <th>0</th>\n",
              "      <td>19</td>\n",
              "      <td>female</td>\n",
              "      <td>27.9</td>\n",
              "      <td>0</td>\n",
              "      <td>yes</td>\n",
              "      <td>southwest</td>\n",
              "      <td>16884.92</td>\n",
              "    </tr>\n",
              "    <tr>\n",
              "      <th>1</th>\n",
              "      <td>18</td>\n",
              "      <td>male</td>\n",
              "      <td>33.8</td>\n",
              "      <td>1</td>\n",
              "      <td>no</td>\n",
              "      <td>southeast</td>\n",
              "      <td>1725.55</td>\n",
              "    </tr>\n",
              "    <tr>\n",
              "      <th>2</th>\n",
              "      <td>28</td>\n",
              "      <td>male</td>\n",
              "      <td>33.0</td>\n",
              "      <td>3</td>\n",
              "      <td>no</td>\n",
              "      <td>southeast</td>\n",
              "      <td>4449.46</td>\n",
              "    </tr>\n",
              "    <tr>\n",
              "      <th>3</th>\n",
              "      <td>33</td>\n",
              "      <td>male</td>\n",
              "      <td>22.7</td>\n",
              "      <td>0</td>\n",
              "      <td>no</td>\n",
              "      <td>northwest</td>\n",
              "      <td>21984.47</td>\n",
              "    </tr>\n",
              "    <tr>\n",
              "      <th>4</th>\n",
              "      <td>32</td>\n",
              "      <td>male</td>\n",
              "      <td>28.9</td>\n",
              "      <td>0</td>\n",
              "      <td>no</td>\n",
              "      <td>northwest</td>\n",
              "      <td>3866.86</td>\n",
              "    </tr>\n",
              "  </tbody>\n",
              "</table>\n",
              "</div>\n",
              "    <div class=\"colab-df-buttons\">\n",
              "\n",
              "  <div class=\"colab-df-container\">\n",
              "    <button class=\"colab-df-convert\" onclick=\"convertToInteractive('df-c03b83bb-83c8-4007-bc4f-57f9ecf7034a')\"\n",
              "            title=\"Convert this dataframe to an interactive table.\"\n",
              "            style=\"display:none;\">\n",
              "\n",
              "  <svg xmlns=\"http://www.w3.org/2000/svg\" height=\"24px\" viewBox=\"0 -960 960 960\">\n",
              "    <path d=\"M120-120v-720h720v720H120Zm60-500h600v-160H180v160Zm220 220h160v-160H400v160Zm0 220h160v-160H400v160ZM180-400h160v-160H180v160Zm440 0h160v-160H620v160ZM180-180h160v-160H180v160Zm440 0h160v-160H620v160Z\"/>\n",
              "  </svg>\n",
              "    </button>\n",
              "\n",
              "  <style>\n",
              "    .colab-df-container {\n",
              "      display:flex;\n",
              "      gap: 12px;\n",
              "    }\n",
              "\n",
              "    .colab-df-convert {\n",
              "      background-color: #E8F0FE;\n",
              "      border: none;\n",
              "      border-radius: 50%;\n",
              "      cursor: pointer;\n",
              "      display: none;\n",
              "      fill: #1967D2;\n",
              "      height: 32px;\n",
              "      padding: 0 0 0 0;\n",
              "      width: 32px;\n",
              "    }\n",
              "\n",
              "    .colab-df-convert:hover {\n",
              "      background-color: #E2EBFA;\n",
              "      box-shadow: 0px 1px 2px rgba(60, 64, 67, 0.3), 0px 1px 3px 1px rgba(60, 64, 67, 0.15);\n",
              "      fill: #174EA6;\n",
              "    }\n",
              "\n",
              "    .colab-df-buttons div {\n",
              "      margin-bottom: 4px;\n",
              "    }\n",
              "\n",
              "    [theme=dark] .colab-df-convert {\n",
              "      background-color: #3B4455;\n",
              "      fill: #D2E3FC;\n",
              "    }\n",
              "\n",
              "    [theme=dark] .colab-df-convert:hover {\n",
              "      background-color: #434B5C;\n",
              "      box-shadow: 0px 1px 3px 1px rgba(0, 0, 0, 0.15);\n",
              "      filter: drop-shadow(0px 1px 2px rgba(0, 0, 0, 0.3));\n",
              "      fill: #FFFFFF;\n",
              "    }\n",
              "  </style>\n",
              "\n",
              "    <script>\n",
              "      const buttonEl =\n",
              "        document.querySelector('#df-c03b83bb-83c8-4007-bc4f-57f9ecf7034a button.colab-df-convert');\n",
              "      buttonEl.style.display =\n",
              "        google.colab.kernel.accessAllowed ? 'block' : 'none';\n",
              "\n",
              "      async function convertToInteractive(key) {\n",
              "        const element = document.querySelector('#df-c03b83bb-83c8-4007-bc4f-57f9ecf7034a');\n",
              "        const dataTable =\n",
              "          await google.colab.kernel.invokeFunction('convertToInteractive',\n",
              "                                                    [key], {});\n",
              "        if (!dataTable) return;\n",
              "\n",
              "        const docLinkHtml = 'Like what you see? Visit the ' +\n",
              "          '<a target=\"_blank\" href=https://colab.research.google.com/notebooks/data_table.ipynb>data table notebook</a>'\n",
              "          + ' to learn more about interactive tables.';\n",
              "        element.innerHTML = '';\n",
              "        dataTable['output_type'] = 'display_data';\n",
              "        await google.colab.output.renderOutput(dataTable, element);\n",
              "        const docLink = document.createElement('div');\n",
              "        docLink.innerHTML = docLinkHtml;\n",
              "        element.appendChild(docLink);\n",
              "      }\n",
              "    </script>\n",
              "  </div>\n",
              "\n",
              "\n",
              "<div id=\"df-c17a0343-dc80-4b36-8b56-4875f0fa1c08\">\n",
              "  <button class=\"colab-df-quickchart\" onclick=\"quickchart('df-c17a0343-dc80-4b36-8b56-4875f0fa1c08')\"\n",
              "            title=\"Suggest charts\"\n",
              "            style=\"display:none;\">\n",
              "\n",
              "<svg xmlns=\"http://www.w3.org/2000/svg\" height=\"24px\"viewBox=\"0 0 24 24\"\n",
              "     width=\"24px\">\n",
              "    <g>\n",
              "        <path d=\"M19 3H5c-1.1 0-2 .9-2 2v14c0 1.1.9 2 2 2h14c1.1 0 2-.9 2-2V5c0-1.1-.9-2-2-2zM9 17H7v-7h2v7zm4 0h-2V7h2v10zm4 0h-2v-4h2v4z\"/>\n",
              "    </g>\n",
              "</svg>\n",
              "  </button>\n",
              "\n",
              "<style>\n",
              "  .colab-df-quickchart {\n",
              "      --bg-color: #E8F0FE;\n",
              "      --fill-color: #1967D2;\n",
              "      --hover-bg-color: #E2EBFA;\n",
              "      --hover-fill-color: #174EA6;\n",
              "      --disabled-fill-color: #AAA;\n",
              "      --disabled-bg-color: #DDD;\n",
              "  }\n",
              "\n",
              "  [theme=dark] .colab-df-quickchart {\n",
              "      --bg-color: #3B4455;\n",
              "      --fill-color: #D2E3FC;\n",
              "      --hover-bg-color: #434B5C;\n",
              "      --hover-fill-color: #FFFFFF;\n",
              "      --disabled-bg-color: #3B4455;\n",
              "      --disabled-fill-color: #666;\n",
              "  }\n",
              "\n",
              "  .colab-df-quickchart {\n",
              "    background-color: var(--bg-color);\n",
              "    border: none;\n",
              "    border-radius: 50%;\n",
              "    cursor: pointer;\n",
              "    display: none;\n",
              "    fill: var(--fill-color);\n",
              "    height: 32px;\n",
              "    padding: 0;\n",
              "    width: 32px;\n",
              "  }\n",
              "\n",
              "  .colab-df-quickchart:hover {\n",
              "    background-color: var(--hover-bg-color);\n",
              "    box-shadow: 0 1px 2px rgba(60, 64, 67, 0.3), 0 1px 3px 1px rgba(60, 64, 67, 0.15);\n",
              "    fill: var(--button-hover-fill-color);\n",
              "  }\n",
              "\n",
              "  .colab-df-quickchart-complete:disabled,\n",
              "  .colab-df-quickchart-complete:disabled:hover {\n",
              "    background-color: var(--disabled-bg-color);\n",
              "    fill: var(--disabled-fill-color);\n",
              "    box-shadow: none;\n",
              "  }\n",
              "\n",
              "  .colab-df-spinner {\n",
              "    border: 2px solid var(--fill-color);\n",
              "    border-color: transparent;\n",
              "    border-bottom-color: var(--fill-color);\n",
              "    animation:\n",
              "      spin 1s steps(1) infinite;\n",
              "  }\n",
              "\n",
              "  @keyframes spin {\n",
              "    0% {\n",
              "      border-color: transparent;\n",
              "      border-bottom-color: var(--fill-color);\n",
              "      border-left-color: var(--fill-color);\n",
              "    }\n",
              "    20% {\n",
              "      border-color: transparent;\n",
              "      border-left-color: var(--fill-color);\n",
              "      border-top-color: var(--fill-color);\n",
              "    }\n",
              "    30% {\n",
              "      border-color: transparent;\n",
              "      border-left-color: var(--fill-color);\n",
              "      border-top-color: var(--fill-color);\n",
              "      border-right-color: var(--fill-color);\n",
              "    }\n",
              "    40% {\n",
              "      border-color: transparent;\n",
              "      border-right-color: var(--fill-color);\n",
              "      border-top-color: var(--fill-color);\n",
              "    }\n",
              "    60% {\n",
              "      border-color: transparent;\n",
              "      border-right-color: var(--fill-color);\n",
              "    }\n",
              "    80% {\n",
              "      border-color: transparent;\n",
              "      border-right-color: var(--fill-color);\n",
              "      border-bottom-color: var(--fill-color);\n",
              "    }\n",
              "    90% {\n",
              "      border-color: transparent;\n",
              "      border-bottom-color: var(--fill-color);\n",
              "    }\n",
              "  }\n",
              "</style>\n",
              "\n",
              "  <script>\n",
              "    async function quickchart(key) {\n",
              "      const quickchartButtonEl =\n",
              "        document.querySelector('#' + key + ' button');\n",
              "      quickchartButtonEl.disabled = true;  // To prevent multiple clicks.\n",
              "      quickchartButtonEl.classList.add('colab-df-spinner');\n",
              "      try {\n",
              "        const charts = await google.colab.kernel.invokeFunction(\n",
              "            'suggestCharts', [key], {});\n",
              "      } catch (error) {\n",
              "        console.error('Error during call to suggestCharts:', error);\n",
              "      }\n",
              "      quickchartButtonEl.classList.remove('colab-df-spinner');\n",
              "      quickchartButtonEl.classList.add('colab-df-quickchart-complete');\n",
              "    }\n",
              "    (() => {\n",
              "      let quickchartButtonEl =\n",
              "        document.querySelector('#df-c17a0343-dc80-4b36-8b56-4875f0fa1c08 button');\n",
              "      quickchartButtonEl.style.display =\n",
              "        google.colab.kernel.accessAllowed ? 'block' : 'none';\n",
              "    })();\n",
              "  </script>\n",
              "</div>\n",
              "\n",
              "    </div>\n",
              "  </div>\n"
            ],
            "application/vnd.google.colaboratory.intrinsic+json": {
              "type": "dataframe",
              "variable_name": "df",
              "summary": "{\n  \"name\": \"df\",\n  \"rows\": 1338,\n  \"fields\": [\n    {\n      \"column\": \"age\",\n      \"properties\": {\n        \"dtype\": \"number\",\n        \"std\": 14,\n        \"min\": 18,\n        \"max\": 64,\n        \"num_unique_values\": 47,\n        \"samples\": [\n          21,\n          45,\n          36\n        ],\n        \"semantic_type\": \"\",\n        \"description\": \"\"\n      }\n    },\n    {\n      \"column\": \"sex\",\n      \"properties\": {\n        \"dtype\": \"category\",\n        \"num_unique_values\": 2,\n        \"samples\": [\n          \"male\",\n          \"female\"\n        ],\n        \"semantic_type\": \"\",\n        \"description\": \"\"\n      }\n    },\n    {\n      \"column\": \"bmi\",\n      \"properties\": {\n        \"dtype\": \"number\",\n        \"std\": 6.098382190003366,\n        \"min\": 16.0,\n        \"max\": 53.1,\n        \"num_unique_values\": 275,\n        \"samples\": [\n          28.6,\n          20.9\n        ],\n        \"semantic_type\": \"\",\n        \"description\": \"\"\n      }\n    },\n    {\n      \"column\": \"children\",\n      \"properties\": {\n        \"dtype\": \"number\",\n        \"std\": 1,\n        \"min\": 0,\n        \"max\": 5,\n        \"num_unique_values\": 6,\n        \"samples\": [\n          0,\n          1\n        ],\n        \"semantic_type\": \"\",\n        \"description\": \"\"\n      }\n    },\n    {\n      \"column\": \"smoker\",\n      \"properties\": {\n        \"dtype\": \"category\",\n        \"num_unique_values\": 2,\n        \"samples\": [\n          \"no\",\n          \"yes\"\n        ],\n        \"semantic_type\": \"\",\n        \"description\": \"\"\n      }\n    },\n    {\n      \"column\": \"region\",\n      \"properties\": {\n        \"dtype\": \"category\",\n        \"num_unique_values\": 4,\n        \"samples\": [\n          \"southeast\",\n          \"northeast\"\n        ],\n        \"semantic_type\": \"\",\n        \"description\": \"\"\n      }\n    },\n    {\n      \"column\": \"expenses\",\n      \"properties\": {\n        \"dtype\": \"number\",\n        \"std\": 12110.011239706457,\n        \"min\": 1121.87,\n        \"max\": 63770.43,\n        \"num_unique_values\": 1337,\n        \"samples\": [\n          8688.86,\n          5708.87\n        ],\n        \"semantic_type\": \"\",\n        \"description\": \"\"\n      }\n    }\n  ]\n}"
            }
          },
          "metadata": {},
          "execution_count": 12
        }
      ],
      "source": [
        "df = pd.read_csv(\"https://raw.githubusercontent.com/mujahidashraf/data/refs/heads/main/insurance.csv\")\n",
        "df.head()"
      ]
    },
    {
      "cell_type": "code",
      "source": [
        "\n",
        "df = pd.read_csv(\"https://raw.githubusercontent.com/mujahidashraf/data/refs/heads/main/insurance.csv\")\n",
        "le = LabelEncoder()\n",
        "df['sex'] = le.fit_transform(df['sex'])\n",
        "df['smoker'] = le.fit_transform(df['smoker'])\n",
        "df['region'] = le.fit_transform(df['region'])\n",
        "\n",
        "\n",
        "\n",
        "X = df[['age','sex','bmi','children','smoker','region']]\n",
        "y = df['expenses']\n",
        "scaler = StandardScaler()\n",
        "X = scaler.fit_transform(X)\n",
        "poly = PolynomialFeatures(degree=2)\n",
        "co2_poly = poly.fit_transform(X)\n",
        "X_train, X_test, y_train, y_test = train_test_split(co2_poly,y, train_size=0.7, random_state=10)\n",
        "\n",
        "regr = LinearRegression()\n",
        "regr.fit(X_train, y_train)\n",
        "\n",
        "predictedCO2 = regr.predict(X_test)\n",
        "#train_score_lr = regr.score(X_train, y_train)\n",
        "#test_score_lr = regr.score(X_test, y_test)\n",
        "\n",
        "#print(\"The train score for lr model is {}\".format(train_score_lr))\n",
        "#print(\"The test score for lr model is {}\".format(test_score_lr))\n",
        "\n",
        "mae = mean_absolute_error(y_test , predictedCO2)\n",
        "mse = mean_squared_error(y_test , predictedCO2)\n",
        "rmse = np.sqrt(mse)\n",
        "r2=r2_score(y_test , predictedCO2)\n",
        "\n",
        "print(f\"MAE: {mae}\")\n",
        "print(f\"MSE: {mse}\")\n",
        "print(f\"RMSE: {rmse}\")\n",
        "print(f\"R2: {r2}\")\n",
        "print(100*'_')"
      ],
      "metadata": {
        "colab": {
          "base_uri": "https://localhost:8080/"
        },
        "id": "-9FFOQUwyVdx",
        "outputId": "91a34667-1c25-4a6a-c1d0-146cdd41db54"
      },
      "execution_count": null,
      "outputs": [
        {
          "output_type": "stream",
          "name": "stdout",
          "text": [
            "MAE: 2917.6876797080376\n",
            "MSE: 22290096.951296516\n",
            "RMSE: 4721.238921225711\n",
            "R2: 0.8283500631159754\n",
            "____________________________________________________________________________________________________\n"
          ]
        }
      ]
    },
    {
      "cell_type": "markdown",
      "source": [
        "##one hot encoding"
      ],
      "metadata": {
        "id": "B7Ft7iQ0zv9-"
      }
    },
    {
      "cell_type": "code",
      "source": [
        "df = pd.read_csv(\"https://raw.githubusercontent.com/mujahidashraf/data/refs/heads/main/insurance.csv\")\n",
        "encoder = OneHotEncoder(sparse_output=False)\n",
        "\n",
        "# Fitting the encoder and transforming the data\n",
        "one_hot_encoded_array = encoder.fit_transform(df[['sex', 'smoker','region']])\n",
        "\n",
        "# The transformed data is an array, so we need to convert it back to a DataFrame\n",
        "one_hot_encoded_df = pd.DataFrame(one_hot_encoded_array, columns=encoder.get_feature_names_out(['sex', 'smoker','region']))\n",
        "\n",
        "# Concatenating the one-hot encoded columns to the original DataFrame\n",
        "df = pd.concat([df, one_hot_encoded_df], axis=1).drop(['sex', 'smoker','region'], axis=1)\n",
        "#print(df.columns)\n",
        "X = df.drop(columns=['expenses'])\n",
        "y = df['expenses']\n",
        "poly = PolynomialFeatures(degree=2)\n",
        "co2_poly = poly.fit_transform(X)\n",
        "X_train, X_test, y_train, y_test = train_test_split(co2_poly,y, train_size=0.8, random_state=10)\n",
        "\n",
        "regr = LinearRegression()\n",
        "regr.fit(X_train, y_train)\n",
        "\n",
        "predictedCO2 = regr.predict(X_test)\n",
        "\n",
        "mae = mean_absolute_error(y_test , predictedCO2)\n",
        "mse = mean_squared_error(y_test , predictedCO2)\n",
        "rmse = np.sqrt(mse)\n",
        "r2=r2_score(y_test , predictedCO2)\n",
        "\n",
        "print(f\"MAE: {mae}\")\n",
        "print(f\"MSE: {mse}\")\n",
        "print(f\"RMSE: {rmse}\")\n",
        "print(f\"R2: {r2}\")\n",
        "print(100*'_')"
      ],
      "metadata": {
        "colab": {
          "base_uri": "https://localhost:8080/"
        },
        "id": "sAO3d3mPyVao",
        "outputId": "e814773d-0157-4986-a449-77047c730cfd"
      },
      "execution_count": null,
      "outputs": [
        {
          "output_type": "stream",
          "name": "stdout",
          "text": [
            "MAE: 3158.145385579588\n",
            "MSE: 29126386.793914936\n",
            "RMSE: 5396.886768676451\n",
            "R2: 0.792326258736392\n",
            "____________________________________________________________________________________________________\n"
          ]
        }
      ]
    },
    {
      "cell_type": "markdown",
      "source": [
        "#LASSO"
      ],
      "metadata": {
        "id": "cfwxDhW-0agc"
      }
    },
    {
      "cell_type": "markdown",
      "source": [
        "##label encoding"
      ],
      "metadata": {
        "id": "c493xGBS0eKF"
      }
    },
    {
      "cell_type": "code",
      "source": [
        "df = pd.read_csv(\"https://raw.githubusercontent.com/mujahidashraf/data/refs/heads/main/insurance.csv\")\n",
        "le = LabelEncoder()\n",
        "df['sex'] = le.fit_transform(df['sex'])\n",
        "df['smoker'] = le.fit_transform(df['smoker'])\n",
        "df['region'] = le.fit_transform(df['region'])\n",
        "\n",
        "\n",
        "X = df[['age','sex','bmi','children','smoker','region']]\n",
        "y = df['expenses']\n",
        "scaler = StandardScaler()\n",
        "X = scaler.fit_transform(X)\n",
        "\n",
        "poly = PolynomialFeatures(degree=2)\n",
        "co2_poly = poly.fit_transform(X)\n",
        "X_train, X_test, y_train, y_test = train_test_split(co2_poly,y, train_size=0.8, random_state=10)\n",
        "\n",
        "\n",
        "l1 = LassoCV(alphas=[0.001,0.01,.1,10,80,85,90,95,96,97,100,110,1000])  # alpha is the regularization parameter\n",
        "l1.fit(X_train, y_train)\n",
        "#regr = LinearRegression()\n",
        "#regr.fit(X_train, y_train)\n",
        "\n",
        "predictedCO2 = l1.predict(X_test)\n",
        "\n",
        "mae = mean_absolute_error(y_test  , predictedCO2)\n",
        "mse = mean_squared_error(y_test  , predictedCO2)\n",
        "rmse = np.sqrt(mse)\n",
        "r2=r2_score(y_test  , predictedCO2)\n",
        "\n",
        "print(f\"MAE: {mae}\")\n",
        "print(f\"MSE: {mse}\")\n",
        "print(f\"RMSE: {rmse}\")\n",
        "print(f\"R2: {r2}\")\n",
        "print(f\"BEST ALPHA: {l1.alpha_}\")\n",
        "print(100*'_')"
      ],
      "metadata": {
        "colab": {
          "base_uri": "https://localhost:8080/"
        },
        "id": "OaUjkIWDygUb",
        "outputId": "8750879c-3787-48aa-9674-47c158223d72"
      },
      "execution_count": null,
      "outputs": [
        {
          "output_type": "stream",
          "name": "stdout",
          "text": [
            "MAE: 3156.7439009249756\n",
            "MSE: 27849147.02965086\n",
            "RMSE: 5277.229105283459\n",
            "R2: 0.8014330924199571\n",
            "BEST ALPHA: 97.0\n",
            "____________________________________________________________________________________________________\n"
          ]
        }
      ]
    },
    {
      "cell_type": "markdown",
      "source": [
        "##One hot encoding"
      ],
      "metadata": {
        "id": "8u-vE4Ur1XFj"
      }
    },
    {
      "cell_type": "code",
      "source": [
        "df = pd.read_csv(\"https://raw.githubusercontent.com/mujahidashraf/data/refs/heads/main/insurance.csv\")\n",
        "encoder = OneHotEncoder(sparse_output=False)\n",
        "\n",
        "# Fitting the encoder and transforming the data\n",
        "one_hot_encoded_array = encoder.fit_transform(df[['sex', 'smoker','region']])\n",
        "\n",
        "# The transformed data is an array, so we need to convert it back to a DataFrame\n",
        "one_hot_encoded_df = pd.DataFrame(one_hot_encoded_array, columns=encoder.get_feature_names_out(['sex', 'smoker','region']))\n",
        "\n",
        "# Concatenating the one-hot encoded columns to the original DataFrame\n",
        "df = pd.concat([df, one_hot_encoded_df], axis=1).drop(['sex', 'smoker','region'], axis=1)\n",
        "#print(df.columns)\n",
        "X = df.drop(columns=['expenses'])\n",
        "y = df['expenses']\n",
        "scaler = StandardScaler()\n",
        "X = scaler.fit_transform(X)\n",
        "\n",
        "poly = PolynomialFeatures(degree=2)\n",
        "co2_poly = poly.fit_transform(X)\n",
        "X_train, X_test, y_train, y_test = train_test_split(co2_poly,y, train_size=0.8, random_state=10)\n",
        "\n",
        "\n",
        "l1 = LassoCV(alphas=[0.001,0.01,.1,10,80,85,90,95,96,97,100,110,1000])  # alpha is the regularization parameter\n",
        "l1.fit(X_train, y_train)\n",
        "#regr = LinearRegression()\n",
        "#regr.fit(X_train, y_train)\n",
        "\n",
        "predictedCO2 = l1.predict(X_test)\n",
        "\n",
        "mae = mean_absolute_error(y_test  , predictedCO2)\n",
        "mse = mean_squared_error(y_test  , predictedCO2)\n",
        "rmse = np.sqrt(mse)\n",
        "r2=r2_score(y_test  , predictedCO2)\n",
        "\n",
        "print(f\"MAE: {mae}\")\n",
        "print(f\"MSE: {mse}\")\n",
        "print(f\"RMSE: {rmse}\")\n",
        "print(f\"R2: {r2}\")\n",
        "print(100*'_')"
      ],
      "metadata": {
        "colab": {
          "base_uri": "https://localhost:8080/"
        },
        "id": "yqTdjVfgyVXG",
        "outputId": "77bd8067-40ff-4168-ab86-efb3b68468fc"
      },
      "execution_count": null,
      "outputs": [
        {
          "output_type": "stream",
          "name": "stdout",
          "text": [
            "MAE: 3172.6936432685497\n",
            "MSE: 28586391.679572184\n",
            "RMSE: 5346.624325644377\n",
            "R2: 0.7961764721683944\n",
            "____________________________________________________________________________________________________\n"
          ]
        }
      ]
    },
    {
      "cell_type": "markdown",
      "source": [
        "#Ridge"
      ],
      "metadata": {
        "id": "2GDEgfhy2LQe"
      }
    },
    {
      "cell_type": "markdown",
      "source": [
        "##label encoder"
      ],
      "metadata": {
        "id": "bIPySV_O2NwM"
      }
    },
    {
      "cell_type": "code",
      "source": [
        "df = pd.read_csv(\"https://raw.githubusercontent.com/mujahidashraf/data/refs/heads/main/insurance.csv\")\n",
        "le = LabelEncoder()\n",
        "df['sex'] = le.fit_transform(df['sex'])\n",
        "df['smoker'] = le.fit_transform(df['smoker'])\n",
        "df['region'] = le.fit_transform(df['region'])\n",
        "\n",
        "\n",
        "X = df[['age','sex','bmi','children','smoker','region']]\n",
        "y = df['expenses']\n",
        "scaler = StandardScaler()\n",
        "X = scaler.fit_transform(X)\n",
        "poly = PolynomialFeatures(degree=2)\n",
        "co2_poly = poly.fit_transform(X)\n",
        "X_train, X_test, y_train, y_test = train_test_split(co2_poly,y, train_size=0.8, random_state=10)\n",
        "\n",
        "\n",
        "l2 = RidgeCV(alphas=[0.001,0.01,.1,9,10,13,15,20,21,25,30,100])  # alpha is the regularization parameter\n",
        "l2.fit(X_train, y_train)\n",
        "#regr = LinearRegression()\n",
        "#regr.fit(X_train, y_train)\n",
        "\n",
        "predictedCO2 = l2.predict(X_test)\n",
        "\n",
        "mae = mean_absolute_error(y_test  , predictedCO2)\n",
        "mse = mean_squared_error(y_test  , predictedCO2)\n",
        "rmse = np.sqrt(mse)\n",
        "r2=r2_score(y_test  , predictedCO2)\n",
        "\n",
        "print(f\"MAE: {mae}\")\n",
        "print(f\"MSE: {mse}\")\n",
        "print(f\"RMSE: {rmse}\")\n",
        "print(f\"R2: {r2}\")\n",
        "print(f\"BEST ALPHA: {l2.alpha_}\")\n",
        "print(100*'_')"
      ],
      "metadata": {
        "colab": {
          "base_uri": "https://localhost:8080/"
        },
        "id": "c54g5zJxyVUH",
        "outputId": "cd5d5fac-6981-4546-d037-ddd9f3b4b054"
      },
      "execution_count": null,
      "outputs": [
        {
          "output_type": "stream",
          "name": "stdout",
          "text": [
            "MAE: 3129.8293514290554\n",
            "MSE: 27927791.51905898\n",
            "RMSE: 5284.675157382805\n",
            "R2: 0.800872350180945\n",
            "BEST ALPHA: 15.0\n",
            "____________________________________________________________________________________________________\n"
          ]
        }
      ]
    },
    {
      "cell_type": "markdown",
      "source": [
        "##one hot encoder"
      ],
      "metadata": {
        "id": "8vC_Fx8cQkeF"
      }
    },
    {
      "cell_type": "code",
      "source": [
        "df = pd.read_csv(\"https://raw.githubusercontent.com/mujahidashraf/data/refs/heads/main/insurance.csv\")\n",
        "encoder = OneHotEncoder(sparse_output=False)\n",
        "\n",
        "# Fitting the encoder and transforming the data\n",
        "one_hot_encoded_array = encoder.fit_transform(df[['sex', 'smoker','region']])\n",
        "\n",
        "# The transformed data is an array, so we need to convert it back to a DataFrame\n",
        "one_hot_encoded_df = pd.DataFrame(one_hot_encoded_array, columns=encoder.get_feature_names_out(['sex', 'smoker','region']))\n",
        "\n",
        "# Concatenating the one-hot encoded columns to the original DataFrame\n",
        "df = pd.concat([df, one_hot_encoded_df], axis=1).drop(['sex', 'smoker','region'], axis=1)\n",
        "#print(df.columns)\n",
        "X = df.drop(columns=['expenses'])\n",
        "y = df['expenses']\n",
        "scaler = StandardScaler()\n",
        "X = scaler.fit_transform(X)\n",
        "\n",
        "poly = PolynomialFeatures(degree=2)\n",
        "co2_poly = poly.fit_transform(X)\n",
        "X_train, X_test, y_train, y_test = train_test_split(co2_poly,y, train_size=0.8, random_state=10)\n",
        "\n",
        "\n",
        "l2 = RidgeCV(alphas=[0.001,0.01,.1,9,10,13,15,20,21,25,30,100])  # alpha is the regularization parameter\n",
        "l2.fit(X_train, y_train)\n",
        "#regr = LinearRegression()\n",
        "#regr.fit(X_train, y_train)\n",
        "\n",
        "predictedCO2 = l2.predict(X_test)\n",
        "\n",
        "mae = mean_absolute_error(y_test  , predictedCO2)\n",
        "mse = mean_squared_error(y_test  , predictedCO2)\n",
        "rmse = np.sqrt(mse)\n",
        "r2=r2_score(y_test  , predictedCO2)\n",
        "\n",
        "print(f\"MAE: {mae}\")\n",
        "print(f\"MSE: {mse}\")\n",
        "print(f\"RMSE: {rmse}\")\n",
        "print(f\"R2: {r2}\")\n",
        "print(f\"BEST ALPHA: {l2.alpha_}\")\n",
        "print(100*'_')"
      ],
      "metadata": {
        "colab": {
          "base_uri": "https://localhost:8080/"
        },
        "id": "V49Vy0DayVQ-",
        "outputId": "537a6461-dbbf-4d51-d1cc-196e63c6a7d2"
      },
      "execution_count": null,
      "outputs": [
        {
          "output_type": "stream",
          "name": "stdout",
          "text": [
            "MAE: 3157.786140077261\n",
            "MSE: 28925463.395054642\n",
            "RMSE: 5378.239804532208\n",
            "R2: 0.7937588605295343\n",
            "BEST ALPHA: 30.0\n",
            "____________________________________________________________________________________________________\n"
          ]
        }
      ]
    },
    {
      "cell_type": "markdown",
      "source": [
        "#Elastic net"
      ],
      "metadata": {
        "id": "prevv8mSUZjJ"
      }
    },
    {
      "cell_type": "markdown",
      "source": [
        "##label encoder"
      ],
      "metadata": {
        "id": "vv5CkbfiVTqS"
      }
    },
    {
      "cell_type": "code",
      "source": [
        "df = pd.read_csv(\"https://raw.githubusercontent.com/mujahidashraf/data/refs/heads/main/insurance.csv\")\n",
        "le = LabelEncoder()\n",
        "df['sex'] = le.fit_transform(df['sex'])\n",
        "df['smoker'] = le.fit_transform(df['smoker'])\n",
        "df['region'] = le.fit_transform(df['region'])\n",
        "\n",
        "\n",
        "X = df[['age','sex','bmi','children','smoker','region']]\n",
        "y = df['expenses']\n",
        "scaler = StandardScaler()\n",
        "X = scaler.fit_transform(X)\n",
        "\n",
        "poly = PolynomialFeatures(degree=2)\n",
        "co2_poly = poly.fit_transform(X)\n",
        "X_train, X_test, y_train, y_test = train_test_split(co2_poly,y, train_size=0.8, random_state=10)\n",
        "\n",
        "\n",
        "ElasticNett = ElasticNetCV(alphas = [0.0001, 0.001,0.01, 0.1,1,2],l1_ratio =[0.01,.1, .5, .7, .9, .95, .99, 1])  # alpha is the regularization parameter\n",
        "ElasticNett.fit(X_train, y_train)\n",
        "#regr = LinearRegression()\n",
        "#regr.fit(X_train, y_train)\n",
        "\n",
        "predictedCO2 = ElasticNett.predict(X_test)\n",
        "\n",
        "mae = mean_absolute_error(y_test  , predictedCO2)\n",
        "mse = mean_squared_error(y_test  , predictedCO2)\n",
        "rmse = np.sqrt(mse)\n",
        "r2=r2_score(y_test  , predictedCO2)\n",
        "\n",
        "print(f\"MAE: {mae}\")\n",
        "print(f\"MSE: {mse}\")\n",
        "print(f\"RMSE: {rmse}\")\n",
        "print(f\"R2: {r2}\")\n",
        "print(ElasticNett.alpha_ )\n",
        "print(ElasticNett.l1_ratio_)\n",
        "print(100*'_')"
      ],
      "metadata": {
        "id": "wIVn7lA6yVKU",
        "colab": {
          "base_uri": "https://localhost:8080/"
        },
        "outputId": "ce5be066-d183-4135-fb81-8e5568c6a4c1"
      },
      "execution_count": null,
      "outputs": [
        {
          "output_type": "stream",
          "name": "stdout",
          "text": [
            "MAE: 3134.2965780439135\n",
            "MSE: 27899097.828929428\n",
            "RMSE: 5281.959658017981\n",
            "R2: 0.8010769387563157\n",
            "2.0\n",
            "0.99\n",
            "____________________________________________________________________________________________________\n"
          ]
        }
      ]
    },
    {
      "cell_type": "markdown",
      "source": [
        "##one hot encoding"
      ],
      "metadata": {
        "id": "KSB4C_h3Wrbf"
      }
    },
    {
      "cell_type": "code",
      "source": [
        "\n",
        "df = pd.read_csv(\"https://raw.githubusercontent.com/mujahidashraf/data/refs/heads/main/insurance.csv\")\n",
        "encoder = OneHotEncoder(sparse_output=False)\n",
        "\n",
        "# Fitting the encoder and transforming the data\n",
        "one_hot_encoded_array = encoder.fit_transform(df[['sex', 'smoker','region']])\n",
        "\n",
        "# The transformed data is an array, so we need to convert it back to a DataFrame\n",
        "one_hot_encoded_df = pd.DataFrame(one_hot_encoded_array, columns=encoder.get_feature_names_out(['sex', 'smoker','region']))\n",
        "\n",
        "# Concatenating the one-hot encoded columns to the original DataFrame\n",
        "df = pd.concat([df, one_hot_encoded_df], axis=1).drop(['sex', 'smoker','region'], axis=1)\n",
        "#print(df.columns)\n",
        "X = df.drop(columns=['expenses'])\n",
        "y = df['expenses']\n",
        "scaler = StandardScaler()\n",
        "X = scaler.fit_transform(X)\n",
        "\n",
        "poly = PolynomialFeatures(degree=2)\n",
        "co2_poly = poly.fit_transform(X)\n",
        "X_train, X_test, y_train, y_test = train_test_split(co2_poly,y, train_size=0.8, random_state=10)\n",
        "\n",
        "\n",
        "ElasticNett = ElasticNetCV(alphas = [0.0001, 0.001,0.01, 0.1,1,2],l1_ratio =[0.01,.1, .5, .7, .9, .95, .99, 1])  # alpha is the regularization parameter\n",
        "ElasticNett.fit(X_train, y_train)\n",
        "#regr = LinearRegression()\n",
        "#regr.fit(X_train, y_train)\n",
        "\n",
        "predictedCO2 = ElasticNett.predict(X_test)\n",
        "\n",
        "mae = mean_absolute_error(y_test  , predictedCO2)\n",
        "mse = mean_squared_error(y_test  , predictedCO2)\n",
        "rmse = np.sqrt(mse)\n",
        "r2=r2_score(y_test  , predictedCO2)\n",
        "\n",
        "print(f\"MAE: {mae}\")\n",
        "print(f\"MSE: {mse}\")\n",
        "print(f\"RMSE: {rmse}\")\n",
        "print(f\"R2: {r2}\")\n",
        "print(ElasticNett.alpha_ )\n",
        "print(ElasticNett.l1_ratio_)\n",
        "print(100*'_')"
      ],
      "metadata": {
        "id": "YsWdPCr9yVHN",
        "colab": {
          "base_uri": "https://localhost:8080/"
        },
        "outputId": "5a3c21dd-1eff-4798-e213-b8156d5fbcae"
      },
      "execution_count": null,
      "outputs": [
        {
          "output_type": "stream",
          "name": "stdout",
          "text": [
            "MAE: 3156.2713956210646\n",
            "MSE: 28961615.555003032\n",
            "RMSE: 5381.599720808213\n",
            "R2: 0.79350109239769\n",
            "2.0\n",
            "0.99\n",
            "____________________________________________________________________________________________________\n"
          ]
        }
      ]
    },
    {
      "cell_type": "code",
      "source": [],
      "metadata": {
        "id": "tTAhfOvgyVD1"
      },
      "execution_count": null,
      "outputs": []
    },
    {
      "cell_type": "code",
      "source": [],
      "metadata": {
        "id": "7rfXP98UyU_8"
      },
      "execution_count": null,
      "outputs": []
    }
  ]
}