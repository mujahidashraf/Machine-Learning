{
  "nbformat": 4,
  "nbformat_minor": 0,
  "metadata": {
    "colab": {
      "provenance": []
    },
    "kernelspec": {
      "name": "python3",
      "display_name": "Python 3"
    },
    "language_info": {
      "name": "python"
    }
  },
  "cells": [
    {
      "cell_type": "code",
      "execution_count": null,
      "metadata": {
        "id": "NcaDj95ZBy3D"
      },
      "outputs": [],
      "source": [
        "import matplotlib.pyplot as plt\n",
        "import numpy as np\n",
        "import pandas as pd\n",
        "from sklearn.linear_model import LinearRegression , Ridge, Lasso\n",
        "from sklearn.preprocessing import LabelEncoder\n",
        "from sklearn.preprocessing import OneHotEncoder\n",
        "from sklearn.preprocessing import PolynomialFeatures\n",
        "from sklearn.metrics import mean_absolute_error, mean_absolute_percentage_error, mean_squared_error,r2_score\n",
        "from sklearn.model_selection import train_test_split"
      ]
    },
    {
      "cell_type": "markdown",
      "source": [
        "#with simple **train test**\n"
      ],
      "metadata": {
        "id": "olUgWQSxEaw5"
      }
    },
    {
      "cell_type": "markdown",
      "source": [
        "##Label encoding"
      ],
      "metadata": {
        "id": "Ce9dXarMHO3m"
      }
    },
    {
      "cell_type": "code",
      "source": [
        "df = pd.read_csv(\"https://raw.githubusercontent.com/mujahidashraf/data/ab06025689b4d8904b6a3e330dc8012cf4316f92/data.csv\")\n",
        "le = LabelEncoder()\n",
        "df['Car'] = le.fit_transform(df['Car'])\n",
        "df['Model'] = le.fit_transform(df['Model'])\n",
        "\n",
        "\n",
        "X = df[['Car'\t,'Model',\t'Volume',\t'Weight']]\n",
        "y = df['CO2']\n",
        "X_train, X_test, y_train, y_test = train_test_split(X,y, train_size=0.8, random_state=10)\n",
        "\n",
        "regr = LinearRegression()\n",
        "regr.fit(X_train, y_train)\n",
        "\n",
        "predictedCO2 = regr.predict(X_test)\n",
        "\n",
        "mae = mean_absolute_error(y_test , predictedCO2)\n",
        "mse = mean_squared_error(y_test , predictedCO2)\n",
        "rmse = np.sqrt(mse)\n",
        "r2=r2_score(y_test , predictedCO2)\n",
        "\n",
        "print(f\"MAE: {mae}\")\n",
        "print(f\"MSE: {mse}\")\n",
        "print(f\"RMSE: {rmse}\")\n",
        "print(f\"R2: {r2}\")\n",
        "print(100*'_')\n",
        "\n"
      ],
      "metadata": {
        "colab": {
          "base_uri": "https://localhost:8080/"
        },
        "id": "Q4wlF3riD9iH",
        "outputId": "15d27efb-02ed-45c5-fdfa-cc2d30276577"
      },
      "execution_count": null,
      "outputs": [
        {
          "output_type": "stream",
          "name": "stdout",
          "text": [
            "MAE: 5.705962317776956\n",
            "MSE: 44.50925876067645\n",
            "RMSE: 6.671525969422322\n",
            "R2: 0.3163924740380867\n",
            "____________________________________________________________________________________________________\n"
          ]
        }
      ]
    },
    {
      "cell_type": "markdown",
      "source": [
        "##One Hot Encoding\n"
      ],
      "metadata": {
        "id": "A_str0oXHZ3-"
      }
    },
    {
      "cell_type": "code",
      "source": [
        "df = pd.read_csv(\"https://raw.githubusercontent.com/mujahidashraf/data/ab06025689b4d8904b6a3e330dc8012cf4316f92/data.csv\")\n",
        "encoder = OneHotEncoder(sparse_output=False)\n",
        "\n",
        "# Fitting the encoder and transforming the data\n",
        "one_hot_encoded_array = encoder.fit_transform(df[['Car', 'Model']])\n",
        "\n",
        "# The transformed data is an array, so we need to convert it back to a DataFrame\n",
        "one_hot_encoded_df = pd.DataFrame(one_hot_encoded_array, columns=encoder.get_feature_names_out(['Car', 'Model']))\n",
        "\n",
        "# Concatenating the one-hot encoded columns to the original DataFrame\n",
        "df = pd.concat([df, one_hot_encoded_df], axis=1).drop(['Car', 'Model'], axis=1)\n",
        "#print(df.columns)\n",
        "X = df.drop(columns=['CO2'])\n",
        "y = df['CO2']\n",
        "\n",
        "X_train, X_test, y_train, y_test = train_test_split(X,y, train_size=0.8, random_state=10)\n",
        "\n",
        "regr = LinearRegression()\n",
        "regr.fit(X_train, y_train)\n",
        "\n",
        "predictedCO2 = regr.predict(X_test)\n",
        "\n",
        "mae = mean_absolute_error(y_test , predictedCO2)\n",
        "mse = mean_squared_error(y_test , predictedCO2)\n",
        "rmse = np.sqrt(mse)\n",
        "r2=r2_score(y_test , predictedCO2)\n",
        "\n",
        "print(f\"MAE: {mae}\")\n",
        "print(f\"MSE: {mse}\")\n",
        "print(f\"RMSE: {rmse}\")\n",
        "print(f\"R2: {r2}\")\n",
        "print(100*'_')\n"
      ],
      "metadata": {
        "colab": {
          "base_uri": "https://localhost:8080/"
        },
        "id": "g0ZshhofD9YL",
        "outputId": "2de4a109-8cc8-45ea-a36c-31ca96d24e28"
      },
      "execution_count": null,
      "outputs": [
        {
          "output_type": "stream",
          "name": "stdout",
          "text": [
            "MAE: 7.004939976173425\n",
            "MSE: 60.52400234879123\n",
            "RMSE: 7.779717369467302\n",
            "R2: 0.0704256898673773\n",
            "____________________________________________________________________________________________________\n"
          ]
        }
      ]
    },
    {
      "cell_type": "markdown",
      "source": [
        "#Applying Lasso"
      ],
      "metadata": {
        "id": "JI3Xg26JJ1uM"
      }
    },
    {
      "cell_type": "markdown",
      "source": [
        "##with Label Encoder\n"
      ],
      "metadata": {
        "id": "VvwzUUowJ-48"
      }
    },
    {
      "cell_type": "code",
      "source": [
        "df = pd.read_csv(\"https://raw.githubusercontent.com/mujahidashraf/data/ab06025689b4d8904b6a3e330dc8012cf4316f92/data.csv\")\n",
        "le = LabelEncoder()\n",
        "df['Car'] = le.fit_transform(df['Car'])\n",
        "df['Model'] = le.fit_transform(df['Model'])\n",
        "\n",
        "\n",
        "X = df[['Car'\t,'Model',\t'Volume',\t'Weight']]\n",
        "y = df['CO2']\n",
        "\n",
        "poly = PolynomialFeatures(degree=10)\n",
        "co2_poly = poly.fit_transform(X)\n",
        "#X_train, X_test, y_train, y_test = train_test_split(co2_poly,y, train_size=0.8, random_state=10)\n",
        "\n",
        "\n",
        "l1 = Lasso(alpha=0.5)  # alpha is the regularization parameter\n",
        "l1.fit(co2_poly, y)\n",
        "#regr = LinearRegression()\n",
        "#regr.fit(X_train, y_train)\n",
        "\n",
        "predictedCO2 = l1.predict(co2_poly)\n",
        "\n",
        "mae = mean_absolute_error(y  , predictedCO2)\n",
        "mse = mean_squared_error(y  , predictedCO2)\n",
        "rmse = np.sqrt(mse)\n",
        "r2=r2_score(y  , predictedCO2)\n",
        "\n",
        "print(f\"MAE: {mae}\")\n",
        "print(f\"MSE: {mse}\")\n",
        "print(f\"RMSE: {rmse}\")\n",
        "print(f\"R2: {r2}\")\n",
        "print(100*'_')\n",
        "\n"
      ],
      "metadata": {
        "colab": {
          "base_uri": "https://localhost:8080/"
        },
        "id": "FmuMqC34D9LT",
        "outputId": "91868194-d2b7-4dcb-c310-16b42193cfa6"
      },
      "execution_count": null,
      "outputs": [
        {
          "output_type": "stream",
          "name": "stdout",
          "text": [
            "MAE: 1.3595620071902421\n",
            "MSE: 4.6484805731416765\n",
            "RMSE: 2.156033527833386\n",
            "R2: 0.9139600562305715\n",
            "____________________________________________________________________________________________________\n"
          ]
        },
        {
          "output_type": "stream",
          "name": "stderr",
          "text": [
            "/usr/local/lib/python3.11/dist-packages/sklearn/linear_model/_coordinate_descent.py:695: ConvergenceWarning: Objective did not converge. You might want to increase the number of iterations, check the scale of the features or consider increasing regularisation. Duality gap: 8.664e+01, tolerance: 1.945e-01\n",
            "  model = cd_fast.enet_coordinate_descent(\n"
          ]
        }
      ]
    },
    {
      "cell_type": "code",
      "source": [
        "df = pd.read_csv(\"https://raw.githubusercontent.com/mujahidashraf/data/ab06025689b4d8904b6a3e330dc8012cf4316f92/data.csv\")\n",
        "le = LabelEncoder()\n",
        "df['Car'] = le.fit_transform(df['Car'])\n",
        "df['Model'] = le.fit_transform(df['Model'])\n",
        "\n",
        "\n",
        "X = df[['Car'\t,'Model',\t'Volume',\t'Weight']]\n",
        "y = df['CO2']\n",
        "\n",
        "poly = PolynomialFeatures(degree=2)\n",
        "co2_poly = poly.fit_transform(X)\n",
        "X_train, X_test, y_train, y_test = train_test_split(co2_poly,y, train_size=0.8, random_state=10)\n",
        "\n",
        "\n",
        "l1 = Lasso(alpha=15)  # alpha is the regularization parameter\n",
        "l1.fit(X_train, y_train)\n",
        "\n",
        "predictedCO2 = l1.predict(X_test)\n",
        "\n",
        "mae = mean_absolute_error(y_test  , predictedCO2)\n",
        "mse = mean_squared_error(y_test , predictedCO2)\n",
        "rmse = np.sqrt(mse)\n",
        "r2=r2_score(y_test  , predictedCO2)\n",
        "\n",
        "print(f\"MAE: {mae}\")\n",
        "print(f\"MSE: {mse}\")\n",
        "print(f\"RMSE: {rmse}\")\n",
        "print(f\"R2: {r2}\")\n",
        "print(100*'_')"
      ],
      "metadata": {
        "colab": {
          "base_uri": "https://localhost:8080/"
        },
        "id": "2K01D6zLr1Bx",
        "outputId": "5340c75a-400c-4c96-9615-05328ea41f95"
      },
      "execution_count": null,
      "outputs": [
        {
          "output_type": "stream",
          "name": "stdout",
          "text": [
            "MAE: 5.117954547576161\n",
            "MSE: 39.265674509503256\n",
            "RMSE: 6.266232880248168\n",
            "R2: 0.39692748533520317\n",
            "____________________________________________________________________________________________________\n"
          ]
        },
        {
          "output_type": "stream",
          "name": "stderr",
          "text": [
            "/usr/local/lib/python3.11/dist-packages/sklearn/linear_model/_coordinate_descent.py:695: ConvergenceWarning: Objective did not converge. You might want to increase the number of iterations, check the scale of the features or consider increasing regularisation. Duality gap: 2.233e+02, tolerance: 1.387e-01\n",
            "  model = cd_fast.enet_coordinate_descent(\n"
          ]
        }
      ]
    },
    {
      "cell_type": "markdown",
      "source": [
        "##onehot encoder"
      ],
      "metadata": {
        "id": "chGKb2PTsmN1"
      }
    },
    {
      "cell_type": "code",
      "source": [
        "df = pd.read_csv(\"https://raw.githubusercontent.com/mujahidashraf/data/ab06025689b4d8904b6a3e330dc8012cf4316f92/data.csv\")\n",
        "encoder = OneHotEncoder(sparse_output=False)\n",
        "\n",
        "# Fitting the encoder and transforming the data\n",
        "one_hot_encoded_array = encoder.fit_transform(df[['Car', 'Model']])\n",
        "\n",
        "# The transformed data is an array, so we need to convert it back to a DataFrame\n",
        "one_hot_encoded_df = pd.DataFrame(one_hot_encoded_array, columns=encoder.get_feature_names_out(['Car', 'Model']))\n",
        "\n",
        "# Concatenating the one-hot encoded columns to the original DataFrame\n",
        "df = pd.concat([df, one_hot_encoded_df], axis=1).drop(['Car', 'Model'], axis=1)\n",
        "#print(df.columns)\n",
        "X = df.drop(columns=['CO2'])\n",
        "y = df['CO2']\n",
        "\n",
        "poly = PolynomialFeatures(degree=2)\n",
        "co2_poly = poly.fit_transform(X)\n",
        "#X_train, X_test, y_train, y_test = train_test_split(co2_poly,y, train_size=0.8, random_state=10)\n",
        "\n",
        "\n",
        "l1 = Lasso(alpha=0.1)  # alpha is the regularization parameter\n",
        "l1.fit(co2_poly, y)\n",
        "#regr = LinearRegression()\n",
        "#regr.fit(X_train, y_train)\n",
        "\n",
        "predictedCO2 = l1.predict(co2_poly)\n",
        "\n",
        "mae = mean_absolute_error(y  , predictedCO2)\n",
        "mse = mean_squared_error(y  , predictedCO2)\n",
        "rmse = np.sqrt(mse)\n",
        "r2=r2_score(y  , predictedCO2)\n",
        "\n",
        "print(f\"MAE: {mae}\")\n",
        "print(f\"MSE: {mse}\")\n",
        "print(f\"RMSE: {rmse}\")\n",
        "print(f\"R2: {r2}\")\n",
        "print(100*'_')\n"
      ],
      "metadata": {
        "colab": {
          "base_uri": "https://localhost:8080/"
        },
        "id": "9zi5Bf2ID9H1",
        "outputId": "01a2e48e-3a6b-49ae-d0c0-f38540c12c24"
      },
      "execution_count": null,
      "outputs": [
        {
          "output_type": "stream",
          "name": "stdout",
          "text": [
            "MAE: 0.0027702630082787985\n",
            "MSE: 1.0896759154513885e-05\n",
            "RMSE: 0.003301023955458955\n",
            "R2: 0.9999997983090323\n",
            "____________________________________________________________________________________________________\n"
          ]
        },
        {
          "output_type": "stream",
          "name": "stderr",
          "text": [
            "/usr/local/lib/python3.11/dist-packages/sklearn/linear_model/_coordinate_descent.py:695: ConvergenceWarning: Objective did not converge. You might want to increase the number of iterations, check the scale of the features or consider increasing regularisation. Duality gap: 5.184e-01, tolerance: 1.945e-01\n",
            "  model = cd_fast.enet_coordinate_descent(\n"
          ]
        }
      ]
    },
    {
      "cell_type": "code",
      "source": [
        "df = pd.read_csv(\"https://raw.githubusercontent.com/mujahidashraf/data/ab06025689b4d8904b6a3e330dc8012cf4316f92/data.csv\")\n",
        "encoder = OneHotEncoder(sparse_output=False)\n",
        "\n",
        "# Fitting the encoder and transforming the data\n",
        "one_hot_encoded_array = encoder.fit_transform(df[['Car', 'Model']])\n",
        "\n",
        "# The transformed data is an array, so we need to convert it back to a DataFrame\n",
        "one_hot_encoded_df = pd.DataFrame(one_hot_encoded_array, columns=encoder.get_feature_names_out(['Car', 'Model']))\n",
        "\n",
        "# Concatenating the one-hot encoded columns to the original DataFrame\n",
        "df = pd.concat([df, one_hot_encoded_df], axis=1).drop(['Car', 'Model'], axis=1)\n",
        "#print(df.columns)\n",
        "X = df.drop(columns=['CO2'])\n",
        "y = df['CO2']\n",
        "\n",
        "poly = PolynomialFeatures(degree=2)\n",
        "co2_poly = poly.fit_transform(X)\n",
        "X_train, X_test, y_train, y_test = train_test_split(co2_poly,y, train_size=0.8, random_state=10)\n",
        "\n",
        "\n",
        "l1 = Lasso(alpha=1 )  # alpha is the regularization parameter\n",
        "l1.fit(X_train, y_train)\n",
        "#regr = LinearRegression()\n",
        "#regr.fit(X_train, y_train)\n",
        "\n",
        "predictedCO2 = l1.predict(X_test)\n",
        "\n",
        "mae = mean_absolute_error(y_test  , predictedCO2)\n",
        "mse = mean_squared_error(y_test  , predictedCO2)\n",
        "rmse = np.sqrt(mse)\n",
        "r2=r2_score(y_test  , predictedCO2)\n",
        "\n",
        "print(f\"MAE: {mae}\")\n",
        "print(f\"MSE: {mse}\")\n",
        "print(f\"RMSE: {rmse}\")\n",
        "print(f\"R2: {r2}\")\n",
        "print(100*'_')"
      ],
      "metadata": {
        "colab": {
          "base_uri": "https://localhost:8080/"
        },
        "id": "_h5TPHTyD9EX",
        "outputId": "8fafcc7d-a2ff-4c00-8ed8-62f32875f1b1"
      },
      "execution_count": null,
      "outputs": [
        {
          "output_type": "stream",
          "name": "stdout",
          "text": [
            "MAE: 6.635396219117624\n",
            "MSE: 70.26924995879843\n",
            "RMSE: 8.38267558472821\n",
            "R2: -0.07924933941999024\n",
            "____________________________________________________________________________________________________\n"
          ]
        },
        {
          "output_type": "stream",
          "name": "stderr",
          "text": [
            "/usr/local/lib/python3.11/dist-packages/sklearn/linear_model/_coordinate_descent.py:695: ConvergenceWarning: Objective did not converge. You might want to increase the number of iterations, check the scale of the features or consider increasing regularisation. Duality gap: 2.221e+00, tolerance: 1.387e-01\n",
            "  model = cd_fast.enet_coordinate_descent(\n"
          ]
        }
      ]
    },
    {
      "cell_type": "markdown",
      "source": [
        "#applying ridge"
      ],
      "metadata": {
        "id": "MyJbYavHsuVy"
      }
    },
    {
      "cell_type": "markdown",
      "source": [
        "##label encoding"
      ],
      "metadata": {
        "id": "ZpEtjHUUvjZK"
      }
    },
    {
      "cell_type": "code",
      "source": [
        "df = pd.read_csv(\"https://raw.githubusercontent.com/mujahidashraf/data/ab06025689b4d8904b6a3e330dc8012cf4316f92/data.csv\")\n",
        "le = LabelEncoder()\n",
        "df['Car'] = le.fit_transform(df['Car'])\n",
        "df['Model'] = le.fit_transform(df['Model'])\n",
        "\n",
        "\n",
        "X = df[['Car'\t,'Model',\t'Volume',\t'Weight']]\n",
        "y = df['CO2']\n",
        "\n",
        "poly = PolynomialFeatures(degree=2)\n",
        "co2_poly = poly.fit_transform(X)\n",
        "X_train, X_test, y_train, y_test = train_test_split(co2_poly,y, train_size=0.8, random_state=10)\n",
        "\n",
        "\n",
        "l2 = Ridge(alpha=0.1)  # alpha is the regularization parameter\n",
        "l2.fit(X_train, y_train)\n",
        "\n",
        "predictedCO2 = l2.predict(X_test)\n",
        "\n",
        "mae = mean_absolute_error(y_test  , predictedCO2)\n",
        "mse = mean_squared_error(y_test , predictedCO2)\n",
        "rmse = np.sqrt(mse)\n",
        "r2=r2_score(y_test  , predictedCO2)\n",
        "\n",
        "print(f\"MAE: {mae}\")\n",
        "print(f\"MSE: {mse}\")\n",
        "print(f\"RMSE: {rmse}\")\n",
        "print(f\"R2: {r2}\")\n",
        "print(100*'_')"
      ],
      "metadata": {
        "id": "yxIBw4IrD9AI",
        "colab": {
          "base_uri": "https://localhost:8080/"
        },
        "outputId": "04452cfa-61ce-4eed-ace7-18511e6960a0"
      },
      "execution_count": null,
      "outputs": [
        {
          "output_type": "stream",
          "name": "stdout",
          "text": [
            "MAE: 11.086146485938748\n",
            "MSE: 159.5469149480504\n",
            "RMSE: 12.631188184333665\n",
            "R2: -1.4504445780358113\n",
            "____________________________________________________________________________________________________\n"
          ]
        }
      ]
    },
    {
      "cell_type": "markdown",
      "source": [
        "##one hot encoding"
      ],
      "metadata": {
        "id": "RHZrYEo2wLbS"
      }
    },
    {
      "cell_type": "code",
      "source": [
        "df = pd.read_csv(\"https://raw.githubusercontent.com/mujahidashraf/data/ab06025689b4d8904b6a3e330dc8012cf4316f92/data.csv\")\n",
        "encoder = OneHotEncoder(sparse_output=False)\n",
        "\n",
        "# Fitting the encoder and transforming the data\n",
        "one_hot_encoded_array = encoder.fit_transform(df[['Car', 'Model']])\n",
        "\n",
        "# The transformed data is an array, so we need to convert it back to a DataFrame\n",
        "one_hot_encoded_df = pd.DataFrame(one_hot_encoded_array, columns=encoder.get_feature_names_out(['Car', 'Model']))\n",
        "\n",
        "# Concatenating the one-hot encoded columns to the original DataFrame\n",
        "df = pd.concat([df, one_hot_encoded_df], axis=1).drop(['Car', 'Model'], axis=1)\n",
        "#print(df.columns)\n",
        "X = df.drop(columns=['CO2'])\n",
        "y = df['CO2']\n",
        "\n",
        "poly = PolynomialFeatures(degree=2)\n",
        "co2_poly = poly.fit_transform(X)\n",
        "X_train, X_test, y_train, y_test = train_test_split(co2_poly,y, train_size=0.8, random_state=10)\n",
        "\n",
        "\n",
        "l2 = Ridge(alpha=1 )  # alpha is the regularization parameter\n",
        "l2.fit(X_train, y_train)\n",
        "#regr = LinearRegression()\n",
        "#regr.fit(X_train, y_train)\n",
        "\n",
        "predictedCO2 = l2.predict(X_test)\n",
        "\n",
        "mae = mean_absolute_error(y_test  , predictedCO2)\n",
        "mse = mean_squared_error(y_test  , predictedCO2)\n",
        "rmse = np.sqrt(mse)\n",
        "r2=r2_score(y_test  , predictedCO2)\n",
        "\n",
        "print(f\"MAE: {mae}\")\n",
        "print(f\"MSE: {mse}\")\n",
        "print(f\"RMSE: {rmse}\")\n",
        "print(f\"R2: {r2}\")\n",
        "print(100*'_')"
      ],
      "metadata": {
        "id": "Oe9Pc1NwD87r",
        "colab": {
          "base_uri": "https://localhost:8080/"
        },
        "outputId": "80c6de3a-5ee4-4983-d5ba-455c9334922b"
      },
      "execution_count": null,
      "outputs": [
        {
          "output_type": "stream",
          "name": "stdout",
          "text": [
            "MAE: 6.1972069618007914\n",
            "MSE: 48.03177506594763\n",
            "RMSE: 6.930496018752743\n",
            "R2: 0.26229095171090755\n",
            "____________________________________________________________________________________________________\n"
          ]
        }
      ]
    }
  ]
}