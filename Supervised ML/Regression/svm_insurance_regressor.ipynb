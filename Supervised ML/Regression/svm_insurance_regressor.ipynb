{
  "nbformat": 4,
  "nbformat_minor": 0,
  "metadata": {
    "colab": {
      "provenance": []
    },
    "kernelspec": {
      "name": "python3",
      "display_name": "Python 3"
    },
    "language_info": {
      "name": "python"
    }
  },
  "cells": [
    {
      "cell_type": "code",
      "execution_count": null,
      "metadata": {
        "id": "urSWKgoaz6VO"
      },
      "outputs": [],
      "source": [
        "import matplotlib.pyplot as plt\n",
        "import numpy as np\n",
        "import pandas as pd\n",
        "from sklearn.preprocessing import LabelEncoder ,MinMaxScaler,StandardScaler,RobustScaler\n",
        "from sklearn.model_selection import train_test_split, cross_val_score,GridSearchCV\n",
        "from sklearn.metrics import mean_absolute_error, mean_absolute_percentage_error, mean_squared_error,r2_score,accuracy_score\n",
        "from sklearn.neighbors import KNeighborsRegressor\n",
        "from sklearn.tree import DecisionTreeRegressor\n",
        "from sklearn import tree\n",
        "from sklearn.svm import SVR,  LinearSVR, NuSVR,OneClassSVM\n",
        "from sklearn.pipeline import Pipeline\n",
        "from sklearn.linear_model import LinearRegression, Lasso, Ridge, ElasticNet\n",
        "import seaborn as sns\n",
        "import warnings\n",
        "warnings.filterwarnings('ignore')\n",
        "\n"
      ]
    },
    {
      "cell_type": "code",
      "source": [
        "df = pd.read_csv(\"https://raw.githubusercontent.com/mujahidashraf/data/refs/heads/main/insurance.csv\")"
      ],
      "metadata": {
        "id": "brEWxoAq1pGV"
      },
      "execution_count": null,
      "outputs": []
    },
    {
      "cell_type": "code",
      "source": [
        "le = LabelEncoder()\n",
        "df['sex'] = le.fit_transform(df['sex'])\n",
        "df['smoker'] = le.fit_transform(df['smoker'])\n",
        "df['region'] = le.fit_transform(df['region'])\n",
        "X = df[['age','sex','bmi','children','smoker','region']]\n",
        "y = df['expenses']"
      ],
      "metadata": {
        "id": "rbuDekAR1pDh"
      },
      "execution_count": null,
      "outputs": []
    },
    {
      "cell_type": "code",
      "source": [
        "X_train, X_test, y_train, y_test = train_test_split(X, y, test_size=0.3, random_state=42)\n",
        "scaler = StandardScaler()\n",
        "X_train = scaler.fit_transform(X_train)\n",
        "X_test = scaler.transform(X_test)"
      ],
      "metadata": {
        "id": "8WWzheTO1pAf"
      },
      "execution_count": null,
      "outputs": []
    },
    {
      "cell_type": "code",
      "source": [
        "linear_svr = LinearSVR(random_state=42)\n",
        "linear_svr.fit(X_train, y_train)\n",
        "y_pred = linear_svr.predict(X_test)\n",
        "\n",
        "\n",
        "mae = mean_absolute_error(y_test , y_pred)\n",
        "mse = mean_squared_error(y_test , y_pred)\n",
        "rmse = np.sqrt(mse)\n",
        "r2=r2_score(y_test , y_pred)\n",
        "\n",
        "print(f\"MAE: {mae}\")\n",
        "print(f\"MSE: {mse}\")\n",
        "print(f\"RMSE: {rmse}\")\n",
        "print(f\"R2: {r2}\")\n",
        "print(100*'_')\n"
      ],
      "metadata": {
        "colab": {
          "base_uri": "https://localhost:8080/"
        },
        "id": "NSwEHsta1o8X",
        "outputId": "30e430e6-6037-4bc7-800a-b4bb4871c46a"
      },
      "execution_count": null,
      "outputs": [
        {
          "output_type": "stream",
          "name": "stdout",
          "text": [
            "MAE: 12081.248308457712\n",
            "MSE: 292580869.701092\n",
            "RMSE: 17104.995460423015\n",
            "R2: -0.9954458552993437\n",
            "____________________________________________________________________________________________________\n"
          ]
        }
      ]
    },
    {
      "cell_type": "code",
      "source": [
        "param_grid = {\n",
        "    'C': [0.1, 1, 10, 100,200,500,600,700],       # Regularization parameter\n",
        "    'epsilon': [0.01, 0.1, 0.2,0.3],  # Tube width parameter\n",
        "}\n",
        "\n",
        "\n",
        "grid_search = GridSearchCV(estimator=LinearSVR(random_state=42), param_grid=param_grid, cv=5, scoring='r2')\n",
        "grid_search.fit(X_train, y_train)\n",
        "best_params = grid_search.best_params_\n",
        "best_model = grid_search.best_estimator_\n",
        "\n",
        "print(f\"Best Parameters: {best_params}\")\n",
        "\n",
        "# Predict with the best model\n",
        "y_pred_tuned = best_model.predict(X_test)\n",
        "\n",
        "mae = mean_absolute_error(y_test , y_pred_tuned)\n",
        "mse = mean_squared_error(y_test , y_pred_tuned)\n",
        "rmse = np.sqrt(mse)\n",
        "r2=r2_score(y_test , y_pred_tuned)\n",
        "\n",
        "print(f\"MAE: {mae}\")\n",
        "print(f\"MSE: {mse}\")\n",
        "print(f\"RMSE: {rmse}\")\n",
        "print(f\"R2: {r2}\")\n",
        "print(100*'_')"
      ],
      "metadata": {
        "colab": {
          "base_uri": "https://localhost:8080/"
        },
        "id": "TOeT5RqQ1o5O",
        "outputId": "6d93aec0-4f72-49fe-e475-f7fc799b0900"
      },
      "execution_count": null,
      "outputs": [
        {
          "output_type": "stream",
          "name": "stdout",
          "text": [
            "Best Parameters: {'C': 700, 'epsilon': 0.1}\n",
            "MAE: 3248.153815598796\n",
            "MSE: 37762764.975462615\n",
            "RMSE: 6145.141574891714\n",
            "R2: 0.7424522220748295\n",
            "____________________________________________________________________________________________________\n"
          ]
        }
      ]
    },
    {
      "cell_type": "code",
      "source": [
        "nu_svr = NuSVR()\n",
        "nu_svr.fit(X_train, y_train)\n",
        "y_pred_nu = nu_svr.predict(X_test)\n",
        "\n",
        "mae = mean_absolute_error(y_test , y_pred_nu)\n",
        "mse = mean_squared_error(y_test , y_pred_nu)\n",
        "rmse = np.sqrt(mse)\n",
        "r2=r2_score(y_test , y_pred_nu)\n",
        "\n",
        "print(f\"MAE: {mae}\")\n",
        "print(f\"MSE: {mse}\")\n",
        "print(f\"RMSE: {rmse}\")\n",
        "print(f\"R2: {r2}\")\n",
        "print(100*'_')"
      ],
      "metadata": {
        "colab": {
          "base_uri": "https://localhost:8080/"
        },
        "id": "MaRzHi_M1o12",
        "outputId": "b7b8d671-5285-40c2-fa06-03f1e04a7d9e"
      },
      "execution_count": null,
      "outputs": [
        {
          "output_type": "stream",
          "name": "stdout",
          "text": [
            "MAE: 8431.824855041963\n",
            "MSE: 149972510.72088766\n",
            "RMSE: 12246.326417374627\n",
            "R2: -0.022835242893923136\n",
            "____________________________________________________________________________________________________\n"
          ]
        }
      ]
    },
    {
      "cell_type": "code",
      "source": [
        "param_grid_nu = {\n",
        "    'nu': [0.1, 0.3, 0.5],\n",
        "    'C': [0.1, 1, 10],\n",
        "    'kernel': ['rbf', 'linear', 'poly'],\n",
        "    'degree': [2, 3, 4]\n",
        "}\n",
        "\n",
        "grid_search_nu = GridSearchCV(NuSVR(), param_grid=param_grid_nu, cv=5, scoring='r2')\n",
        "grid_search_nu.fit(X_train, y_train)\n",
        "best_params_nu = grid_search_nu.best_params_\n",
        "best_nu_svr = grid_search_nu.best_estimator_\n",
        "print(f\"Best Parameters (NuSVR): {best_params_nu}\")\n",
        "\n",
        "y_pred_best_nu = best_nu_svr.predict(X_test)\n",
        "\n",
        "mae = mean_absolute_error(y_test , y_pred_best_nu)\n",
        "mse = mean_squared_error(y_test , y_pred_best_nu)\n",
        "rmse = np.sqrt(mse)\n",
        "r2=r2_score(y_test , y_pred_best_nu)\n",
        "\n",
        "print(f\"MAE: {mae}\")\n",
        "print(f\"MSE: {mse}\")\n",
        "print(f\"RMSE: {rmse}\")\n",
        "print(f\"R2: {r2}\")\n",
        "print(100*'_')"
      ],
      "metadata": {
        "colab": {
          "base_uri": "https://localhost:8080/"
        },
        "id": "LCeTc57y1oys",
        "outputId": "98f3564f-8767-47e3-db17-acbcb7827731"
      },
      "execution_count": null,
      "outputs": [
        {
          "output_type": "stream",
          "name": "stdout",
          "text": [
            "Best Parameters (NuSVR): {'C': 10, 'degree': 2, 'kernel': 'linear', 'nu': 0.5}\n",
            "MAE: 5132.680597668994\n",
            "MSE: 79996218.45999084\n",
            "RMSE: 8944.060512987982\n",
            "R2: 0.4544136712400585\n",
            "____________________________________________________________________________________________________\n"
          ]
        }
      ]
    },
    {
      "cell_type": "code",
      "source": [
        "svr = SVR()\n",
        "svr.fit(X_train, y_train)\n",
        "y_pred_svr = svr.predict(X_test)\n",
        "\n",
        "mae = mean_absolute_error(y_test , y_pred_svr)\n",
        "mse = mean_squared_error(y_test , y_pred_svr)\n",
        "rmse = np.sqrt(mse)\n",
        "r2=r2_score(y_test , y_pred_svr)\n",
        "\n",
        "print(f\"MAE: {mae}\")\n",
        "print(f\"MSE: {mse}\")\n",
        "print(f\"RMSE: {rmse}\")\n",
        "print(f\"R2: {r2}\")\n",
        "print(100*'_')"
      ],
      "metadata": {
        "colab": {
          "base_uri": "https://localhost:8080/"
        },
        "id": "mtyOUgU51ovb",
        "outputId": "cce37f4b-6622-43e3-d226-ff836e6563f4"
      },
      "execution_count": null,
      "outputs": [
        {
          "output_type": "stream",
          "name": "stdout",
          "text": [
            "MAE: 8233.450210996702\n",
            "MSE: 158121240.06907204\n",
            "RMSE: 12574.626836175777\n",
            "R2: -0.07841081152355556\n",
            "____________________________________________________________________________________________________\n"
          ]
        }
      ]
    },
    {
      "cell_type": "code",
      "source": [
        "param_grid_svr = {\n",
        "    'C': [0.1, 1, 10],\n",
        "    'epsilon': [0.01, 0.1, 0.2],\n",
        "    'kernel': ['linear', 'rbf', 'poly', 'sigmoid'],\n",
        "    'gamma': ['scale', 'auto', 0.01, 0.1, 1],  # Custom gamma values\n",
        "    'degree': [2, 3, 4]\n",
        "}\n",
        "\n",
        "grid_search_svr = GridSearchCV(SVR(), param_grid=param_grid_svr, cv=5, scoring='r2')\n",
        "grid_search_svr.fit(X_train, y_train)\n",
        "\n",
        "best_params_svr = grid_search_svr.best_params_\n",
        "best_svr_model = grid_search_svr.best_estimator_\n",
        "\n",
        "print(f\"Best Parameters (SVR): {best_params_svr}\")\n",
        "\n",
        "y_pred_best_svr = best_svr_model.predict(X_test)\n",
        "\n",
        "mae = mean_absolute_error(y_test , y_pred_best_svr)\n",
        "mse = mean_squared_error(y_test , y_pred_best_svr)\n",
        "rmse = np.sqrt(mse)\n",
        "r2=r2_score(y_test , y_pred_best_svr)\n",
        "\n",
        "print(f\"MAE: {mae}\")\n",
        "print(f\"MSE: {mse}\")\n",
        "print(f\"RMSE: {rmse}\")\n",
        "print(f\"R2: {r2}\")\n",
        "print(100*'_')"
      ],
      "metadata": {
        "colab": {
          "base_uri": "https://localhost:8080/"
        },
        "id": "6A9wh4YA1osK",
        "outputId": "ba6a9b68-5f6f-4004-8236-2faa408cb60b"
      },
      "execution_count": null,
      "outputs": [
        {
          "output_type": "stream",
          "name": "stdout",
          "text": [
            "Best Parameters (SVR): {'C': 10, 'degree': 3, 'epsilon': 0.2, 'gamma': 1, 'kernel': 'poly'}\n",
            "MAE: 2158.0867617006907\n",
            "MSE: 21790130.6535045\n",
            "RMSE: 4667.990001435789\n",
            "R2: 0.8513880078920127\n",
            "____________________________________________________________________________________________________\n"
          ]
        }
      ]
    },
    {
      "cell_type": "code",
      "source": [],
      "metadata": {
        "id": "GU8oDF5z1oou"
      },
      "execution_count": null,
      "outputs": []
    },
    {
      "cell_type": "code",
      "source": [
        "clf = OneClassSVM(kernel=\"rbf\", gamma=0.1, nu=0.1)\n",
        "clf.fit(X_train)\n",
        "\n",
        "# Step 5: Predict\n",
        "y_pred_train = clf.predict(X_train)\n",
        "y_pred_test = clf.predict(X_test)\n",
        "print(y_pred_train)\n",
        "print(y_pred_test)\n",
        "\n"
      ],
      "metadata": {
        "colab": {
          "base_uri": "https://localhost:8080/"
        },
        "id": "FXejPWYX1old",
        "outputId": "0ba024ed-b44a-4d93-b405-b897085e2a11"
      },
      "execution_count": null,
      "outputs": [
        {
          "output_type": "stream",
          "name": "stdout",
          "text": [
            "[ 1  1  1  1 -1  1  1  1  1  1 -1  1  1  1  1 -1  1 -1  1  1  1 -1  1  1\n",
            "  1  1  1  1  1  1  1  1  1  1  1  1  1  1  1  1  1  1  1  1 -1  1  1  1\n",
            "  1  1  1  1  1  1  1  1  1  1  1  1  1  1 -1  1  1  1  1  1  1  1  1  1\n",
            "  1 -1  1  1  1  1  1  1  1  1  1  1  1  1  1 -1  1 -1  1  1  1  1  1  1\n",
            "  1  1  1  1  1  1  1  1  1  1  1  1  1  1  1  1  1  1 -1 -1  1  1 -1  1\n",
            "  1  1  1  1  1  1  1  1  1  1  1  1  1  1  1  1  1  1  1  1  1  1  1  1\n",
            "  1  1  1  1  1  1  1  1  1  1  1  1  1  1  1  1 -1 -1  1  1  1  1  1  1\n",
            " -1  1  1  1  1  1  1  1  1  1  1  1  1  1  1  1 -1  1  1  1 -1  1  1  1\n",
            "  1  1  1  1  1  1  1  1  1  1  1  1  1  1  1  1  1  1  1  1  1  1 -1  1\n",
            " -1 -1  1  1  1  1  1  1  1  1  1  1 -1  1  1  1  1  1  1  1  1  1 -1  1\n",
            "  1  1  1  1  1 -1  1  1 -1  1  1  1  1  1 -1  1  1  1  1  1  1  1  1  1\n",
            "  1  1  1  1  1  1  1 -1  1  1  1  1  1  1  1  1  1  1  1  1  1  1  1  1\n",
            "  1  1  1  1  1  1  1  1  1  1  1  1  1  1  1 -1  1  1  1  1  1  1  1  1\n",
            "  1  1  1  1  1  1  1 -1  1  1 -1  1  1  1  1  1  1  1  1 -1  1  1  1  1\n",
            " -1  1  1  1  1  1  1  1 -1  1  1  1  1  1 -1  1  1  1  1  1  1  1  1  1\n",
            "  1  1  1  1  1  1  1  1 -1  1  1  1  1  1  1  1  1  1  1  1  1  1  1  1\n",
            " -1  1  1  1  1 -1  1  1  1  1  1  1  1  1  1  1  1  1  1  1  1  1  1  1\n",
            "  1  1 -1  1  1  1  1  1  1  1  1  1  1  1  1  1  1  1  1  1  1 -1  1  1\n",
            "  1  1  1  1 -1  1  1  1  1  1  1  1  1 -1 -1  1  1 -1  1  1  1  1  1  1\n",
            "  1  1  1  1  1 -1  1  1  1  1  1  1  1  1  1  1  1 -1  1  1  1  1  1  1\n",
            "  1  1  1  1  1  1  1  1  1  1  1  1  1 -1  1  1 -1  1  1  1  1  1 -1  1\n",
            "  1  1  1  1  1  1  1 -1  1  1  1  1  1  1  1  1  1  1  1  1  1 -1  1  1\n",
            "  1  1  1  1 -1  1  1  1  1  1  1 -1  1  1  1  1  1  1  1  1  1  1  1  1\n",
            "  1  1  1  1  1  1  1  1  1  1  1  1  1  1  1 -1  1  1 -1  1  1 -1 -1  1\n",
            "  1  1  1  1  1  1  1  1 -1  1  1  1  1  1  1  1 -1  1 -1  1  1  1  1  1\n",
            "  1  1  1  1  1  1  1  1  1  1 -1  1  1  1  1  1  1  1  1  1  1  1  1 -1\n",
            "  1  1  1  1  1  1  1  1  1  1  1  1  1  1  1  1 -1  1  1  1  1  1  1  1\n",
            "  1  1  1  1  1  1  1 -1  1  1  1  1  1  1  1 -1  1  1  1  1  1  1  1 -1\n",
            "  1  1  1  1 -1  1 -1  1  1  1  1  1 -1  1  1  1  1  1  1  1  1  1  1 -1\n",
            "  1  1  1  1  1  1  1  1  1 -1  1  1  1  1  1  1 -1  1  1  1  1  1  1  1\n",
            "  1  1  1  1  1  1  1 -1 -1  1  1 -1  1  1 -1  1  1  1  1  1  1  1  1  1\n",
            "  1 -1  1  1  1  1  1  1  1  1 -1  1  1  1  1  1  1  1  1 -1  1  1  1  1\n",
            "  1  1  1  1  1  1  1  1  1  1  1  1  1  1  1  1  1  1  1  1 -1  1  1 -1\n",
            "  1 -1  1  1  1  1  1  1  1  1  1  1  1  1  1  1  1  1  1  1  1  1  1  1\n",
            "  1  1  1  1  1  1  1  1 -1  1  1  1  1  1  1  1  1  1 -1  1  1  1  1 -1\n",
            "  1  1  1  1  1  1  1  1  1  1  1 -1  1  1  1  1  1  1  1  1  1  1  1  1\n",
            "  1  1  1  1  1  1  1  1  1 -1  1  1  1  1  1  1  1  1 -1  1  1  1  1  1\n",
            "  1  1  1  1 -1  1  1  1  1  1  1  1  1  1  1  1  1  1  1  1 -1  1  1  1\n",
            "  1  1  1  1  1 -1  1  1 -1  1  1  1  1  1 -1  1  1  1  1 -1 -1  1 -1  1]\n",
            "[ 1  1 -1  1  1  1  1  1 -1  1 -1  1  1  1 -1  1  1  1  1  1 -1  1  1 -1\n",
            "  1  1  1  1  1  1  1  1  1  1  1  1  1  1  1  1 -1  1  1  1  1  1  1  1\n",
            "  1  1  1  1  1  1  1  1  1  1  1  1  1  1  1  1  1  1 -1  1  1  1  1  1\n",
            "  1  1  1  1  1  1  1  1  1 -1  1  1 -1  1  1  1  1  1  1 -1  1  1  1  1\n",
            "  1  1  1  1  1  1  1  1 -1  1  1  1 -1  1  1  1  1  1  1  1  1  1  1  1\n",
            "  1  1  1  1  1  1  1  1  1  1  1  1  1  1  1  1  1  1  1  1  1  1  1  1\n",
            "  1  1  1  1  1  1  1  1  1  1  1  1  1  1  1  1  1  1 -1  1  1  1 -1  1\n",
            "  1  1  1  1  1  1  1  1 -1  1  1  1 -1 -1  1  1  1  1  1  1  1  1  1  1\n",
            "  1  1  1  1  1  1  1  1  1  1  1  1  1  1  1  1  1  1 -1  1 -1  1  1  1\n",
            "  1  1  1  1  1  1 -1  1  1  1 -1  1  1 -1  1  1  1  1  1  1  1  1  1  1\n",
            " -1  1  1  1  1  1  1  1 -1 -1  1  1  1 -1  1  1  1  1  1  1  1  1  1  1\n",
            "  1  1 -1  1  1  1  1 -1  1  1  1 -1  1  1  1  1  1 -1 -1  1  1  1  1  1\n",
            "  1  1  1  1 -1  1 -1  1  1  1  1  1  1  1  1  1  1  1  1  1  1  1  1  1\n",
            "  1  1  1  1  1  1  1  1  1  1 -1  1  1  1  1  1 -1  1  1  1  1  1  1  1\n",
            "  1  1  1  1  1  1  1  1  1  1  1  1  1  1  1  1  1  1  1  1  1  1  1  1\n",
            "  1  1  1  1  1  1  1  1  1  1  1  1  1  1 -1  1  1  1  1  1  1  1  1  1\n",
            "  1 -1  1  1  1 -1  1  1  1  1  1  1  1 -1  1  1  1  1]\n"
          ]
        }
      ]
    },
    {
      "cell_type": "code",
      "source": [],
      "metadata": {
        "id": "9bmWBphm1oiF"
      },
      "execution_count": null,
      "outputs": []
    },
    {
      "cell_type": "code",
      "source": [],
      "metadata": {
        "id": "JpHveoXb1occ"
      },
      "execution_count": null,
      "outputs": []
    },
    {
      "cell_type": "code",
      "source": [],
      "metadata": {
        "id": "umBbh8i91oYO"
      },
      "execution_count": null,
      "outputs": []
    },
    {
      "cell_type": "code",
      "source": [],
      "metadata": {
        "id": "qCGNMqRT1oU-"
      },
      "execution_count": null,
      "outputs": []
    }
  ]
}