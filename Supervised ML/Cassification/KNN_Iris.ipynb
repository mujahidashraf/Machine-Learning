{
  "nbformat": 4,
  "nbformat_minor": 0,
  "metadata": {
    "colab": {
      "provenance": []
    },
    "kernelspec": {
      "name": "python3",
      "display_name": "Python 3"
    },
    "language_info": {
      "name": "python"
    }
  },
  "cells": [
    {
      "cell_type": "code",
      "execution_count": null,
      "metadata": {
        "id": "sa414ZkePYdQ"
      },
      "outputs": [],
      "source": [
        "import matplotlib.pyplot as plt\n",
        "import numpy as np\n",
        "import pandas as pd\n",
        "from sklearn.preprocessing import LabelEncoder ,MinMaxScaler\n",
        "from sklearn.neighbors import KNeighborsClassifier\n",
        "from sklearn.model_selection import train_test_split, cross_val_score,GridSearchCV\n",
        "from sklearn.metrics import accuracy_score,confusion_matrix,classification_report,f1_score,recall_score,precision_score\n",
        "import seaborn as sns\n",
        "import warnings\n",
        "warnings.filterwarnings('ignore')"
      ]
    },
    {
      "cell_type": "code",
      "source": [
        "df = pd.read_csv(\"https://raw.githubusercontent.com/mujahidashraf/data/refs/heads/main/Iris.csv\")\n",
        "df.head()"
      ],
      "metadata": {
        "id": "5QWhJUQNSmk_",
        "colab": {
          "base_uri": "https://localhost:8080/",
          "height": 206
        },
        "outputId": "480eb31f-0000-4e2e-a7ca-6918b0b29540"
      },
      "execution_count": null,
      "outputs": [
        {
          "output_type": "execute_result",
          "data": {
            "text/plain": [
              "   Id  SepalLengthCm  SepalWidthCm  PetalLengthCm  PetalWidthCm      Species\n",
              "0   1            5.1           3.5            1.4           0.2  Iris-setosa\n",
              "1   2            4.9           3.0            1.4           0.2  Iris-setosa\n",
              "2   3            4.7           3.2            1.3           0.2  Iris-setosa\n",
              "3   4            4.6           3.1            1.5           0.2  Iris-setosa\n",
              "4   5            5.0           3.6            1.4           0.2  Iris-setosa"
            ],
            "text/html": [
              "\n",
              "  <div id=\"df-8f71b865-bc1e-47c8-a8cd-11d3a0a05391\" class=\"colab-df-container\">\n",
              "    <div>\n",
              "<style scoped>\n",
              "    .dataframe tbody tr th:only-of-type {\n",
              "        vertical-align: middle;\n",
              "    }\n",
              "\n",
              "    .dataframe tbody tr th {\n",
              "        vertical-align: top;\n",
              "    }\n",
              "\n",
              "    .dataframe thead th {\n",
              "        text-align: right;\n",
              "    }\n",
              "</style>\n",
              "<table border=\"1\" class=\"dataframe\">\n",
              "  <thead>\n",
              "    <tr style=\"text-align: right;\">\n",
              "      <th></th>\n",
              "      <th>Id</th>\n",
              "      <th>SepalLengthCm</th>\n",
              "      <th>SepalWidthCm</th>\n",
              "      <th>PetalLengthCm</th>\n",
              "      <th>PetalWidthCm</th>\n",
              "      <th>Species</th>\n",
              "    </tr>\n",
              "  </thead>\n",
              "  <tbody>\n",
              "    <tr>\n",
              "      <th>0</th>\n",
              "      <td>1</td>\n",
              "      <td>5.1</td>\n",
              "      <td>3.5</td>\n",
              "      <td>1.4</td>\n",
              "      <td>0.2</td>\n",
              "      <td>Iris-setosa</td>\n",
              "    </tr>\n",
              "    <tr>\n",
              "      <th>1</th>\n",
              "      <td>2</td>\n",
              "      <td>4.9</td>\n",
              "      <td>3.0</td>\n",
              "      <td>1.4</td>\n",
              "      <td>0.2</td>\n",
              "      <td>Iris-setosa</td>\n",
              "    </tr>\n",
              "    <tr>\n",
              "      <th>2</th>\n",
              "      <td>3</td>\n",
              "      <td>4.7</td>\n",
              "      <td>3.2</td>\n",
              "      <td>1.3</td>\n",
              "      <td>0.2</td>\n",
              "      <td>Iris-setosa</td>\n",
              "    </tr>\n",
              "    <tr>\n",
              "      <th>3</th>\n",
              "      <td>4</td>\n",
              "      <td>4.6</td>\n",
              "      <td>3.1</td>\n",
              "      <td>1.5</td>\n",
              "      <td>0.2</td>\n",
              "      <td>Iris-setosa</td>\n",
              "    </tr>\n",
              "    <tr>\n",
              "      <th>4</th>\n",
              "      <td>5</td>\n",
              "      <td>5.0</td>\n",
              "      <td>3.6</td>\n",
              "      <td>1.4</td>\n",
              "      <td>0.2</td>\n",
              "      <td>Iris-setosa</td>\n",
              "    </tr>\n",
              "  </tbody>\n",
              "</table>\n",
              "</div>\n",
              "    <div class=\"colab-df-buttons\">\n",
              "\n",
              "  <div class=\"colab-df-container\">\n",
              "    <button class=\"colab-df-convert\" onclick=\"convertToInteractive('df-8f71b865-bc1e-47c8-a8cd-11d3a0a05391')\"\n",
              "            title=\"Convert this dataframe to an interactive table.\"\n",
              "            style=\"display:none;\">\n",
              "\n",
              "  <svg xmlns=\"http://www.w3.org/2000/svg\" height=\"24px\" viewBox=\"0 -960 960 960\">\n",
              "    <path d=\"M120-120v-720h720v720H120Zm60-500h600v-160H180v160Zm220 220h160v-160H400v160Zm0 220h160v-160H400v160ZM180-400h160v-160H180v160Zm440 0h160v-160H620v160ZM180-180h160v-160H180v160Zm440 0h160v-160H620v160Z\"/>\n",
              "  </svg>\n",
              "    </button>\n",
              "\n",
              "  <style>\n",
              "    .colab-df-container {\n",
              "      display:flex;\n",
              "      gap: 12px;\n",
              "    }\n",
              "\n",
              "    .colab-df-convert {\n",
              "      background-color: #E8F0FE;\n",
              "      border: none;\n",
              "      border-radius: 50%;\n",
              "      cursor: pointer;\n",
              "      display: none;\n",
              "      fill: #1967D2;\n",
              "      height: 32px;\n",
              "      padding: 0 0 0 0;\n",
              "      width: 32px;\n",
              "    }\n",
              "\n",
              "    .colab-df-convert:hover {\n",
              "      background-color: #E2EBFA;\n",
              "      box-shadow: 0px 1px 2px rgba(60, 64, 67, 0.3), 0px 1px 3px 1px rgba(60, 64, 67, 0.15);\n",
              "      fill: #174EA6;\n",
              "    }\n",
              "\n",
              "    .colab-df-buttons div {\n",
              "      margin-bottom: 4px;\n",
              "    }\n",
              "\n",
              "    [theme=dark] .colab-df-convert {\n",
              "      background-color: #3B4455;\n",
              "      fill: #D2E3FC;\n",
              "    }\n",
              "\n",
              "    [theme=dark] .colab-df-convert:hover {\n",
              "      background-color: #434B5C;\n",
              "      box-shadow: 0px 1px 3px 1px rgba(0, 0, 0, 0.15);\n",
              "      filter: drop-shadow(0px 1px 2px rgba(0, 0, 0, 0.3));\n",
              "      fill: #FFFFFF;\n",
              "    }\n",
              "  </style>\n",
              "\n",
              "    <script>\n",
              "      const buttonEl =\n",
              "        document.querySelector('#df-8f71b865-bc1e-47c8-a8cd-11d3a0a05391 button.colab-df-convert');\n",
              "      buttonEl.style.display =\n",
              "        google.colab.kernel.accessAllowed ? 'block' : 'none';\n",
              "\n",
              "      async function convertToInteractive(key) {\n",
              "        const element = document.querySelector('#df-8f71b865-bc1e-47c8-a8cd-11d3a0a05391');\n",
              "        const dataTable =\n",
              "          await google.colab.kernel.invokeFunction('convertToInteractive',\n",
              "                                                    [key], {});\n",
              "        if (!dataTable) return;\n",
              "\n",
              "        const docLinkHtml = 'Like what you see? Visit the ' +\n",
              "          '<a target=\"_blank\" href=https://colab.research.google.com/notebooks/data_table.ipynb>data table notebook</a>'\n",
              "          + ' to learn more about interactive tables.';\n",
              "        element.innerHTML = '';\n",
              "        dataTable['output_type'] = 'display_data';\n",
              "        await google.colab.output.renderOutput(dataTable, element);\n",
              "        const docLink = document.createElement('div');\n",
              "        docLink.innerHTML = docLinkHtml;\n",
              "        element.appendChild(docLink);\n",
              "      }\n",
              "    </script>\n",
              "  </div>\n",
              "\n",
              "\n",
              "<div id=\"df-f9e39c90-ed49-42fe-b639-eabebcf6d8e5\">\n",
              "  <button class=\"colab-df-quickchart\" onclick=\"quickchart('df-f9e39c90-ed49-42fe-b639-eabebcf6d8e5')\"\n",
              "            title=\"Suggest charts\"\n",
              "            style=\"display:none;\">\n",
              "\n",
              "<svg xmlns=\"http://www.w3.org/2000/svg\" height=\"24px\"viewBox=\"0 0 24 24\"\n",
              "     width=\"24px\">\n",
              "    <g>\n",
              "        <path d=\"M19 3H5c-1.1 0-2 .9-2 2v14c0 1.1.9 2 2 2h14c1.1 0 2-.9 2-2V5c0-1.1-.9-2-2-2zM9 17H7v-7h2v7zm4 0h-2V7h2v10zm4 0h-2v-4h2v4z\"/>\n",
              "    </g>\n",
              "</svg>\n",
              "  </button>\n",
              "\n",
              "<style>\n",
              "  .colab-df-quickchart {\n",
              "      --bg-color: #E8F0FE;\n",
              "      --fill-color: #1967D2;\n",
              "      --hover-bg-color: #E2EBFA;\n",
              "      --hover-fill-color: #174EA6;\n",
              "      --disabled-fill-color: #AAA;\n",
              "      --disabled-bg-color: #DDD;\n",
              "  }\n",
              "\n",
              "  [theme=dark] .colab-df-quickchart {\n",
              "      --bg-color: #3B4455;\n",
              "      --fill-color: #D2E3FC;\n",
              "      --hover-bg-color: #434B5C;\n",
              "      --hover-fill-color: #FFFFFF;\n",
              "      --disabled-bg-color: #3B4455;\n",
              "      --disabled-fill-color: #666;\n",
              "  }\n",
              "\n",
              "  .colab-df-quickchart {\n",
              "    background-color: var(--bg-color);\n",
              "    border: none;\n",
              "    border-radius: 50%;\n",
              "    cursor: pointer;\n",
              "    display: none;\n",
              "    fill: var(--fill-color);\n",
              "    height: 32px;\n",
              "    padding: 0;\n",
              "    width: 32px;\n",
              "  }\n",
              "\n",
              "  .colab-df-quickchart:hover {\n",
              "    background-color: var(--hover-bg-color);\n",
              "    box-shadow: 0 1px 2px rgba(60, 64, 67, 0.3), 0 1px 3px 1px rgba(60, 64, 67, 0.15);\n",
              "    fill: var(--button-hover-fill-color);\n",
              "  }\n",
              "\n",
              "  .colab-df-quickchart-complete:disabled,\n",
              "  .colab-df-quickchart-complete:disabled:hover {\n",
              "    background-color: var(--disabled-bg-color);\n",
              "    fill: var(--disabled-fill-color);\n",
              "    box-shadow: none;\n",
              "  }\n",
              "\n",
              "  .colab-df-spinner {\n",
              "    border: 2px solid var(--fill-color);\n",
              "    border-color: transparent;\n",
              "    border-bottom-color: var(--fill-color);\n",
              "    animation:\n",
              "      spin 1s steps(1) infinite;\n",
              "  }\n",
              "\n",
              "  @keyframes spin {\n",
              "    0% {\n",
              "      border-color: transparent;\n",
              "      border-bottom-color: var(--fill-color);\n",
              "      border-left-color: var(--fill-color);\n",
              "    }\n",
              "    20% {\n",
              "      border-color: transparent;\n",
              "      border-left-color: var(--fill-color);\n",
              "      border-top-color: var(--fill-color);\n",
              "    }\n",
              "    30% {\n",
              "      border-color: transparent;\n",
              "      border-left-color: var(--fill-color);\n",
              "      border-top-color: var(--fill-color);\n",
              "      border-right-color: var(--fill-color);\n",
              "    }\n",
              "    40% {\n",
              "      border-color: transparent;\n",
              "      border-right-color: var(--fill-color);\n",
              "      border-top-color: var(--fill-color);\n",
              "    }\n",
              "    60% {\n",
              "      border-color: transparent;\n",
              "      border-right-color: var(--fill-color);\n",
              "    }\n",
              "    80% {\n",
              "      border-color: transparent;\n",
              "      border-right-color: var(--fill-color);\n",
              "      border-bottom-color: var(--fill-color);\n",
              "    }\n",
              "    90% {\n",
              "      border-color: transparent;\n",
              "      border-bottom-color: var(--fill-color);\n",
              "    }\n",
              "  }\n",
              "</style>\n",
              "\n",
              "  <script>\n",
              "    async function quickchart(key) {\n",
              "      const quickchartButtonEl =\n",
              "        document.querySelector('#' + key + ' button');\n",
              "      quickchartButtonEl.disabled = true;  // To prevent multiple clicks.\n",
              "      quickchartButtonEl.classList.add('colab-df-spinner');\n",
              "      try {\n",
              "        const charts = await google.colab.kernel.invokeFunction(\n",
              "            'suggestCharts', [key], {});\n",
              "      } catch (error) {\n",
              "        console.error('Error during call to suggestCharts:', error);\n",
              "      }\n",
              "      quickchartButtonEl.classList.remove('colab-df-spinner');\n",
              "      quickchartButtonEl.classList.add('colab-df-quickchart-complete');\n",
              "    }\n",
              "    (() => {\n",
              "      let quickchartButtonEl =\n",
              "        document.querySelector('#df-f9e39c90-ed49-42fe-b639-eabebcf6d8e5 button');\n",
              "      quickchartButtonEl.style.display =\n",
              "        google.colab.kernel.accessAllowed ? 'block' : 'none';\n",
              "    })();\n",
              "  </script>\n",
              "</div>\n",
              "\n",
              "    </div>\n",
              "  </div>\n"
            ],
            "application/vnd.google.colaboratory.intrinsic+json": {
              "type": "dataframe",
              "variable_name": "df",
              "summary": "{\n  \"name\": \"df\",\n  \"rows\": 150,\n  \"fields\": [\n    {\n      \"column\": \"Id\",\n      \"properties\": {\n        \"dtype\": \"number\",\n        \"std\": 43,\n        \"min\": 1,\n        \"max\": 150,\n        \"num_unique_values\": 150,\n        \"samples\": [\n          74,\n          19,\n          119\n        ],\n        \"semantic_type\": \"\",\n        \"description\": \"\"\n      }\n    },\n    {\n      \"column\": \"SepalLengthCm\",\n      \"properties\": {\n        \"dtype\": \"number\",\n        \"std\": 0.8280661279778629,\n        \"min\": 4.3,\n        \"max\": 7.9,\n        \"num_unique_values\": 35,\n        \"samples\": [\n          6.2,\n          4.5,\n          5.6\n        ],\n        \"semantic_type\": \"\",\n        \"description\": \"\"\n      }\n    },\n    {\n      \"column\": \"SepalWidthCm\",\n      \"properties\": {\n        \"dtype\": \"number\",\n        \"std\": 0.4335943113621737,\n        \"min\": 2.0,\n        \"max\": 4.4,\n        \"num_unique_values\": 23,\n        \"samples\": [\n          2.3,\n          4.0,\n          3.5\n        ],\n        \"semantic_type\": \"\",\n        \"description\": \"\"\n      }\n    },\n    {\n      \"column\": \"PetalLengthCm\",\n      \"properties\": {\n        \"dtype\": \"number\",\n        \"std\": 1.7644204199522617,\n        \"min\": 1.0,\n        \"max\": 6.9,\n        \"num_unique_values\": 43,\n        \"samples\": [\n          6.7,\n          3.8,\n          3.7\n        ],\n        \"semantic_type\": \"\",\n        \"description\": \"\"\n      }\n    },\n    {\n      \"column\": \"PetalWidthCm\",\n      \"properties\": {\n        \"dtype\": \"number\",\n        \"std\": 0.7631607417008414,\n        \"min\": 0.1,\n        \"max\": 2.5,\n        \"num_unique_values\": 22,\n        \"samples\": [\n          0.2,\n          1.2,\n          1.3\n        ],\n        \"semantic_type\": \"\",\n        \"description\": \"\"\n      }\n    },\n    {\n      \"column\": \"Species\",\n      \"properties\": {\n        \"dtype\": \"category\",\n        \"num_unique_values\": 3,\n        \"samples\": [\n          \"Iris-setosa\",\n          \"Iris-versicolor\",\n          \"Iris-virginica\"\n        ],\n        \"semantic_type\": \"\",\n        \"description\": \"\"\n      }\n    }\n  ]\n}"
            }
          },
          "metadata": {},
          "execution_count": 2
        }
      ]
    },
    {
      "cell_type": "markdown",
      "source": [
        "#K Nearest Neighbor\n",
        "1. KNN Theory\n",
        "\n",
        "![Capture.PNG](data:image/png;base64,iVBORw0KGgoAAAANSUhEUgAAAv4AAAFPCAYAAAA1G8r0AAAAAXNSR0IArs4c6QAAAARnQU1BAACxjwv8YQUAAAAJcEhZcwAADsMAAA7DAcdvqGQAAHXCSURBVHhe7b1/a1xXt+c5L2JeQNMvo/EfJoIHiw4WGARhaggUmJHJIF/ClfFgc0mEUcYBk4cRDvg6YBAIBAY3AYEh6SedYBNjCPEfMYEQ96StyzNO8wyaTo9mMqhvLnv2z3PWWvvXOVWSqqTz/cBBOrX3Xnv92vusqjpV9d8pAAAAAAAAwJkHhT8AAAAAAAADAIU/AAAAAAAAAwCFPwAAAAAAAAMAhT8AAAAAAAADAIU/AAAAAAAAAwCFPwAAAAAAAAMAhT8AAAAAAAADAIU/AAAAAAAAAwCFPwAAAAAAAAMAhT8AAAAAAAADAIU/AAAAAAAAAwCF/5zwT/f/jfpXf//v/VmOf6/+7l//9+pfhaPU/y8rbT96vP2p+iffxfL6U/Vv//W/Ufdf+/MsZu4u/QAAAAAAwDyCwn8OsEW/KcqLhb8r+v/t/T1/vqfuv03PBabwl0W+5j/8faL47wQKfwAAAACA0wwK/1liX203r8SvqL8zBXn1FfwV9R/8qSVT3FuybeIJg3jF3z4xCO8ONPPxdxr+7i/2wcS7Cq1+7h2MT+1coV0+SUnP5WieDNmj9ITDPyH5S/ClPqzdVGcxXujd2OPheumDxqWJmTuoTXZc1DfMbfRZUfeDXU1suG/LT/4AAAAAACYHhf8s0YXhfV90RkVjB2xx3LvwF7cVkeJUyuPnvsAOBbQtnmlB7QtYLzcU7vxJQtu/NJdsc2PFk54GPy/T0xTR7VzMt1JW6olPNHeww8lunyjw83rhL9ojeZV3cQAAAAAApgCF/5zQv/CXRaPAFKy0gKXQtkLhzzHztQVyCmpDLIvqW9I9PY+RnS6IY1mRLxt7XWEt57W6Zn3fVe9uhT8dm5zXjsk9yQEAAAAAmBwU/nNCv8LfFZHF/hMU/o1ce8ji27QlCn87PoxpdSoW/mxOgZRHjj6FP+vb2EvtE4fwpdWftAf57HExpm/hb/sHWexA4Q8AAACAoweF/5zQvfD3xWutb6HwZ680J4tw98o4L0LNvKQfKdBDMUttmK7wz7QlSRfUpcKf9pW0hT21OzHGyLT92rkmKvw7xRwAAAAAYHpQ+M8JnYpAX2ynX/kWZAv/8od7ObRYNf+3/diTB0/nwj9XTFtKbSni/vnCv3YPfepWoLI+1M6+hX/sIwAAAACA4wOF/5xQL/xd4dip6DdkCn87D32cFKdRIWpf1U6/4i/72nOtX7fCvzyXk0VvdykV33FbvvD3/7MnOvTJgHxi4M7bdzXkXLy/1Nv6ulD4h8eorrHfAAAAAACOBhT+c0Jc+KeKSleE8oMWyARb4Cb6yycX7FXpttB1By2QQyHLi2Qqlxa+cQGbLtBrc4WDF8yUnoW/RvqS9fXvqrTzejuD36RfEzFrxxrdSoW/RsyHoh8AAAAAxwUKfwAAAAAAAAYACn8AAAAAAAAGAAp/AAAAAAAABgAKfwAAAAAAAAYACn8AAAAAAAAGAAp/AAAAAAAABgAKfwAAAAAAAAYACn8AAAAAAAAGAAp/AAAAAAAABgAKfwAAAAAAAAYACn8AAAAAAAAGAAp/AAAAAAAABgAKfwAAAAAAAAYACn8AAAAAAAAGAAp/AAAAAAAABgAKfwAAAAAAAAYACn8AAAAAAAAGAAp/AAAAAAAABgAKfwAAAAAAAAYACn8AAAAAAAAGAAp/AAAAAAAABgAKfwAAAAAAAAYACn8AAAAAAAAGAAp/AAAAAAAABgAKfwAAAAAAAAYACn8AAAAAAAAGAAp/AAAAAAAABgAKfwAAAAAAAAYACn8AAAAAAAAGAAp/AAAAAAAABgAKfwAAAAAAAAYACn8AAAAAAAAGAAp/AAAAAAAABgAKfwAAAAAAAAYACn8AAAAAAAAGAAp/AAAAAAAABgAKfwAAAAAAAAYACn8AAAAAAAAGAAp/AAAAAAAABgAKfwAAAAAAAAYACn8AAAAAAAAGAAp/AAAAAAAABgAKfwAAAAAAAAYACn8AAAAAAAAGAAp/AAAAAAAABgAKfwAAAAAAAAYACn8AAAAAAAAGAAp/AAAAAAAABgAKfwAAAAAAAAYACn8AAAAAAAAGAAp/AAAAAAAABgAKfwAAAAAAAAYACn8AAAAAAAAGAAp/AAAAAAAABgAKfwAAAAAAAAYACn8AAAAAAAAGAAp/AAAAAAAABgAKfwAAAAAAAAYACn8AAAAAAAAGAAp/AAAAAAAABgAKfwAAAAAAAAYACn8AAAAAAAAGAAp/AAAAAAAABgAK/xnyZmuszo231Rt/3o+nav38WO3s+dO9bTWm58fIs1sL6tytp/7sODC2Laj1J/7Un58zx3hD/S+sbVL21M6YyDlB//XB5kjja6Fz5Kdj5MkGy9WjzQGRywEbExPzSdfIHCH8d7T0yINans94HUy3J9agfprhWpoXRE728T1d/5PGbPrrXxuvI9uP5uE6MO1eYcabfVMf463jNmSA6+YMgMJ/hky/8ZEN6gQ3rOMv/AXHUjTJC/98YnMkW/ifICIGx174+6L/+C9cJ8Sx5PAEDLrwp6DwnyYnZ1/4c1D4txhfnJl9ExwLKPxnCN/4fPGzpRe9f7Z+7vyGembbJO4iFfrZi5XfsNZvaZmhTW4eZkOR4wrYzbTp3+rCN1l3AaVy6aZjbWza+Iaab2svwryPeSy+QOf0zOvGH7ePRRu+GEsvKrbvho5VwdcMHq/oApWJC7N9fFf9o9SZFSvm/0r+0Hm0vjtdL5ZMPyfT5cAGs4vnk/Bf1T/E99a/ekxNty5xKOZ8OXeNjetbXpdGv1IsM20J/0nMXGM9V96f3daLJfjPHt4/wS8+z7P7RKq9mK9Uj5zPBCIm1CfWRqoP7asfj3K2ly7BT4n1H3yoc7qVR2Llc+0Znc/oIXydim0gH7/J27QC+XXmdU6uD+Y3p7f0vV3jTR99EL/bNn/ejPO5w/Sz86T94sbpPYToX855KofnPNWHx4Sv6RTUzrGOf7frgFhzGqaDwejR+KXj9SIRF0shz1vkfhbG52zQeB3tuvJt1uf6L/WLsZPFIuMHM6a4j7HYiL0pBbPbjUnlEugHCv8Z0myY9swtoPbcL1a6SBmmP9kAwoISC7LZ9OQGbPvnNhCpGz9vN7hYR7c5eLlyTnpeapObqmkTfgpteT0ruvn2Zg7mDzlWnNd8zXBj2zZxLv0g4mJ1Fnq0Gyn1hfu/9UVaZ+ZTZkMFFoNwsRR6NnZImxMXRYbRPcjydnTRqxaHom+FfzQ8P4KNZDzzt4HaKW0W58J/krI//Tkdz2yjegkfBB+FsTWfyf7ST3beVk95HvtMIMf7+YN8ZqfXJZuzvXWhfnJ2tbH0euTsln4L5418GX9OMX70f0PXtsScbJ3VYm1kEZ2ojlZOpG/rLzpPOy6tT9EnVB8Rb9fe2s7PaSypPvzx+JzD7fQxb3JI5IA457bJ/HH62vZaHCQiLs73+TyXcL3KNgTdqC4hLjwOckyYPxEHolsqZs1cwS/UVkpkp/dxYwuYFBT+M8Quiibp+QIy8HaJ6U8WBVuMjnYzdItdbn5WfnIRxbpQWrkJqB524ZKLFqXUJuc3fZN+KusZwXwkfFLTm7YXfS1x86Q3+XpceIxk/7IvaP7EsXaysnGUsBgk7JX+i/LW6Md91hLanA2lixqjGIe6byOEPGljcqwdY3KlFGdN0ictRX9mfGfGuPlI7BPzWNnhsaLPNIn2dj2kbaTjIzs6QMd0z9lJdCF+ivKDtjmoLrFf4vnzuVWJX+PfBLW2KKfIXLVYi/HM3gjun2LMGhlpuwOp+Vq5cTy4z3P6pMblSPSlPkv5XrYH/c3j9t2LYK/R1f9fi4OExaWe5xLT1vSv2ZDQLYpL1IeunVwcPHSsyDeD7S8eK1H0G+gMCv8ZEm+SfBNKbYwtpj9ZjMXNxcm2z9rlkVpECVmU1OKzjzVyw1i3QYTH+WZcahO+YBsGaavoGSjp1sxBZKX9Tvxd9HUCu/n6+ZncelysLo1coTPzk/CZhtph9Otz8YgQm3Y0VvqP2tIc3GctxA9appUd+T9BMQ513wbsmKa9lSdt5P3o4S+s2ThrEhc9ipyL2Wb/D3PxQxZBPF8cLJ9ruWvbc4VCnGMGOmdkRw5pkx/TPWcn0YWOKa0lR9lvcjyfmyFtJYezr7QX5tvsfP5xftC8KcRa5CSz1yPnCPNTObGffP6Y/4U8SspfjayE7oY2J3i8In2Czql4BJJzGLnuMWZXQ9tObTV9jV5GD6sTtT0xD4uDhMUlzktDyneB1kddbeC6RWOInQ6a+/k4WIj8lM5p/QRWho9nLaagEyj8ZwhP+niBlxcFWbyG4uaS3jyyJGRR6OK2/5vFGPTMjG36dWoT+uY2wi56ZnUTF27SlvY78XdiXuqTLHac16ljXPhmKYsNOj6WRe0w+uWLqA6IIiEaW/VfCad7K0+ee5nmMX9YO4txqPvW9jXykvkR29jZX1GcNVMX/txOTmsrzxcHi0fRZxrbfoyFv5XlfBPk0DFUV/N4Pmcn0YWOKa0lR9lvcjyfm5HweQ6rs/VP3F+2Mf1SJOZlPikU/vZ/O1fIBe4fKofr0frFPC7jR7HjhL8aWRmfmXmdzLw+DcY+a0OcR5bkHEZuyb9tO7XVzG91MXMaPfTfZs5aHCQsLnFeGlK+C7Q+6mBDQrdojO0zg8LfjnXxy8oHE4HCf4bwpI8XeHFRsA1IU9xc3EItbcKc9GYTaOUKHQwJPVpKetA2MX92IyzpWdONbl7mlLTZC0au+BH/e3ptSI38elz4Zil0rviC5g+XY3CyeulMcrG0wSf9VyQRKysjF1tPMQ4139byI7axvB4TUD8I/0mK/kzElkPaE/NY2eGxWu4m2ls70j6l4yM7BHEe8jHdc3YSXagf3fjWp7GPWbwjv8jxadsctfhJ0rY5SBvNrxS1WItcae2NbZM25GLWnN/a1jJEHgnkOEMrN+Uz6pe8PpLUPI7EHNRnKf8KnxrZ7sOsvp9p13Pt3CK21+IgYXFJ50JpvGlr+tdsSOgW+cv2oTJoflTiQOWLfDPY/snYhDziNhb9BjqDwn+G8AUWb0L5Dctg+vfYXOwGQNvTG0ogmptsIK1cqbM7b+aRm47cBHJtUi7bMHhbXs+KbvLixuZ3be0GI85rvmbEfu4TF775CZ2ZjdJe4RurM2m38+Z0TsBikLC36D9NE5cURnfuT4PVP/F4Qy0ORd/W8iMVU9eHxrL1cYc40zwVlP0ZfEH9R/WP/2/08HHneVDwWejf6CLkSZ+K89hnHJaT4ZzMx9q9Ltmc7a0L9VNpLTliXajf5HjfP2O7szMTP6t3Zi8stdXWWaRzOSdbe2Uu+3mIf6gc5ieDjxt7LIHzCfGhiJ/0GT/n8Wr1kXGUtnC47sHOnH/lucbqTG1188f+KMRBIuIi/RKdC4zsKHY5GxK6peNJctDLcD7OxcHD5Lu+2b1JIPVw8S/4DXQGhf8M4YktN6zEAhTYRRYWUofNpVk4/shthoEg3x2tbCY3bHxNH764uQxuX75N+IJthLGfcnrWdGMbSeQ/v0GG8dnNzMF8IgkbXDhETItxaca6jZfpzHwR+yXKH+oP/bj5Crd2rng8x7UH/0b2Rj4J/cNBLxwS05f70xFikGrTdIhD0bddclfGtBTLYpy5/yR1f/o+RH4bKye7OWd6+K/MC7JrPrPt4qsHpQ8iv/nHNUmfMeJ15WJE8rtzzmp66cL9lF9LDqZL5Dda/Dhs/4Lt+fhN3tbmVTjIOqvFWuRkbG8rt/kKVD+Wyoli5n3D4pTA+cu8M0Dn8Y0e26fRg+4hPF7MLpYT5PEM1L/u61/jOOdlOT2ordzHmmocJDwulkKeS4xs7vuCDQndonjaPtT3NPcLcTBI+SyvxN4UEevt8qF0LQFdQOEPwECJLhD64iIvvOD04wqs3MX1dBEXNWD+MAVbuTgFwHCW9qbTBAp/AAZA+lUcenE2F2u8knLqsa8M5l8ZPU3UcxbMJSZO7B0AADRnaG867aDwB2AQiLdNUUCdWezb7U2cT/OFFTl72nC5hziBNGdnbzrdoPAHAAAAAABgAKDwBwAAAAAAYACg8AcAAAAAAGAAoPAHAAAAAABgAKDwBwAAAAAAYACg8AcAAAAAAGAAoPAHAAAAAABgAKDwBwAAAAAAYACg8AcAAAAAAGAAoPAHAAAAAABgAKDwBwAAAAAAYACg8D8r7G2r8fmx2tnz5z15dmtBnbv11P7/Zmvc/H9y7Kmd8YJaf+JPe2J1Hm+rN/68H9PNfVLIuNCYTc9TtZ7KH5tXep6JfXs0TJ6Txq5JY0vHTiMnZrp8bZnNWp2SJxszz6fAUcWhHzqXbMz03znxw6SE/Jvcj0e7ro4PeY04Yb3DPkwONvcU138au2nXw9HUEaclJ04vKPxBxOQLdhpQ+NeQcTn2wt9fbMZbEz6bPEJmk5OU+bwYzd4vEzBHhf9M0PbbPAp/TzV6Xdj8C3/7clqKvBleI1JF/THtzdNdRzmncm8aCCj8Z4gp3MZbT+2G4p7Fu8VtCzp7LhZ29KyfbAbR5uA21JQcsyDHW9tNu9nMQhFpF2sYZzYAc5E+v6Ge+bGG7OaQ6Ov0ah9j8pvH3aYaHm915TaUNhGnk76QEjlyk+ZzB1/JuZ/bc+kvbq/RK6177JeCDd43O1SvzKbLdPd9XMy0zeFxfXCba7pRjJ4yn/SY4sbtxzwheWnnoDbTnNTYHMm0ifwOMUjZLknH1uB0CX7pt+boWC5H6hrPSeKa0JnmlP3/1rbIw0ZYT7+ImJP+Tby2aAxS6zU11uB80IxluVFqI7D41/aFDEXfJ6Bzaj/t+L3O0MTBypRyvL/CY0x3vtaqMaQYOWZOK8/bmpg/7MmGSXMkwP0r7SztE+WcMXKNH8LfHHx+Gl+XN+t6H2va2fx8bca5kc87Mye7zv0j8XfA+i08lls7/HH3mNe7sVmMpfnv5+iyz6ewvkv0Z4/T/Ak20Xw1+rAcaf1A5URziZyX446ljpC+ZXoX1hXoDAr/GeI2tHYTDhtck9jRhSGx0aQWvl847QLh525R8s0/vsiEjSu9wbXnFNmXy3Lzig2nOZdy0/PmFr2TRdqFv2x7tKGl56Y6hza2aZmxtj3WifqxakPY0ET/oo1N3zh/Uv7M6yYxc/P8yfcN+H6NX/25zOkgx/qc5B07d2Nz8Ze2M1gsNeycy5E+c+fET9mx5P/aWvR9S/6j+ejiRuRN7BevB5nXyeayWj1l/9Jcso3ml8w1eS4w9pG16HRs4yfPGVXfC2R/69vWZjuXHZvQmerJ8kJj5bZ55HSW87TtVYQ8A107ZfmluFEbPcyW2G6+TzhZ7Xjvb5JjNWQ8+bmXT9rt/H4+qTs/L+VkmIf6VPb3fawtsV18vGtP+1iOFec+B9t2Nza7PiQ2XlzvCJo/cr5wnok59Snzb5TDPlZebuzfRM4Km2Ws0jbRvnKcPAeTgMJ/hvANVsM2ZINJcr6wKGyRkoXPHg8Q2an2/IIVetp5qI4cbhNd3KkFSzcgvhFIHSyFucs2pf1o2lNz83nM2A21rvuGdjPO/m98Kv1M5qraQGIW4P7jFONioPIqusWENvNXy832o7i+NKaRTo0eNNYtbf9YFiXpy0C0bihcblI/Njb4IfwfxnbQr/F3ua+B9udjDT3nzfnFwHIsllXWoyU5T5PL6dhmYbmZsq+fvH56O9nhsZL9JleS+4OHyo51qOcAo7IXlOWX5jJt8VpubKvuE7HsWJcSKd1ofBPtxBeluaj/G5qcTI/l6z8d1wYWE9mX6J3af+jYSmy7YG3R8zWH9ElxPupvB/Ud9VPKZ5RyTibaiY3MZqtjlz07lT9gWlD4z5Bo8UebsEl6vmGEhRBtAGSxJzcVstD6Lliml/lfyqbQTZAu7mgzcph5UxdXqw+1sznSm0Wks6ax086dkpW7sBO/e3uNrPZCRfyYkBmK5qoNCZ8kY+eRNkZ9ibyabjEkr7RMK1vkSIwbQzdlM45eYNrcifsaqE1MZ+EDaTvHxS+M5XPweSOf0dy2mP7BR3RsSn/3WKNzIyfVl2Pt8f3p/w4+fhK/WDvDmKQ9Djp35BsCl0cPn8t23fvHmC0JqM+r+0KOnO85KTnUTuZ7pouRz/3WzEWPlBxL7Osilb2gJt+2C50sVq5/XBzGL2wcO7rlTJVqfKmfA3RO9z/XyWH907TRg+zPUk+bp3T/9f8TuNwwZ77wT/uD2FWJbV+ofk1u0zmi+aTuXudEbiVtsfLaOfM5ye2ic1joujf/Z+2n8fdyxNxgOlD4z5Bo8dOFYSGbB9kAw2JnC48s9uSmYtvzG2JxwRI9TD+6gcS0i5bJiTYjh5Hn7EkU/tKGArHOxM7M3C3xxhj0MjKsfkZGkEX9JPxIqdqQ0Ks0RtoY9SXyarrF+Pxq5MnzFG2sA8FvDU1Ox30N0iaLvTjrufXBcr2oi8P6xI4NfuXzRj7rsObc2Pj/7FoUc6ag/eNYZcZ38Etjf5DHciyWS+eOfEMotTHsfF6HXH/q88QaMJj5WB411HzPScmhtvCxbh+w/Vle9Iunoz6GUdkLOsuXOZLxb6DkO0c5Z6pU42vky/aUbS42zjZ3HaP+SZHWs5Vt28l4K8/ID2OY7vIaIeQk5/FjK7GdGBtr+iQmN198faO2U/2ZLVaO80kYW87JRDuzsfWJ6Uf14aTir0nsf2AyUPjPkGjxs4uNgWweUVtqkbq+qQVJN4n+C9a1uw/yxK+QSJws90G0dvGmFjO50IrNKWlDgbJNmY2kId4Yrb+sDWEDNTLcB7SafsSnKao29LwgyLhEfam8im4xJNcCVkbJb7FfXZ4QIUaG9QGNdUvVXu8/aXsZOhfXMZqv0S9A/UDHkv+jMTLWsV8kkW2RDvnxeb9Q3T0sx2K5ZT1aSm1JSvnH/JeyNZ0rlqrvOdw/Bic7PCbHhnPzAeB2/oI+nliHeg4wKntBX/lt/4oepThZyjlTpxbfRHvCFy1t/5oeuXbn19T1qbR2nM68vz9P+ZCOrcS2TCH3cnNE80ndvW8SuRX9L3Qs52SiPTG+XkekcqYlNS/oBwr/GRIt/uiiRjYjubnYcz0+9GeL3S2cdrPg55Ms2GY++XiK0JdtPl4usYGfpzdWuuGVFryTRcZbHdr55dx8c4k3RudPYwPXj8vwj8kYNn0qNkQbdCInCHYsaYv6Mnk13SRGV66LwfktftxBfehwGzvpbOYM9oqY8HMpy+nPcjbjl8iuxFoIcnutOTaW/C/ns+dabiNH2hJD84DlhCUzr6XkF9nXned9LOcuzeXa0rnMdTKU8lj63Moh/pTnjKrvBX4dNzaF/l43br+mWffcT24cyd1UHJgOsa/LCP8GPXJ6MvmluKX8Sfu7vtGaaPrHdsS6lJHz83Mnv5XH9YnmSuiWzsmCniEHWDylnV6vpo/TS7anfSjO2X7kKK4PideXxsDAZNA5ovmk7t43CR+X/GfPjU8S4wJUJ9subQy+l48zqG9lXJwtNOagPyj8Z0i/IsT3N4vGHKafXUS5xR42LnfkNsdAvImYcbmLRQ0/t5jD0Gwekfx4Y2n18EdCXsBtMvzr7pIbJZEXbYTm8SYecjNP+036WdpUtCGKWSInKCIuUd9IXkU3hunLdXF4PyTb4pwwOrFNWeZ02PjtIWSyNn1EtpnH0zbkY8t1jHxWXHN0bEKOn8uOp2sx4RcJzaU4r8T4Pn6J/OtkuZjEekVzN/L8kZzLH6VxzB6J04PGv1l/9ijlac33CahPdH/6an7s+5DvsQ5cx9qeWs+BCKHnMyPT+78qv5Qjmvz6MIR4hIPa3iFnOsB9J+Xr2NGvC03GIxwizoW8y+vp7ZVtxbVDbLC+lX4RekbrhuvN9iE7bznnIzv1wfZZOkc0n9MtimEit7jPYpucD5yuvK+D2dXoXM6nGNGnktugPyj8zwp2kVU2j6kwi/E45QMAwPFjihNWNAEATgjUEfMACv+zQpdXDabByMczbQDAKSJ6VTJ6NRQAcGKgjpgLUPifAcLbuMfzKlb+rW8AAJhvKreKAABOANQR8wQKfwAAAAAAAAYACn8AAAAAAAAGAAp/AAAAAAAABgAKfwAAAAAAAAYACn8AAAAAAAAGAAp/AAAAAAAABgAKfwAAAAAAAAYACn8AAAAAAAAGAAp/AAAAAAAABgAKfwAAAAAAAAYACn8AAAAAAAAGAAr/eWJvW43Pj9XOnj+v8GZrrM6dX7DH+r/rN7YfT9W6meOJPz0tMH8epw1G9nH5vo7Ng/G2emNOOufQbHU+Kaxvbj31ZykmzYsp8+nJRhuzuWVWOdLHt3tqZzy7venZLb3/FvMrcER62vXt9vzkYXWZMjcFbH85Uxx37vSJQ6Vvz9rgSDmJucUcx1nbdF+zZxcU/vNErwV2khe8o72QnBgntlka/5zEPGkmuzDPVueTol74T8qUawKFf4E+vp1t4d+d49AzJ3PK3BSg8D8JKjE764U/47Ss6dMLCv8ZY5996gVvjvGtDbHA3AII7e3m6zYJ9jhdnPb/DbVDnjVHG7cpPIgMucjoM+5zWq/6ptTKOic3CdE+3iKNpTZhZzRO27QT/OeLu7w/+cZq+o23tpl8Zh/Ty/syefHjOjYymH9rm6aIsz64HyR0zrFav0V0s3q381F/GDue2Ue76Ez7hwJa+5voKXVMz+Vg+VT0h9FNtz8h/re2cZvZ+Ewuszm9f4yO6zruTraR4+S2see+yT9p8ON0jsk5WjKymL7aT/ac+kvq5Gxp/J2xN5D3tZGrz7fE/L6Vw3VffxLrZONN/ePXpPMBH1/OZ6FztN/k1gd/vJlD7CmlfLPzahto7pb9yf1FfWD+T+8paT3zceqKkyv1bfKH5mYUZx6ffJ57PUluO1/l9DVyazkm4inXTWUfoj4Otpd8mW7L5I7Ajq3se/m55Zrhc7p9KPSvxMzv63avD+0yZsxv3AcmZnzf8w0UsW74eiJjKuuLrqXkekm1NXOIvDS5Iecv5a7pq8fIuoBidQiPC1tyeXDWQOE/Q2wCNpte2BRCgrtzmogsYX17s6nQxRGSuenrFkojSxYaYmG5jaxtD4s1vsBo/FzR5tbYJTc/el5va+0X537eyD9Zf/K5nE05m9NzRReoBtO/leX8WzhneD3JBuV0yfWv6EZiaeUQnfl5RWc/T9DL6URiJfqX5pJtUf4x/LxMT31O5mLrQMoi9hvs3MS3Lu50biff2SXXnDynBL3EOhF6t7ktZBm9WV8ZC6mHb+9ib9bXXuemPc49DtfL2NfqJGW5uV27a5N923OO1Vn6UfenMcmvD9fe+NmvB+l35hOCk0V0E+OlbkldvW5ObxGLpq/QU8ZRnndCyGyoxdm1Sx8V4+Nl8RxPUZs7nov60Pmh9WEjz7c7n9J2rp+F+rLo55z/Wtx8Mm4ixrm5hZ+577xfGlkVv/m8zLYLveS5y81SfsmcIOd0j6msL+kPel5qY3PIuLA2qafrK9dvLpcNbb4VbD7joPCfGYkkowluFi5ZJA4zpsPiYAvF0Sa7GOexi5C084XTb0GUFjuldxvdVCMbK/4U7exiY6j4nm/akjgucuOJ5iuRiF8D9YGH+YqMLfmX65yG6hzLov5M+L4hPY+Rnd6cY1mR75r41HKZ/2+I40DmS/g2T8Jm6Xs2j8a2e/kix6g/zFj7bhWNaSd7a76OdbZjWVwpQh7V2eq0odbDExKrG7Fdysz6doL9hvg5jM/21ZRsTLW1OZLSg+tL8ynKrZKevXItR872cpzt/6XcFISxz8zfqs6VHBN57xB5JqB+jeOVHtvkfNHPk+QOta8yd62v1S08Rvs62NwslzyNbTwnA8XcFMR2ElJzE+jYkpzuc4i4kDYro5S7FV0NrS9inw8FFP6zIpmg7eZgE1wnZXzUF0dKtkz2pOzsYqhvkJFcv8BLG07vttICr/hT2hXJJ+NTm0tx0yrME0huWAKrU+NDaYsjqQe9mDI/0JhIeVRngh1P9PA6x/MSO5O+90h55JAXKkfsP+MX1rexl9onDqo38XucV+185RhLUv5rZfFY0sPnL42ZptXTrDUj18hyfU0bLSSScs3Yqq9b/QJlm4WNVj7XydjZ5ICXE/tYQ8ZyYp2cD+RjufWR25uErzI2tn5vaXxidY7z2ugR8pHaGtnNxks93XnQL9a/C2Xb6eM0ztyP9EjFx48NfWRcI8pzM1nsEH62viPtfl4qyyL7kcPFqOTnnP9aovmofdW5ZV/hX5YfZb+Vx8djDXZ8LjcFxXamZ8DN2djc+Ig+XhqTind4TMSFtFVzN6krh9rK8rHgn7MGCv9ZkV1M7rF4w5HkF0dKdpvs6U2iJdVe2iDbxRwuhlT30obSu83alVngFX9KuyL5ZDzdMAPleOTnCaRkBqwuxodsk5e2OJJ6ZAv/AL34hYsH1Vljx7k+KR/F8xI7C/oW25LE/jN6hNyyiMJf+poi/R7nVSujHGOJ8J+llRXPIxCFv/OTiY2R4WJkZDhZYZ6KvVVfx+PLNksb230g6GbtMHbqv6liuKGxT5Kyie83Vp7u0+jJ7JR7k5OX248kMj8MTf+MP40+KVsju4t6tjT2FWOXIiezHOdIzwp2bJObaV+38SnPTf9PYn3m5AUZVN9ofCZGKWI/Z/KM9In1JfZV55Z9Rf6z8WW/lcfHYw12fC43BcX2hJ7GR+X15XzrfCnXfaKNzSHymrTV7OBy0iRlmH1M2HWWQeE/MxKLlSatTUS5YCj5xZFK/jbZ3bh8cqfa0xuLRRYwGroRpDcFR+826pPIxoo/RXu0+KXvxdy2f0ZXJzvMk/ZvfsOiYz2J+DUk8oL5qjSW+YDPa2UI/ajOcTykrEx+FNtSxP2NHsyfTXxquRzbFceBzJfwbZ6EXcT3yfylRDlmbNFjzYciic/tBxmbfjV7a76O28t6mv48lxqd6DrU43eaJycZmVnf1vabWAee4258Y1Pk17KNqbY2R1L+5PrSfIpyq6RnRC22KXIyy3Eu+SNFNLa4Rspz19aY7cvWJ/drrHsqRiWon2sxqc1Xm1v2FXlsfREei2WxuVP7euPLdO4Uc1MQ20mgc/dcX2UfkbbSWiFt5bk0KT8JSr6oyj8joPCfITzJXLLLVyNYgrJNM784UsnPkp1tOAaxcbB5/Njc4hV93bnu39glFz6dq97WbmbiPGFj2Z98rmjxM3mpuahNEtOf6CL9G/mbwvUK5/n+IlZSN2JHtImxWHGdZV97buR6H0WyhN6luZwskiORzZS4zcSqzQONkR3minzL/WPnJnGON306n/CtJu4fcONam32+NX1dO5XFfERt8IR11oyxtiVsr9mb9XXs2yhuDNNf5KHXqR0j/WCQtstzgZXZ6hz8kNbZz9fo5exv2oWsWF+O8xcZL/YV6U95TvMjyhUmq6KnmLcbQmaD9JmMcxyPUh7wNpnnktrcifHEF1IPe27i5/un9HR9iC+pDkU/5/zXEs/H7SvOLfra/JB+aHSp+M3qTf3m+jcxtHaS/BHnUW5GyPmdflY+9Zn0pz1v7Yr8RfqX2opxYW3Cbk3sJ+KHBK0vCjafcVD4zxibhGbhmARkX+9lcIkZ2vkGU1gcieSXC99tWK1smey0PXx9Gt2UKNQGuwDFpuP0IX3oBlRqE/YzHTMLPO9PvsilPyJ5TC//dZ5MN06Yt9ExbIj2iPVkRH3jzY1D/SK+apTZES4uVLZ53MF1Fn21rS4HMpt2tGmKPMjMFY5cLuXkMl8YfxFdirncxNHZYfVI5Fg7H/WtPpjNFNNP20i/tlD2ZTkk28M8xE9y3SR8Yait3byvY3lxXDlBVjuHk0HnjH1qCPbJ8WmoTdF+U1kfzVivA7Pf2Bb5tcXZbz6k3I4p+5vuwdz2yA9iTynqqY923q4FiLgGNHSIczE3Obmx8byGLjnGc4P7tO8+5Mj7stzmZOvHadwIOd27yZd9uW3u+hRsr/jN+lx8RbfUOVon/nFNlJspZE6E/iKPmb1GP7a+RPyYHoU2NofIazF/pCeNj+ybgPmC+Yw8fsZB4Q9AB+wmPJBNAYChkCskATh2bJHKn0gCcBKg8AdAYl8FoBty/GoMAOD0g8IfnAyZdwrwYhKYASj8AUiQf/sWAHBWQOEPToyB3lYC5g8U/gAAAAAAAAwAFP4AAAAAAAAMABT+AAAAAAAADAAU/gAAAAAAAAwAFP4AAAAAAAAMABT+AAAAAAAADAAU/gAAAAAAAAwAFP4AAAAAAAAMABT+AAAAAAAADAAU/gAAAAAAAAwAFP4AAAAAAAAMABT+4Ih5qtbPL6j1J/60M5OOOwb2ttX4/Fjt7Pnz4+TJhjo33lZv/OmzWwvq3K2n/mxanE/PJY+jsI/GrBy/N1tjZudMYfHtmnd7amc8J/kpmC5njP0nlOsnxtHZZPP2yNbj8XG0+8Z0FHU51v1uNnAb3D7h9tgN9WAa+4rXoen3oz6+PwtxKtP1OnA2QOEPjphJF9AcLbwzVfgfpx3dYza/hX9XUPifHo7OJhT+/SnqcgYLf4bdWzbUM386Fcdc+APKHNUfJwAK/xljNz6dcOEVArph2ItOss1f2J6YjcG3283UJa/rTzaMsBmZTTe0m83WPh76d53b6Tze2iZz0QXTLqB4U3eb1XgrtZP5cbeIjrJQpPrbQ/qEtMmLiRgrFziNw1jrUC4M6as6+qBzeV/vUP/lCl6mk7PF+Wwj41uDmLtYTPs8KRZAbbwCcZGe8y0dK+XQMWMdVymzYkch1q4Y22bj0znVko8v15vnfejDdW3mYuuH9g9t5TxIz+Wp5CslzhkZ85yveVzXn8gYJtawsSszvs+aM3Lze0iCkq8Z0ib/cMmfQnaIL4uPzM9AZqxD+J21Gz21DR33cJfzT1keF+PUI3866blF5fHrAfeBzkOpS4DpdBz7nZfXyCJ6Wh31OdWhR74acrIb34vxxod940LnyF+HEvuRsU/7ZieM93NyndvHDVQ3839pPfbpK/PB7oGFuHEdRW4Jf9H23Jpg61bYO956SnxHfevWXWtHOe+KOp8CUPjPEJugJKHouUtekeTNub84NGPDxaJNZJuYIenDQpTnjTyX5GGzL88dkl5clIRudgHZRduOazZff8oJNoh5go1WVrxQnU1c/+g8qYfwVePLsODpXBTf3mwo4lz62uvZ6iYwupEcKPtW2iniHGHmztkRIPHy2DmFP9K+pWPj/5sxwSdZmcKOYqyDT4jOUX9OOb5Eb5kn7NyNa+b0NjXnQW6Yp5YHpblkm8hXicuZnD8qvrZ6tbJNW9vX+53kp/G9ayd+s4h5KjY4ndtznueCmq8juE1lXaQd/NzqVVxfubFeRzLW2cjnbW3w59JHIucb/wqfsJj2yp++eor+MjZ2bi6PYdpJ3Mp5IHJKw+wU2LEiV5tzr2fWjorPSrKZTnZcK6dPXGxfqV8lbo3fvX2Rr4jOITapnLH/Z+PQp6/LF5mnTA9Cya9OX2q/z0Wvh5u3tSec81gI/5L+XL6T7drKeVfU+ZSAwn9m0ESTpNpoMsbtNDEtJqlDMooFkEpsm7x2fG3uxFxMPh3PZbVzpEjMG+nNafWI7Wlxbdyeir2leeXmbaD9E2Mjf1FonDRF34q+DqN/zkfONrsZyqORE9vPNrKUvQ10LPk/MSaS2csO7hcmyxLb0JJoYzEq692SziMK06uYB9Pka0ycX0R+1dfC77S/sWG8odbHod3Idf8n9bE2G//VbSjmeQfiHKBQm2q6JPKDUPJ7bWxELu88kU9ILFL20v4yt0q+r1LRk+pS0ytC5GMxD6q5y0np0pDKLyO/U76W48xssPO0e0j3uCTmSOncIOQV+wb4HFTvYhw0nfsmYmb7Z+JSjFkCOnc0NvIB91Gkt293+zDxTSXv+uo8j6DwnxWlhZppM4kbJamnbfPQ5K0sCEOzAVXnTiwgNibeXOg4OienXVgtsZ1uLj1/OIIedhP3j7FF6WQ0bfTI2pvSxZFe9KR/Ql7kL4rYZEq+tXOn7MjoWrKjJfYxtbG8ydGx7f/JMcTOznZkYh3Lj21oqMaXjnXrIszH5cVrxuHGNzoGvYp5UNBXyqNHJofoGguEueq+pr7QWL1d4WLGGrlGltXVtHn7rPykXDO2bkPrC08yTpKMryOoTXVdmI+Ej22beIxSGhvgvuJ60Rww/XJ7eEoP+xiNh22v25ujq57peVuKPjv2/S7Th+R1QzNXxWeV3GQ2iHk6xyU5hxmTm1fsRwUdpR/DGKp3KQ6Grn1Tsaf5ElOIWcDKD33auSO5th+NMfeR0Tu3T9I8r+ddB53nHBT+s6KwUHNtbeK2SRqIkppusJG8kyv8Wz3M42LjZZh2OS+RZedwiy3IjvQwkH5yQSdJ2pvSxZHexEj/hLyknoG+F8Jo7hJ5O1pi/9B5ynPSse3/yTGyiCnZUYl1PD62oaEa3/RYO5/VIfSTa8aNM33CumB6FfOgoG+xLY2Rm7ugVX3NfGFo7TQyrB4mdkZv/Te7BzDqNkTjk3EKVHwdQW3q4U9jZ2qerJ2ExFhro3ksmROxXqY/i6NcM0IP6oPWnz3s9fTVMz1vS9FnxCZDNJ7MTefph8thFw9/zbFyy4V/1mfMHzHMBjFP57gk5zBjcvOK/Sgx3vqP+kDoQPUuxcHQtW8q9t3imIuZeyylcyTX9qcx5j4yY9n60rTyWt90z7uEzqcEFP4zo7QRpNpckrnEjdujpKYbbLQpiE1D0y7Y2tzlhR+PN+e6zXw4TGwInMS8lQ0l0oNiL8RmMXLdY8rzRjRyCbR/YmxVT7LJFH2bmruI933OdEtsP9v4inPSseT/xJjuMuuxZrIsiRg2JNpYjEpjae6INSPiZmB6FfOglJO1fI2J84vIqOaMsZ/raexwH97z44wt2q6dW22/OAaUug3FPJfUfB1BbervTyrb/i9ysUQ7NvZrLe+MT5iexO6UvdSH3XIrRX89I/8U9IoQsSzmQTV3axDdU/nVyK/5LPYBhdlg52l17h6XxBwpnRucvKZ/1Fe0W/gcVO9iHDSd+ybWqu0vHsvT6phae3TuKPeE76UPIr1ZTIhveuddOT/mERT+MyRKXJJwto0kHz+PE80kde6i0WVToIusPHdl4Wd0o8/a07hxrT+cjrlF7nQK7XQBO5iO1q+x/aE/l+3nZf0pXK/oPPJ1asMhiI2y7Fs5t6a4SRmf5uwISJnpOKR9S2NN/xdjrA2xzJwd5VjH7XzumHJ8yVjpy4TvmzlkX3tObKzlQWku20bHxjGgWLmkv/NXkF32tbOf6xnZ4n2U8jnVifm5YkM5zwXSV5F+EmFTURcSfwvX09pE9WSUxso2d57MO4/xCfWn1dvb6GJK+gt/xbmVs1fSX0++nkR7iE3OZ8QmQzkPnN6s3conuUDgemloXyuXyhI+qfisJJvZYOdp9esTFz6Ht531p7j2XD5I2a28dgzVrRyHPn1dPjTzBr9T3xFKfpVt9pzEMBorfB9sZvZSH9H8YHnsfUVtLOjF5ZwOUPjPGJeM4eCLvEl0e9DEijdjI6dd5BqTjCE5M5sCHW/nIomen7vbwqeyuy0MM07LoF8bRxcX2bjsoed3Onq5YYNJjpX2CF9paBzWt6S/JLEuDZGvE/5iOH+F2Jd9awj9w1Hyq+zLj2hztoeWR3PHIuQ0be5xF2v6v4GOSX2lm9SN2lGOtf0/IYvlnCAfXz6W9rN9icwmh3x8WF+jj81zL7dDHsicTM7lD5mvFCOXf70en7fs69aOdg7Xn84pdbdMseYieQl/UYKOzTzU1wmkTUV/WlltW6yXeTyzzkpjWZvRlfo1zlmjc6SX96nV337Qup1Lji3lFpMr6amn04XEmuaBftx+paTMlQYnL8SungehfzgycbCIfYPK8XLt1wqHdqFjzWcsB4lsZoOdp9Wxb1zoHLXrUCPLyI/8pqFxMfKeeP94fahuUk8pr09fPq/f+2l/RiFmfa8Ddl6aH258yF2nd+5rj2Wel/KupHO8XuYRFP7g+DEXluzCBwAAUCIqckA/ZHEKTgybu3Nw/Y+esAwYFP7g2DELbt6fAQMAwLyCwn9KUPifDPbdI/rq+Py8Ao7CvwWFPzg+wlt+WGwAADAxKPynBIX/iWEL7OY2mPl50Q+FfwsKfwAAAAAAAAYACn8AAAAAAAAGAAp/AAAAAAAABgAKfwAAAAAAAAYACn8AAAAAAAAGAAp/AAAAAAAABgAKfwAAAAAAAAYACn8AAJg3Dl+pnfdX1NZP/hycOl7vrKqrW6/UoT8HAIB5AIU/AADME3/sqZ3Li+rqzq8oGk8zNo4LavwAvxoFAJgfUPgDAMAc8WZnRZ1776F684d/AJxe/vZQXTk/Vlu/+HMAAJgxKPxniP0Z9ol/QvqpWj+hnyCf55+LPznd9tTOeH5+fjyPyYtj1pP9/L3wywn8NL6N+RH9HPx0a/AY+F3H7+0FdfPxgX8AnG4O1Tc3dK5ef3wi7948u6XnOrJ8FteYI17b/dZev+vd3FyzTmA/LOP2Z7dfbqhn/tHAyfnp5OqV6TiB6+ccgMJ/hkxXdJzcQpqbTXSmoPBPc9KF/9HGYbo1ePQcfnFDnVv4QH2De3zODk82dNG1pnZP4LkcCn/H3FyzZl342/njgv/kObl6ZTpO+vo5G1D4z5D6xkefreuj2chcch7Vq5413Ca6odaJLnJO26fRqbLA7WbUymL9/Ua1Q+UVNnC6wTt/bjOfjbdaRcxFcbz1lLRTPeMF38rmcaAyKfai6/tEr67Yi3+63en9lI03ejCfkjzpZ0cuhySx/VERYWJjxjcXs4RffNv6LaJ7IX7ql4fqyjvL6uKfltXtXW3T9bG6cn1NjRbH6u53slLied/KFY+LNcXj0rYz/1pZpRwwmHaSm+FxEVs6XuZ6LncCzz7S/d57qPb9OTgD7H+ursq8qKHXxdWRXhcLy+raoxfq2eaqGr13Q10bLarl65+r15nbwNya1Xt1k3NyL+63H4R+Vvcua7u0Fgjx2jMI3Zp1nNDFUNtTM7bZtsp1Itr3Gj8aXfT/T8i6tvNQHYnPUz4T+1PJZ0aX9a0wl4xlgPunsUXITe091E9d/DLZ9TMTPwHfp4/r+pmLX0DaUV4vRZ3nGBT+MyQkbBqXcPkNySdwvJYbDr59oK6NV9XVFX0BWdtWu1s31GhlVY0vjdX9F91fUgwLqNHFFzNhcbQL3GMXaWYRiLHNwgrjfTu3M71pGejcQc9GttWj9VFYpOl2ueClXU5P2k6RPmDnQo8wV7BR6h3OGx+wC08fO2o5xDFtbV+vo7DJtjN9hF96xc/cBrGkbn/7yuXA+SW1/rUreX++t6zPb6gvf7enBBkHGTdus7WX2OB81fa3vha6trJEHINPqP+sPJLrzDdSXiyf43RPxmf/ubq/pp8Ura6oi5fW1M7utrr57oq6enlZjT59cSy3kRzV/nE6OFSvdz9QV8ZruuBeVKOPH6vdzRU10v4eaX/vptK3M8/V7YUFNer8Id999ei9VbXz6yu19a5ZFzqfH/hvB/r6A5a/kvLe0G8/cPna7jvVtV1cCzF87cncl+dCF2aXwekS+vN1y7FtWR8lfJJY09GekBsffNb0F3ZVfObiWSooRQzkuZWXH0/91Mkv2XY3L81LHgPT3sqSyHix8y6xJnOHcx4Drif1qbWL6RlklddLUec5B4X/DLGJEpJTYpI9SiK6eMoLSe09VOPRpnppCqffH6ubJtnf2VTf797gi6IDqYRuF0BaD9NOF0wJJl9sfAa62CR0bKwnXcQpOXRh874GLs/1pe2UlI9KlDaQ2Ad87s52VHNIQPsbHey7PKGvmcP/z/QTfukVv+fq7vId9Wzf5+faYxVe47c+EfFw8PlsPynb6pC72PE48/G1HJDtwnZPKzOWVyZXIOp5Lo/UXVtsH6ovr2tfndfnz7XfdP9zC9rWo/4g8BHuH6eBw2831MXrn6t94+Kf7qllY+P1x+r7eyNrb9e9LI3Lk84+++0rtb7yQP38N/dOAf2g9+Fj5//1r925pLg39N0PZFtxbdfWQgxrs8WdWLNsvpKejuKeSojb+DqNfBjpwe2M+st9VOrd2Fr3WRxPTtJO6sviXsjH9/YLza2EX7i8cvySdhQoxjryOfVzrGc2vpX10lfneQKF/wyxiZNZ1LZNJ2B80ATNL6SfPxur9S98GeUvZMubP6qDF9vq9sebavdV91fsUno2SW8XTUrP2sXSLbCmf1hAiY2ytPnRxUf/d/BFbuRInVrZvK+By0tv0i3UnkxcpK+KGxfdrPncXe2wcul8zVHSz81rxpo5jFw7r2lLxkj4hbU5Wt0yvNhUF7Re1KZvPjR6LqlPvvMPNMS+SNvIL3bSF2G8fbzRrZYDsp3GXBw0tuKxPE5eVPj/+ECNb33lnxS9UveXtaxlXZQfvFA7H99Rd3eP/rvij3L/mH8O1Jcftr+ZEIrra7sH6s0Xm9rebf3k1LVNhsvZcx/W4s8JetB14fI9/y1Bpj23N8g10B6Z/cDmI2krru36WpDQtcfXWYDOL3QJWJ3iudLyHHGb053tKVRnZjfva4h8HhX+ovBu5NV9FukiSLbTOVPzE6gvuvgll1spv3B5pj0Rvwbqi0w/a0voE+ZN6B3ZTK8ZKT2o7u3/Vi6drzl4LvDHTgco/GeITazMoo4XoSSVwGn2H63a5KSLkvOjun9pQb31/ufJe4tTejb6NZuYb6jSLpawiTBbE/JKmx8dG/uMLuhpNy5R4GbxF3lrI9183WNUl8k2ru52xP6o0c5j5Nn5zEXMyNV/mzlZjIRfesbP8PqB1vP8srr7g39AvVCfvK3HLNxQX8rb/BO+KMm2PqCxEHG27c34Wg7I9rh/FvsqnNEjjl2Lk1e8JcTfL563OV7Lh7++UPffv6F2/+Yf6El1//jhnrq4sKiufm5mPFDfb66qKzduqNHiohpdf9wj/+aDl39e0vbm97T9x2vqLf2ktM3XGn5P6Fn4Oz0S6+Kde+rnwj3+ub2h/35g8pH4obi2e6wFD117ad3o/Cld9NxkTroXlGyN27ju0Z7C7I7tjHzes/Av+SzSRZBsp3Om5idQX3TxS5frToDLM+08d9L4taJlHc/1M6UH1b39P/ZHjoTOcw4K/xliEyu3qG2hUEqirgvJL5LKt0oc/ravDjIv4qUWQGnBF6GboofJbzZF22Shi1xCx8Z6ct1iOW7Bus0stoPLo5tHF8QGIvSffOPqYUc1h2KMLuOtbS3DjzO6aN12bpGYsBgJv/SMn7mfeXdVt9NvsvGvMF+8k7p3nc8Xx5ySihmPM49NLQdkO/V7N2r6mnu6L27+6M8T+CcQ5tXoHO1a3lfPPruj7t7Qc55fUTt/tc0t+6/Us7+8UG8qL97b+JX2jz8O1cH+gYuV0W/kC1MfR/pE5uCn5+qb72bzw2Td5nYxte+o5G6fOjxQ+7/1scC9S2PeMemOf2eHrgv/ztjyvVfq8Ns7anTneWRLcW/ovR+YfM+te0c734RrIeia0o3Nx3Xh69ZBbS+ts7iNr+vIh5EefI8w/ZndxpYgP+Gz1ta6z+J4cpJ2Ul/a+fMxp+N7+4XpH/uFy+Pxq9PKs3L6xDqy2enpdIv1zMZ3ovUiZM8pKPxnSCqhW1yysnaWiOWF9Pqxe4v65e/+VaLxA/9NEIfqm4/Gaitcg8y3R7yzpC78aU19mXk72+pJE9rq0c7t2ukCKSwAuZjsudHPL9zERlna/OiijzYAoYeVQ2UzXaS/3dhWHt08YqK5iWzZ5vzVzhWNLW5cNTuozbUcSiDjEflBw2Ik/NIzfuoPLz8Uln/oJwLmHvbLOl+TtZWMgxtPL56tP13fts37o/GP79voJv0lbae+9Vh/UXvpnLK/1EfinwTd+IoXdL88Vnc/vqN2Xhw2r0aHWz0Ov95Q48/8Ys6tZaujLPz998tr/d766Ll/rKXr/vF6Z1UtLy2pt9Ye23cY9nfXdLG6rO7bV6m9/y4/dP47/Mp9VuD8orr9rXlAYD5XYD6zQHONYH/YTI9P++9QPfvI+GZJ+zuROMW5D9T3W3fU7c2v1JvwjsqHT30MXqmdlQ/Ul7+5fs+07ReX9JOzT40DdLzWlrW/F9Vo9Ya6+uEH6qr54PMPYn6f41ceZjbYFEEP8g1Pbt8w7wDsqy+vmw/Cx8/E5N7gxuT2OE1xPzB6k9yure3iWogprz15znVp1zg5N/7y/WU7JW7j69TJan3Cfcr7Gkw7s9H4Ici3PpN2kP4VnxX3TouQJ8+jawmH+qLmF5lbPHdS8dLnjTxzTu3kRHMT2bLNxaedKxob2ex0c3ZIvaSPqc3SJk1BL+6P+QaF/wxpElgecvE0B08qtxDFpmP5Ud3VFydzq8Tuk033QTVfTBx+d0ddvLztL+I6sS/rC8lnd9SFwlvXVk/xNV904zMEXXLtFNbXLBy6+fUsHOniixYiW8RBTuGr7sImbQ/ta6MXkdfEK6mL3ySSskWbHu9kZTaQ4sZVs4PbXMuhGNef5lTkfxEj5pee8QuvYl58VxdUozV1c7ysxh8+Vj9H3+YT4L6wsLjpI/Jl27b+xMci6NO0e7+w/jIHpG8djf3+YOvR5nbblvWD5+fPRurc0qZ66c8NLzdNQbugbu4+VXfNq8Dnb7hXgQ91UX5JF/T2SYC2K7eWrQ7xK/4H322r2/+woi68q4t6/5ij4/5hfHVpU92/o/UTOltePdBjF3XBG/zhCuybl5fStzPpwv/Kn/QTkZWHya+rfPNwRb1l5LFFG9CF/8fL9knH7SeptyYKc//2WF0zNr5zT33/uX7iov8fffbKNr15uKou6phZidqPF95/oO6bJ2fv6yc6xv7VTfXJZX1+3X0w3ea6bmMa2Hc+Ruq+/wyBxcaksBa1n00cw7dcWfa0npeW1LJeK1c/e6EOEj4y87t37LQe9hB7XM/9wNqj+9mctmujvLaLa0Ei115in6QwXfruqYS4Ta5rLnv9iWkPdsd7gPM5sZPuGdZG8fXUwq6Sz6R/0/CYMl38/LkYU1/U/OJ0mfz6yeMnEfFksnvGOrLZjXd2eJu0HY28gs3St3y9lHSeb1D4n0kO1ctPdSH17ooa62Jq5+GmGi8u268CXF7ZJB9Uc2/RvzRfnZi6cJ8xum2i889ZscPgNvDUh3gHii2W+Yc3D1/cU6OlsboyHqlrWw/V3fGiuriyqq4sr6i734bFXFjLmcLfYp54yXcYuu4f5paXgxf2lpTo9qQ/9EXx8qJa/tgXzQTzrsXNv4hXxU+I9Nx79pX75csrajTeVI+2bqjlxZG6ujpWo+v6SUjo/vuBOvib+4aja7vaCfaWn69sYXDl4a+6g3/HRj9xaQsJn+OJ+/Kf6eIjV5ABMG+cjeuOLOyHCQr/weOetV7cfKEOcjf5nxFQ+M8bifv7B4/zSb/7wQOZtZwt/A/UNx/qQvhx6hXyjthX15bsj621U5pbYnThvPVKHeri+IC+e3OgL7xLqQ9tnwBHMbfx5cKa2v3rgTo0hbx9Nd+/w2Ju6VkQT4L+eKXuv7OgrtonBgTjtzPy5B0MAxT+ZwcU/kPH3ku6pD7ZuadGq+lv9TkroPCfI35/qm4vL6m39CZs7ru+sDz5t86cOX7RReHCqnrU1x+5tZwp/A++uKGWdR6lbhnpiv3Gn6VNtXNPF/qPzIy66L81UuN7z9X+/r56vb1K3to/UF9eH/HbV06Mo5nbfsZidVvt3FhWn7zw9p9fVfYNAO3nC39aUY/I2/2m/a3s51UAOD2g8D87oPAfOr8/V7eXluz91e5eYQDArDnQReTF5gO1HYnWsvtWn9vvux+hGq3dUZ/sunvXjwr7w1dvL6vR++6+fPvhXvtkrj3GO+LV7lOM/YDx0khd8bcw2WJocUmN/+GO/SVl885Hg3kCd2lDfTOL5zkAAJABhT8AAMwhhwf7/DYZMGe4r9zMff0q4gcAmEdQ+AMAAAB98V+5efML3McDADg9oPAHAAAAevFK7X58R922xwPyTWkAADDfoPAHAAAAAABgAKDwBwAAAAAAYACg8AcAAAAAAGAAoPAHAAAAAABgAKDwnxcOX6md91fU1k/+HMwhe+rR6praeYVv8QAAAADA6QOF/zzwx57aubyoru78qk53SXmoXj+8oUb+F1kvjO+ob87Ob/c47K+qjtUWfuwMAAAAAKcMFP5zgP01yPceqjfRr3Tuq933F1X4SfgT4fcD9fovm+rK0oJa/9o/1hH28/S2QDa/3LmqHv3NtZ8V9h+uqnPvajv9OQAAAADAaQCF/6z5/alaf3tB3XxMfuq9YU89en9ZjW49Vvt9frp/Qr7fXFbL766qa5eX7E/t9yv8X6hP3l5St79t37P4+bORlfPWR8/9I2eE379SN/WTmpuPu7w/s6d2xuYJUO7YUM90L/vT/7eeuiFTo3MqOZc5xmpnz3ebGCd//Yn8P8GefgJ4JHMeAUyXit4NLn71fifPdDlj7J+TuJwCjnZ9zgtd18B0TOq7I/N53z3oyUazX443Pz3G/etk/A+ABIX/jDn84oY6t/CB+maO7vF5szW2m16vwv+vD/UGqTfLhRvqm/Az9S821QXz2NKmeukfOivYi9LaY5V6ulbC+jZxMTvawuK4i7oeF6y5Lfy7gsIfHPX6nBcGUnj2XPcm1uOtk1gYKPzBbEDhP2OefaQvKO89VPxOngP17OORGr87Um9dWlO7J3xxnqjw//25ur2kbVnaUM9CNWw3XP3Yef3E5gTesZgc7e+Pxmr50oJ669176tmLh+rmeKyuXV9RFxfH6u53cXlvbmsKr9b3oVz4b9gLQXi1SV4QQlzcUbqQdSvqomImukC6C1MzZ9OXXrDii5eV68eMtU1cpngHZLyt3vgWC3m1zR2tj53vttn42gU6rwvXO+1brmszV5PXsn9o21A7VJ6wsRhHYX+pKIhzRsjK+prHdf1JJoYyNzLjo3wu2GDkjre2xfy+MUHRVx3i8IzqYvRkY2RuPWX5UvRHjziZL27Y/XBVjddW1UjvJ5/sPlZ3V8bq6spIXVx7zPO/RgebO+eez5287ofq9e4H6sp4TV0dLarRx4/V7uaKGq3qo8d1ifuukjuESccZaBy770HicZMf1qdhrNFB/79FYy+vAWU9+/lf6sP3u/zacONO5skLOI2g8J8pfmGLzeHg8Q118aPn6vCne2pZLPaTIGwofe/xl9h3M8ymtPq5eGIzZ3x3Ry0bf3/9gdNXP3n5xiq8p7be1efi4mn51mz+/T/kGwoMibtQtZu3i4EoTKgetvCQF52Av0BV0iYqZthFTl486Lm7uLkLFv3fy4wupDmZQgdrE9XbX0R9e5OX4UIZ9eeUdSF6S1+yczeumdMXXs15kBvmCYVZ41c3T2NzaS7ZxuIR43Im54+Kr61erWzT1vb1fif5Znwfx94g5qnY4HRuz2WeM0q+6huHcN7I43qH3GrsEPKZ73rF6VA9+2hZ3fx8335xw8/3lu08N3efq/vvcF9U6WuzyD3p6yh/BId6j7t4Xe/dRnF/LTp3/bH6/p67hbPxVYXWdzIn5TlnqnHZdR+PZbHVmPOmncVWrgsvW/g7tzb6+V/KDuO9LqW1AUAFFP4z5bm6vbCgRg/aTci8+vzlh+5rPd1FYqTul77ic/+52vr4jrrd8dh5Ub+nKFwEpyr8/9BFs9m4FrQtc/71lz9/NlbrXxyol382n22gn1N4pe4vaxtSH+SNLsLdsL4lm3lAXnziC05cILALFMNfoFIHKeaKcxYvJPQCl/vfI2WS+R1p2wJUR+s7Nj4xX0NFF9petNVdgNNzOJhebA5Ha0NcdLSk58nliyGKH5Vf9bXwO+1vbBhvqPVxaDdy3f9JfazNxn91G4o5JynGJaYch9j3VC821kN1lTHsHKffvlLrKw/Uz/Ydz0P15XUt5/ya2j3YU19u6j1567k6mOLd0LLNtdwrrZ/2OmQ4fOxexLm2e6DefLGpryXb6pl/Nefwp4fqqn23N31LZ1mHPJONq6z7DnuQmbeZi/k0lk39n8wBO75dG939n0Da0WNtAEBB4T9T3MLnhb/nD/NhWb3xJb/t53ixG5jZkCYu/A/05qmL6KU19ejUfOe9L/IX9GYa/G03Wv3Yh0/tq3UM39bXR7kCob3IeegmH/RIHOmLIb+Q5SjNyQqKCHrBIv9TnRtaXUJexYcYI+31OsY6UT0EFV34WHdRDvNxea4tnsONb3TsVHwV9JXy6JHIFwMrUDxhrrqvqS80Vm9XSJixRq6RZXU1bd4+Kz8p14yt29D6wpOMU6AUl0DXOMRxtD7yutD/AzTfWr37x6nF7+kshyn76su1xQ6fiepqc6w392Eut2PciyK5OPknNDe+ivdJDYu5LViF3hkmGpfMJ2O7e6y+Lty8kxT+Vt9IrjnatTGJ/7ncoEuXtQFAGhT+M8VtBsnC3290V3ZO/ovww+Y4WeF/qF4/WFFvXb6nXtpXhA7Vwf5B8oIwV+x/rq6aTZR8YNfdx5/5xiV7Qejvo1SBYWAXOQO94CQvZiXaC12J0pz0ghZDL2Lk/6SerS5lmRrvU3ohozrG46kegoouubHtRTb0kxdnN870CcUB0ysxb2tDQd9iWxojt1j4l3zNfGFo7TQyrB5mDzJ6679hntaWFHUbovHJOMXYcdbvPH7d4xAXWba/14X+H6DyWr37x6nB5/fy5o/+gZjDg311EL4cIaKvzTW9uxWeod+5Zf2EJPkilHvn+srD9LUqmTPeFzamss0z0biED5zt7jHmrwxm3mZdMXmxD9M5kqK//608Y2chvoamX6INgBQo/GeKu4f8YnQhOFTf3DAL2bwlrP//aKy2cteKE73V51C9+e4r9eyn/B37r7dW1MX3H7rv8jeYgrq5YNTHHx/lucNb2ePmSdi+2l3VMVi4ob48MF+ruqoe0U3V3vO6rO7+4M87Yn2buDhEF43KBadMe6ErUZzTPvHMvZVM9cn97+ksM+0bqmN80S75paJLcay7ILuLv7g4GxtE4cD0SlycWxuoXEmpLU0UPyqj4mtnP9fT2OE+eOvHGVu0XTu32n5xDCh1G8p5XkPY1ysObiyNt+2fzS2ua7cYJjh4oXb0vnv3i73mhYT1r/3m+GpbXfnwK/dCw8FTdXu8rC4uLKv7uT3lyHOvtAYO1Pdb+pqx+ZV6E14Uad75fKV2Vj5QX/5mT/xeOFL3X/lzQZynhEKeTjausu6r68LN2/iJ+TSWTf2fyqGWvv6P12d5rfTMSzBoUPjPFF9cRm+Rug3BvvpsFvs79/w9oieD3cDMhiQL/1cP3Ae8zq+o1BsRrx+tqYuLI3XtQ/Jk4/1R+yp6Zbz9ITPdnt68zIfk3D34608ST17Ctwq9rTf11CtmlbnD/f2ffOcfoDEwF7bxA/WaxsB+ELj/j5NZ3yYuZtFFTmzyLib0gtXzopFAyrQ6NOPiC0mrI52b68Evfk5G9PY0tZNciPnYoF/bX7aXfVDThYyVxQDzvRvXzCH72nMtN8yTuDiz2Jbmsm10bBwDCo9X8FeQXfZ1MkekLd5HKZ9TnZifKzbU8pxR9VWfOIg4aqzeNLf0+KZdjI9jmLeRcrC7ZuUu33uudte0DF0gb5kC+Y9f1aPVZT2fezfx2a1Fde3BPVtgX8v9WmNvm8u55/Ins35+e6yuGdn62vP9586G0Weusn/zcFVd1DLD+6B23/6Tlpu5RrU6xH6K8oEw6bjyuvfndGzCL81czKfxfsPn6rI2Ovo/msuvxaCLzIVE7AHIgcJ/xtgfuYru6TxULz8dq7eWV9TVlRsndp+8/QGv5WV1wf7irj4WFtVFfX7tka+U/3AfSLv6jt6Q5JOC8D3+iePCnReuT2m85s3DFfXW+UV1Jbl76cL/42Wt07K67S+WDF34f3JJz3dJb4aJ5vLc+/oirMeGXx22hBiYr1XdULt/5TGwH7wmT8j4BSCP7Ze4YEUXstxFnPg1fcEwhItE+mgvTOGi6A73tY50TiFHXODc/PR/B9VzfUvaIXUjFy+hj/GH9ZfvE/s4nluS14WPLfnW6aAf9/FhfY0+9iLs5daKL00jzx/JufxBiwiJkcu/GpPPW/Z1a0c7h+tP55S6W6yNRK7I+5INkbxKwRJ0DEcuz+pxcLkV+drrYv+3H2guzFWIYTZOe7qAvqT3kBV9bD5UO9dH6sJoVV19d6xuPnzVvOBz+NuB2t81v+myVvyV9n42l/UOuUPtbNnTT1T09eDyihqNN9WjrRtqeXGkrq6O1eg6eUdXW2Dv73//sd5F0zAdKrlDmXScgfqp3x7kxjbxZD6N9xuXN0SXip7d/a+xsQ2yjA58fVIbzdHKcbmezUkweFD4zxr7SnT/r4WcHeZdCq1v5m3dOtOOn4ajmtttrMv3ZmIEAOCIiQq4GWALufc/V28OTuaFnqPB3d8//uyp+v67X5snMgCA+QWF/8xxt/uUPvA1V/zyYLpbj6YdPw1HNbe59WdhVYU3QgAAp5vZF/7uG3+ubm2rm5dyH6KdQ/z9/zdv3FDLn56SaxgAAweF/zzwy7Yam0Ky5/3iJ88rdX80zffyTzt+Go5qbvNEbVGNH7Rv0wMATjezL/z31M7lBXXxnRX1SepWxjlm/4ev1Dd/+VHtn5YnKwAMHBT+c8LBkw11UX6AFMwd9luLbj2d6kd3AAAAAABmAQr/OaL8Hc5g9vjfJEDRDwAAAIBTCAp/AAAAAAAABgAKfwAAAAAAAAYACn8AAAAAAAAGAAp/AAAAAAAABgAKfwAAAAAAAAYACn8AAAAAAAAGAAp/AAAAAAAABgAKfwAAAAAAAAYACn8AAAAAAAAGAAp/AAAAAAAABgAKfwAAAAAAAAYACn8AAAAAAAAGAAp/AAAAAAAABgAKfwAAAAAAAAYACn8AAAAAAAAGAAp/AMDpYe8r9b/d/bO6/fGd4rH+9/+T+h/+x/9ZXf8o3W6Oo+pjjvW/v9ahz/zNZ47TqvtZn88c8NXZ173p87+m29vjoXp56PdBAKYAhT8A4NTw8s9L6srDfX8GAAAAgD6g8AcAnBJeqfvLq+rR3/wpAAAAAHqBwh8AcDr46Z5afu+hevOHPwcAAABAL1D4AwBOBT/fW1bjB3v+DAAAAAB9QeEPADgFvFL33xmrrV/8KejBgfp+c1VduXFDjRYX1ej6Y/XGt4B5APEBnNePPlBX1m6oq5cW1YWVe+rl774BgCMAhT8AYP7Z21bjd+6pn3GbT3+ebKhzI+87c7vU+QU1wjsn8wPiAyhmr1u8ob4032Fw8FjdXFhQ5/7hqcIX+oCjAoU/AMfEwdd31PjWV+rAn88br3dW1dWtV6figvJma6yW773yZ5zDV9vq6uVt9bM/HySHT9Un4zvqm8QXHu3vrqlzC8vq/g/m7Kla14XlucsPT+xVZcRHM8fxOWmQD4Y99Wh1Te28Suy+P2yqi+cX1bXHJln21M5Y58PChnrmWgGYGhT+AEzMC3X3nSX1lrlQn19Tu6TCP3iyoS4u3VHP5vkt2j/0ReXywim4b35fPXpvWd21hZHgl201/tOq2vkrXg+zOff2B+qb0jPNVw/Usi4qrjw8oZgjPg1zGZ+TBvnQYnyxULl98fev7Cv+Fz9+jlf8wZGBwh+AqTBfMakL//ED9TrchvL7c3V7aUnd/vYUbNV/e6iunJ/ze+eNjsub6mV0m4974nJl51d/Dr6/o5+Ifpi5LcA+0VtUyx8/PaF3oRAfyXzF56RBPkj2H66qc+/qa4c/5xyoZ7eW1YXVh+21BYAjAIU/ANNg7sc8v6Au3HnhH3C3pZw7NfejH6pvbugnLtcfz+0rSvuPVpl/A4dPNtSFhRvqy7NZJU2GfcV4Wd3/yZ836CLio5G7tevwQB30eifqV/VoZUXt9HwRGvFJcCTxmSwex8n3Hy+q9Sf+JAPyIYF/Rf/m43j3fb21qkbmSeDhoTo4OAUvIoFTAwp/AKbAFKXndOF/8y9hYzbfPnMabp8h6AuyvFVpfthXu6tL6pPv/GmDf8KSe/V0sOzZe4Ivbv7ozw3mlcORGt97rvb399Xr7VU13uqTn0Zm33eFEJ80RxGfSeJxvDy7taDWv/YnSZAPOYzvzq091lnQ8nprRS3/w2P1WufD/tcb6uKtp74FgOlB4Q9AH/ZfqJ3rYzVavaGuvDNW45HetM+TX5P960M1Pp8qVPXl/dsH6tp4VV1dWVYX17bV7tYNNVrRF/lLY3X/xTSXw0P1evcDdWW8pq6OFtXo48dqd3NF66iPS7qgr9V4+5+rq/rJS+0Vu5nw+2N18+0N9Sxyz3N1e2FBXXkYf1ry+Px8xOw/V/fXxuqKjtNFHaed3W11890VdfXyshp9+mLiAunln5fUufF28+FQ++FR+zmU9hj3ut1ikkIT8ckxfXxOY+Gfz4fj8vORc/hK7X6o83RtVY0Wx+qT3cfq7spY5/FI5/HkX8HqXjwiH961H+7l+XDuo+e+EYDpQeEPQFf2HqtrSwvq4p3n6tDcxqM3aPPVe/YezXBbj331fBy/Db+nnxCMNt33MZti1ox7Z1N9v3vDbexTvKJz+O2Gunj9c7VvrpD+6wDNrTvf3xtZ2fVXd91FeR6/QvDwsfZP6lVCf4tV9GTlGP18tOji7fJI3bWF7qH68rrW7bw+f+6/vs98i8eEt4q92VnRsj5Q3xzZrWYTFJqIT5bp43MKC/9cPhyjn4+WQ/Xso2V18/N9uxeZHxM0+XpzVz9pecfonNjzu6L3bzN+nuIJzjYo/AHohLnlxGzw5JaY1P39mYv6z5+N1foXfqAvzpc3f1QHL7bV7Y831W7qa906caC+/HBFbfl7hm2hrGVf00q++WJTy95Wz/yLbIc/PVRX9ROXc0u68HIPeUwhoR8vFV37z9XWx3e0vG7HzpG8cmtuD1jUBUVCVuZieXx+PmJ+fEC+6tV/QNx8gPnghdrR/ru7G75m9Vf1zUdj+81R13YTr5amyD35nJgJCk3EJ8/U8TmFhX+uuO3s5xnz21dqfeWB/9xWeIJirgV76stNvedtPVcHvu3nnVV1QecDv52rQPZJEQDHAwp/ALpgP5SnN/v3HuqnAA5aZAfsB3srr+aFzwVkN/of7qmLC4vq6ucdCwmCvY0gW1T4C9aNr8TF1Bf+H578q62Hvxcu6+aDb3/Svkx18cVTqfjp7+dDdfDqsVof31Pf+0fSvFK7/glO7bj7lw631PhbrbJPvGyBPFL3w88Y/P6r+v6zNfvqY5IOvsly+KN6FNnxgRq/vajG1+Xjd9SjHzLxO/L49Pl12xnG55fP1c33dGzeW1YXllbSty71ic9RxePI0E90Po3nvfqOfgK3uhE93vi3i801P6sf1f1LC+qt9z9v9uCu/Pw51yt7fPpVh1t2XqhP3tZ6ktu1GP6drJtfdIxFKPyLt0oBcHSg8AegA6FIGX3W/ojUs4/05k/v79d0Kfzth7lKH6b9Qxeg+weiOO+CL+CTX31pCPfZymJnRoW//R7rgq90sfCWLvCSbupQSPTzsy8WV5dP/sdyrC38CSTFvov0pzv2ycj+tw/U7c0btlDI3gfep7DsxASvMB91fIy8Wf26bef4GD8t6oLPPVGxT7JNfsuFPHV8JojHMVN9xb+LzRU/Gw5/21cz/4IbX6ibd6qSmHc3FlbUo7/68xoo/MEJg8IfgA64W3jo5ryntt71RfYvD9XVtc/dqz9ff6D7xcXM68futpuXv4dXi8LnAg7trQJb/hpifk13eWlJvbX2mL2qdfDTc/XNd78mngwcqO+3dMG6+ZV6E14xa+6Jf6V2Vj5QX/5mT+JXjhvcW+zZC5nhqG/1OXiq1s1tR+cXkx+ENphiIlsE/PJAjc4vRT/qNa2f7RO3kyj8f3ms7no/hXdpQlF0+PWGGn8WYpF6l8b9umuu8HfvRBUK6t5MUGgecXxO/NdtJ4rPj+quzumgs3sRYEHd/tb1DEwfn1NY+GfyobOfzR77zpK68Kc19aVx7otNNVpaVG9dWlXXVlfV7Rsr6mLxXaApCbcefbHXvlMVbkF8ta2ufNj+Qru9//+dB/aXiV9ujtSFxUV18b01dXV1Q928vKxuPhbr1u7LmR8oBOAYQOEPQBf8rT6hEDVft2Y2f1Nkv3moi5R7vprWF6QLurjeYsW1KwjOLdxQu0/8B4J9IXf43R118fK2K37MKz+XNtX9O/oCSO/DP/zKfQhSF8myiFC/PVbXTNs799T3n7tvBwnvShi9zNfAhQuSe2Uy8WG5P1whlfzGjePA/lDRsrr2viuMkvfC/mEKw0Jx5J/ktF+japjSz5qTKvxfbpoix3w48Km6a+5rPn/DvTJ8qO2+tKJ2mqLOvUszZvdulQv/1w+0DW/fUd/LOE/MBIXmMcXHcgK/bjtdfAz+6ysvxb/ePX186vEIL1QkP9hvf2BQ62a+LSv1ewHmA9jmg7W5W1kSVAv/ZD509bPbL+5+dkfvre7Jg/lhq082zTsEI/ebCPZV88QTiyPiwH/z0vK952p3zejp9/g/flWPVpfV+pOwUf2qddVP/sy38Jh9VefxXfPOlv9dF7u/yJy2Lxbxd44BOE5Q+APQiQP18rNVe9/utdWxumK/MnOsz5fV8mhDfRNqZv+DLPyV6kP18tOxuvjuihqP1tTOw001Xly2X1+3vLLZfPhWHR6o/YMX9tV3+T3f5lX9m5eXErc37OkLkdbh8ooajTfVo60banlxpK5qHUfXH6rXzXXWvzL5Pn+F2xLeCYh+VOi4OFSvf/pVHdpfDdY6pYo7XQheWMvc5mNxv5fA/TStn0+u8D98cU+NlnQejUfq2tZDdXe8qC6urKoryyvq7rckQjY2sqApFf4+zrlbpCZikleYjyc+J/XrttPFR6/YJxvq4uIqeYIQOIr4dCj8H66ot8yTo9SHfXTh/8klrcMlnecpJXThf+VPunhd6f6LsdXCP5kPXf3sbvl6aV5J93vF4W8H9oPi4RY494LLovrkuL710nyj26WRGq/oY/Oh2rk+UhdGq+rqu2N18yH5ALK/v99+0Nvcqvbbj/ad4bc+dorZdzWCzh73DsFp+cFHcBZA4Q/AkeJf6Zv0fvnwytV3B9G9rOaiIV8x645/ZfKzp+p7ccuQLXZncuExBYz2VeLeX2Nr7R2Inz8bFX7uvkLGzydV+HclvEuz+8NT9XPjjkLhb15l1HG++fgoy+JJCv/jiM80vz58PCTj88u2ujq6o77ZP7QFKluxRxKfyeJxnNQL/ynzwe8VFzdf+F+x5S9kuHW7prp+sdKx4e/vv//1c/X9X7We9IlA2O/Yiy/useYdYwBOABT+ABw1L8wPsEx2D6+9f3RpU+3c0wXOI3IVs/fET/Fz9+Gt9hs31PKn5FW3P9wrcVejD/yeDOH7sHmRb27z6fDW99+0TQuT3Rub8/O8Ff72FcLxDXXzXX9vsyVf+B+Y+8eX7qjvWbU5PRN9qPJI4zPtrw8fD1F8zAfWlz9QX/6yr/V8qm4v6VwiT6iPKj5z8SFXwuGB1qf2RGyKfHD715L6ZOeeGq2ab/Uxe8SCuvBn81XK/knBx8/5k6wZYPN2QefDjZH7PIp9J0I/gbVq6tzQ9n/yLdHSvGO0oPe62Wy/YKCg8AfgyDFFyhL7fv+u2B/jentZjd6nb7ObbwgZqfWvaXHcn/0fvlLf/OVHtU8KEXOheuvyA3JL0AljL4wL/CfrzcXwvYfqTYd3IOxnLchXrHYl9rP7Vh9zO9U5faG+8uEdtfX8KF81n5CDV+rZX75Sz145Xey3+ny85u6PH62p23cet6+gms9FLC1NnSdHyVHFZ/pfHz4mWHz8ZxionvRJ5BzG56SZNB/c5xKW1EVzi5h5p8O+I7SoLpg18OGKGl3/vPNtScfKH7+qlzofvvnB5aZ9IeFPi2q0dketr4zVzUf0yar5bZhFNX4wJ79VAAYDCn8AjgN7L7K5yM9B8ZjDvDp5iXw+YRb4Wx/oV6CadwHGnb+q0T3J6t7/rGL8YPw2b0UE4uOY1/icNEeTD/abkebh1p4ihc9VacyTIPvlC/PwhAUMChT+ABwXE38f/8nQ6e35Y8d/JqL5xiJz61Hf+5e9n4d8AZ3rXEN85n0vOFmmzwd7i5X/ysz5xd2OtEx++6UFawLMDhT+AICZEn4B+S1za5T5qsbmu90BAIDjbnfzvxny+bx+KHZfPfus/V2TXXx2F8wRKPwBALPFf/DYfJhzd2uMb7gAAAAAjgkU/gCAGeO/5s5+GBK/YAkAAAAcFyj8AQAzJ3yt57nlTfUSt/kAAAAAxwIKfwDA7PFf67ksf6kVAAAAAEcGCn8AwOyxX+u5pD75zp8DAAAA4MhB4Q8AAAAAAMAAQOEPAAAAAADAAEDhDwAAAAAAwABA4Q8AAAAAAMAAQOEPAAAAAADAAEDhDwAAAAAAwABA4Q8AAAAAAMAAQOE/a55suF8sbY6x2tnzbSfOU7VO59/bVuOZ6tOFPbUzXlDrT8LpadAZdAbxTMP8ItZAhTdbY3VuvK3e+HPJs1t6H7r11J/1xewhfi8rzDETTmEu2Vg1sZBxdr7uGveZUvL9UcVlKjnT+PJ442Jz4PyGeubPJbX2XkwZi3K+gnkBhf8ssUW/WLD+icBsFoso/E8FKPzPNIhnB+ao8Df717wV/KeYM1NIncQ6PsuF/3isxql11bxwiMIfdAeF/wzJXWCjx9m7AnxRmr7jrad2gdF2K8OPGW/RVewWYyOv2UzcZhUet4uVbgL2f725UF2MjvbxMC79JCYcbANg46SOMXZDafqHebgtVobXef0W6S83zIJeZp7x1nbji3jT8k+OnhD9rXzqP7FxlvygobGyB419wU9Rnnjb3dxGnw21E/yWiTPPv1JbDNebxl7kmD5avb3/tqhPChetVDylXhX/UqZeL9Lf2q87Yaxv47kqckGQ7+tiIXOziWMT68QaMAifUB87ORtqnYyj80R51dG/3JbQr7//JDzP8v0s1i+hr8//yGcJGzVW/+YxoXezfjRWDllbsj2isq4y/mX+HN9V/xjFmeZIh3VV8k2Ckt9NG90nzSHzgo4f39pofB9B4tLfDpLzVA6T6ZAxZ/7V+sn11i3vU+vPx0XLbMfLPa6SEwS3Xs06if1nbHLzEPnCP2xfsW2F3PV+K10/c3lRz1fNNLqBIwOF/wxxCyVezAy7+ZA+4twtQnlOFprtHzYFt0k1bRq+GfpNNzT7TcCehwUb+jYLOCObzauhssLG2Gyk8pzj/NTK4udu3mas1NPL7qZXl5j4DbvZkPw5GcN8WpnP9qWbm+0f7Cn7icdOk/Axa4/k0ZjJ3IhzhWL9RPRuz904Oi/3qderGRv3Z4R45vpX/Ctx60P4X8tP54fUTZx73aiPpF8i/SiyjZ3LWAnZzE6nV9PXyqE+4Lng4kH09nYk80rqWPGv7Z+Nbd1/kvL6kDg7pV1Jn0m7mA/d/1Qv5pMgt7FLzMuQssR5xb82VsJ/re00R3yMs76v+EZQ87tbN0JPYgcf73XJ5Q2zuZsdSR9QOcKPBhrDpL5UbiUunHRcutvg2tP5Q9a91on3MXK0jlRXH1cpu9HFt1fzItNey4tivk6rGzgyUPjPmLDhNEeT9Ib0hkA3MPq/RW5YdvH4Dcu00UVrIe3sf41diP6c/m+JdWsXvVjwnrbdLWjZnibVl84t5or0pD6q6UU2WXuWItYnGQMroz5fDJVf9lM0L7M9Hpuc144x+UJ9WqOsV0QXvXI+T8SzzfH+/u29XlibhuoT6UbGEsycSb+m5DdU/MTmTvuBQu1O+Zu2t/9PkL9N7vv/e/mvC4Xco3N7rC1Jnwk5ts3rmpDDYpvQm/qPU1pXdf9yX8v+1IZKvtR8U4XLj+wt+dZQinVlLLWD2SShcooxSsWEzts370txcUQ2SDlW3/Re0I7VcqntJqZGTmqdEZjPin7R1NojuK3ctrQfKb10A0cGCv+5wS2S8ATALZZ4AzHQxRUtjGiDNzLcYrLjvHx+hMXW9rXQhRgtynhRt3o5vZNzeV2ZLqWFndgMDMbu/oV/R72Y/yRxTFpdPE0M6vMFZGyC/JKfotgz29N60jnagxQ84bGSDzIxkfD58noVfW7nyhWP3f0biHxWWy+RXm175Ad7LvTwR6nwC32oT6p+YnNnLrBSH2+3lSP8Q2W3PurvX+rP3v4rYGWR+SNbNTW75Hw0F+hYOVd75PWO8oqSXVd1/3KbZJxpjpTzhctx0PYc0hdBfmQv9UkyriTuEta/bEfRzxUdZF7TOfQA4lvXTu1ujuTcpbg4IhukXHvUCn8ztrXJyLFz2PySY4UNIc5Fv2hq7Z5cXtjHm76ZfWlS3cCRgcJ/DmkXemqD4osrWhi9CxlK29dS3EjjRd3qldY7CbkoJoujxGZgMHZPWviX9OrmIy6j1cXTxKDjfNb+sHFnxiT8FMWe2Z7Wk/XPYeW4uZL9MzEJ2HnM2ODHil5Fn9ux5cK/5F9J5IPe66Vtj/xQ8UuJxmfN+Iqf2FypNeDkhceo3VaOiCuV3fbt71/qz97+S2BlWFsq60NTsyuaz64pI5f7L603IaF3lFcpSFy6+pfbJPdcOj6WRe2o+kZg26yuab9H9lKfJONqxmdizfqX7Sj6uaJDOa+pb1PtJUpxcXS2IQGLk8nZxgYfmyaPDW5uE7twnWDji37RVNpreWHbG9vSfplYN3BkoPCfGfHm0CAuSKyo1NDFEC0McuF1mHn8YmIbRArS11DcSOWipos+rXcJtgEwUn6i8oUexc2jrldej0Csj5HPZDYxqM0ndLcU8kJD9Ytiz2yP5dRtE2TzpaSjaeP+n0qvRDxr66PE1OuF6hPpVvJLF6g9FT+xuXke2X7URg21O+Vv2t7+39+/zJ+9/SfpuT6iWHpbkj4zeFlb5nGiZ0pvSkLvKK9KNPLr/uWxlP6gvqjkS803jLrfI3uZTxIxKsW6MpbakcrdBiqnGKOU3+m89bhwSnFxdLYhAe9vZOvcMfEM/qf5mogzG1/0i6aD31hcha12riYvRP9pdQNHBgr/GWKTXiR6WCzNpmMXNekjzqOFES0uszBDfyc76t9c5GhfTXEjjTcBtuil3swuuTEKmwXOT+2FmJ8LPWqbR1EvsRElkbo7+Ux3GoPifNJud25eEXHyy36SfrF2NnPFeobHqK6tvVKX8qYb+anJIzmvOy/pVfS5jSfVQ9hQiadkuvUizhO5JmOSsreh8ZmHyZNzez8GXRN9wxzSn06nVlY4b3QSPuyzXiKYP/v7jyPn8uNz/pS5EXIn6TOHWzOkj0XqraGxysmh/RukDf38a2Ml/NfaTnMrzjOeBxXfMKTO3h9EfmSv8AmfO4zPxJqN7WZH2050TciJ7GV+l3snkdsr711bq1PPWGh4O0e2pXX1tgi73LnuH8aLOBlYLIvt0gchrq0uVtdcvk6rGzgyUPjPmpD85KAbhoX1qSwM05dtIGaToWPcptPKIwtREzaVaCONFqXc7OSi9+dkLrZpSrsri5vL4jo3bUZGh82jpJdty2zAjnhTN/Ij24iMoh+svm3b+hO/mQZ9i35qN143lsY61tMi5mO2ltoShFxxB/F5lK9OF2d3rFfR51Yn8RVvIleK/hX0Xy/cx2xsItcM3C+JGBCKfVk8dM5TXcXcjQ+sfrHOrt2tG/v/rW2RO1aMRfqoj39jf/b3H4P5wOgp1odE+MzmTeibms/namyTy9MwL9tzEnKivKIIG2SuF/3bjCWxM+d2LrqWOqyrkm8kQmfp98jenE/CePuuSibWbGxfO4geUge6D+nxz4S91O/hq0mjecN42yelvCMfF0fVBpETlGistYvkozhne4oZZ9u9X3JxyvlQE7e38qP12LSn8nVK3aTdYGJQ+AMAADiT2MIjFA6AAd+A08azWyj8jwIU/gAAAE4/0SuC8SuvgwW+Aacd844AnqgeCSj8AQAAnAnYrQQobBnwDQDAgMIfAAAAAACAAYDCHwAAAAAAgAGAwh8AAAAAAIABgMIfAAAAAACAAYDCHwAAAAAAgAGAwh8AAAAAAIABgMIfAAAAAACAAYDCHwAAAAAAgAGAwh8AAAAAAIABgMIfAAAAAACAAYDCHwAAAAAAgAGAwn8OeLM1VufOL7THeFu98W2GZ7f0Y7ee+rO+PFXrWub6E396VOxtq/H5sdrZ8+eniKI/n2xE/nfsqZ3xghpvzYHBJ+l7NlfXXHK+OvKcAwAAAMBUoPCfKa5AShb65zfUM3qOwv/IOPWF/0kyUZxR+AMAAADzCAr/GWJf6e9QZLpCdcMW8OFdAVlU8XcNaKHmC389vmlv5kwVs/yJgnsSEo72yUgoCNdvkXmlLaaIbsYSne3jRJbByhOPNfgnSERWq7PRV9u7RedKyW7b1o+o8Oe+4TJN23jrKdHbxYSOiWx4QvS0OrhY0PEWWox7v+3Q+Av9+ZzbLL4pWH+dN7lX/NM5x2PV2MhiQPuHtrIN+fzW5PIMAAAAAAwU/jMjVXSncYVYW+y4IqgtbqMnEKywDsVj29/K8/2TYzNt7DwUck2x6+Zp7JHFPS1WRQFpsLKTxbgvJEmb7StktXqK/l5P/qSDy2MQ+zk8XtSHFi83zCNjForptH+kDSFmYjyzybdV4uB8JWKv23PFMbcrFPGJuMn4snM3rplDxiDIDfNUbCjOJduobwAAAADAQOE/M0gRVYEVfQZW3Bg5caFjxrjCKTEPHS8KpXZcXPgzEgVWq6co/Dy0uOc2pftnieznY6neKRsif1JsIanbM0dTjEZwPaI5ZIHK4hbbkBzPCuV0/AzFONj+OV9XcoW2R/ZQ6vFkcelgQ9rv9TwDAAAAQAsK/5mRKLIyREVgVPjp9sTRFv68qOJz0+LJ/E/7un5OnpBRLNboOHEEO2jhaGXlisgWK7+RFeaO/UiLysh3mmJhSAtsRroAtbIanVo9onkjuTQusQ1mPJtrosKfzhGI52pIyMrr6fwh7XakC/IwvvFXp8K/oK+UR49cfAEAAIABg8J/ZqQLyRRREVkp/Di0cAvwYqophI2sQtHriiparE9SrAXaPrVXaK1cM3eyUIznOonCvy34wxMWrkc075kr/Fua+DT9ZOHvxpk+zH/JeDq4DRl9i20AAAAAkKDwnyGs+BHQwpH+b6kUvpxEuyy07Ln7cGX5iQiRVSzWuj2pcf23RZEoMXPyeWr2U7+mfBz5k9Kp8JeFrYHrEc0xk8I/oaftL3UPxHrUfN1S8E/Cp90LfypXUmoDAAAAgASF/0xxhYssimzRQwqhqIgUhZItotitMrRAc/+3c/g5WeHrHxPFV1Q0mwKu0yv+GtuXtieKNNsnnpcji01vTzMmLka53qI9zMnsJySKVAfVX9oS/NfOE8Uskmv0yttgxke+CuOp7ytxkLlh28RcFO47mRdET+tHknNMDzeO+5z0tedabsoeT5xLmblsGx0rYwMAAACAAAr/OSAUY80hCk9WBBlyhRKR0RZ2vsCkX3cp5BuiIt/SFrTuIHPWijWNKzrb8XEx5grJlD6MUCjaw8zpxjl5cdEc2WJ19eP14zvSnxQzV1IfUVBSmXZ+7ysvN4pZJNfHxYqLbTDjj6LwN9DccF/nyftLaP913b+Vz/Wk/WxfGQPzOPVH6GvsoAX7BLmUnMsf1G9RLgAAAAADBoU/sJgCKS7MwdmDPuEAAAAAwJBA4Q805tVqFINnj/i2F7wCDgAAAAwXFP5Dx99Gg1f7zyjiliQU/QAAAMBwQeEPAAAAAADAAEDhDwAAAAAAwABA4Q8AAAAAAMAAQOEPAAAAAADAAEDhDwAAAAAAwABA4Q8AAAAAAMAAQOEPAAAAAADAAEDhDwAAAAAAwABA4Q8AAAAAAMAAQOEPAAAAAADAAEDhDwAAAAAAwABA4Q8AAAAAAMAAQOEPAAAAAADAAEDhDwAAAAAAwABA4Q8AAAAAAMAAQOEPAAAAAADAAEDhDwAAAAAAwABA4Q8AAAAAAMAAQOEPAAAAAADAAEDhDwAAAAAAwABA4Q8AAAAAAMAAQOEPAAAAAADAAEDhDwAAAAAAwABA4Q8AAAAAAMAAQOEPAAAAADBg/vmf/1n91//7/1F/+z/31V//j/+s/tPeX9V//GVP/fwfX5+pw9hkbDM2GluNzcb2IYHCHwAAAABgYPzxx7+o/+u//Ff1T3/9Vf3v/+mf1Jv//Df1X/T5//v7/6f+23/7Z/Uv//IvvufZwdhkbDM2GluNzcZ24wPjC+OTs41S/z82jumwZSeXOgAAAABJRU5ErkJggg==)\n",
        "\n",
        "1.3 Algorithm steps\n",
        "STEP 1: Cgoose the number K of neighbors\n",
        "\n",
        "STEP 2: Take the K nearest neighbors of the new data point, according to your distance metric\n",
        "\n",
        "STEP 3: Among these K neighbors, count the number of data points to each category\n",
        "\n",
        "STEP 4: Assign the new data point to the category where you counted the most neighbors"
      ],
      "metadata": {
        "id": "_H93gHebT22s"
      }
    },
    {
      "cell_type": "code",
      "source": [
        "df.describe()"
      ],
      "metadata": {
        "colab": {
          "base_uri": "https://localhost:8080/",
          "height": 300
        },
        "id": "tNTrEI-NUkaa",
        "outputId": "19dc4004-b5b2-478e-8f95-274673113223"
      },
      "execution_count": null,
      "outputs": [
        {
          "output_type": "execute_result",
          "data": {
            "text/plain": [
              "               Id  SepalLengthCm  SepalWidthCm  PetalLengthCm  PetalWidthCm\n",
              "count  150.000000     150.000000    150.000000     150.000000    150.000000\n",
              "mean    75.500000       5.843333      3.054000       3.758667      1.198667\n",
              "std     43.445368       0.828066      0.433594       1.764420      0.763161\n",
              "min      1.000000       4.300000      2.000000       1.000000      0.100000\n",
              "25%     38.250000       5.100000      2.800000       1.600000      0.300000\n",
              "50%     75.500000       5.800000      3.000000       4.350000      1.300000\n",
              "75%    112.750000       6.400000      3.300000       5.100000      1.800000\n",
              "max    150.000000       7.900000      4.400000       6.900000      2.500000"
            ],
            "text/html": [
              "\n",
              "  <div id=\"df-16254b5f-f41f-4081-89f4-ef5da77dbb5e\" class=\"colab-df-container\">\n",
              "    <div>\n",
              "<style scoped>\n",
              "    .dataframe tbody tr th:only-of-type {\n",
              "        vertical-align: middle;\n",
              "    }\n",
              "\n",
              "    .dataframe tbody tr th {\n",
              "        vertical-align: top;\n",
              "    }\n",
              "\n",
              "    .dataframe thead th {\n",
              "        text-align: right;\n",
              "    }\n",
              "</style>\n",
              "<table border=\"1\" class=\"dataframe\">\n",
              "  <thead>\n",
              "    <tr style=\"text-align: right;\">\n",
              "      <th></th>\n",
              "      <th>Id</th>\n",
              "      <th>SepalLengthCm</th>\n",
              "      <th>SepalWidthCm</th>\n",
              "      <th>PetalLengthCm</th>\n",
              "      <th>PetalWidthCm</th>\n",
              "    </tr>\n",
              "  </thead>\n",
              "  <tbody>\n",
              "    <tr>\n",
              "      <th>count</th>\n",
              "      <td>150.000000</td>\n",
              "      <td>150.000000</td>\n",
              "      <td>150.000000</td>\n",
              "      <td>150.000000</td>\n",
              "      <td>150.000000</td>\n",
              "    </tr>\n",
              "    <tr>\n",
              "      <th>mean</th>\n",
              "      <td>75.500000</td>\n",
              "      <td>5.843333</td>\n",
              "      <td>3.054000</td>\n",
              "      <td>3.758667</td>\n",
              "      <td>1.198667</td>\n",
              "    </tr>\n",
              "    <tr>\n",
              "      <th>std</th>\n",
              "      <td>43.445368</td>\n",
              "      <td>0.828066</td>\n",
              "      <td>0.433594</td>\n",
              "      <td>1.764420</td>\n",
              "      <td>0.763161</td>\n",
              "    </tr>\n",
              "    <tr>\n",
              "      <th>min</th>\n",
              "      <td>1.000000</td>\n",
              "      <td>4.300000</td>\n",
              "      <td>2.000000</td>\n",
              "      <td>1.000000</td>\n",
              "      <td>0.100000</td>\n",
              "    </tr>\n",
              "    <tr>\n",
              "      <th>25%</th>\n",
              "      <td>38.250000</td>\n",
              "      <td>5.100000</td>\n",
              "      <td>2.800000</td>\n",
              "      <td>1.600000</td>\n",
              "      <td>0.300000</td>\n",
              "    </tr>\n",
              "    <tr>\n",
              "      <th>50%</th>\n",
              "      <td>75.500000</td>\n",
              "      <td>5.800000</td>\n",
              "      <td>3.000000</td>\n",
              "      <td>4.350000</td>\n",
              "      <td>1.300000</td>\n",
              "    </tr>\n",
              "    <tr>\n",
              "      <th>75%</th>\n",
              "      <td>112.750000</td>\n",
              "      <td>6.400000</td>\n",
              "      <td>3.300000</td>\n",
              "      <td>5.100000</td>\n",
              "      <td>1.800000</td>\n",
              "    </tr>\n",
              "    <tr>\n",
              "      <th>max</th>\n",
              "      <td>150.000000</td>\n",
              "      <td>7.900000</td>\n",
              "      <td>4.400000</td>\n",
              "      <td>6.900000</td>\n",
              "      <td>2.500000</td>\n",
              "    </tr>\n",
              "  </tbody>\n",
              "</table>\n",
              "</div>\n",
              "    <div class=\"colab-df-buttons\">\n",
              "\n",
              "  <div class=\"colab-df-container\">\n",
              "    <button class=\"colab-df-convert\" onclick=\"convertToInteractive('df-16254b5f-f41f-4081-89f4-ef5da77dbb5e')\"\n",
              "            title=\"Convert this dataframe to an interactive table.\"\n",
              "            style=\"display:none;\">\n",
              "\n",
              "  <svg xmlns=\"http://www.w3.org/2000/svg\" height=\"24px\" viewBox=\"0 -960 960 960\">\n",
              "    <path d=\"M120-120v-720h720v720H120Zm60-500h600v-160H180v160Zm220 220h160v-160H400v160Zm0 220h160v-160H400v160ZM180-400h160v-160H180v160Zm440 0h160v-160H620v160ZM180-180h160v-160H180v160Zm440 0h160v-160H620v160Z\"/>\n",
              "  </svg>\n",
              "    </button>\n",
              "\n",
              "  <style>\n",
              "    .colab-df-container {\n",
              "      display:flex;\n",
              "      gap: 12px;\n",
              "    }\n",
              "\n",
              "    .colab-df-convert {\n",
              "      background-color: #E8F0FE;\n",
              "      border: none;\n",
              "      border-radius: 50%;\n",
              "      cursor: pointer;\n",
              "      display: none;\n",
              "      fill: #1967D2;\n",
              "      height: 32px;\n",
              "      padding: 0 0 0 0;\n",
              "      width: 32px;\n",
              "    }\n",
              "\n",
              "    .colab-df-convert:hover {\n",
              "      background-color: #E2EBFA;\n",
              "      box-shadow: 0px 1px 2px rgba(60, 64, 67, 0.3), 0px 1px 3px 1px rgba(60, 64, 67, 0.15);\n",
              "      fill: #174EA6;\n",
              "    }\n",
              "\n",
              "    .colab-df-buttons div {\n",
              "      margin-bottom: 4px;\n",
              "    }\n",
              "\n",
              "    [theme=dark] .colab-df-convert {\n",
              "      background-color: #3B4455;\n",
              "      fill: #D2E3FC;\n",
              "    }\n",
              "\n",
              "    [theme=dark] .colab-df-convert:hover {\n",
              "      background-color: #434B5C;\n",
              "      box-shadow: 0px 1px 3px 1px rgba(0, 0, 0, 0.15);\n",
              "      filter: drop-shadow(0px 1px 2px rgba(0, 0, 0, 0.3));\n",
              "      fill: #FFFFFF;\n",
              "    }\n",
              "  </style>\n",
              "\n",
              "    <script>\n",
              "      const buttonEl =\n",
              "        document.querySelector('#df-16254b5f-f41f-4081-89f4-ef5da77dbb5e button.colab-df-convert');\n",
              "      buttonEl.style.display =\n",
              "        google.colab.kernel.accessAllowed ? 'block' : 'none';\n",
              "\n",
              "      async function convertToInteractive(key) {\n",
              "        const element = document.querySelector('#df-16254b5f-f41f-4081-89f4-ef5da77dbb5e');\n",
              "        const dataTable =\n",
              "          await google.colab.kernel.invokeFunction('convertToInteractive',\n",
              "                                                    [key], {});\n",
              "        if (!dataTable) return;\n",
              "\n",
              "        const docLinkHtml = 'Like what you see? Visit the ' +\n",
              "          '<a target=\"_blank\" href=https://colab.research.google.com/notebooks/data_table.ipynb>data table notebook</a>'\n",
              "          + ' to learn more about interactive tables.';\n",
              "        element.innerHTML = '';\n",
              "        dataTable['output_type'] = 'display_data';\n",
              "        await google.colab.output.renderOutput(dataTable, element);\n",
              "        const docLink = document.createElement('div');\n",
              "        docLink.innerHTML = docLinkHtml;\n",
              "        element.appendChild(docLink);\n",
              "      }\n",
              "    </script>\n",
              "  </div>\n",
              "\n",
              "\n",
              "<div id=\"df-1a99891f-cf00-4de3-837c-478559016250\">\n",
              "  <button class=\"colab-df-quickchart\" onclick=\"quickchart('df-1a99891f-cf00-4de3-837c-478559016250')\"\n",
              "            title=\"Suggest charts\"\n",
              "            style=\"display:none;\">\n",
              "\n",
              "<svg xmlns=\"http://www.w3.org/2000/svg\" height=\"24px\"viewBox=\"0 0 24 24\"\n",
              "     width=\"24px\">\n",
              "    <g>\n",
              "        <path d=\"M19 3H5c-1.1 0-2 .9-2 2v14c0 1.1.9 2 2 2h14c1.1 0 2-.9 2-2V5c0-1.1-.9-2-2-2zM9 17H7v-7h2v7zm4 0h-2V7h2v10zm4 0h-2v-4h2v4z\"/>\n",
              "    </g>\n",
              "</svg>\n",
              "  </button>\n",
              "\n",
              "<style>\n",
              "  .colab-df-quickchart {\n",
              "      --bg-color: #E8F0FE;\n",
              "      --fill-color: #1967D2;\n",
              "      --hover-bg-color: #E2EBFA;\n",
              "      --hover-fill-color: #174EA6;\n",
              "      --disabled-fill-color: #AAA;\n",
              "      --disabled-bg-color: #DDD;\n",
              "  }\n",
              "\n",
              "  [theme=dark] .colab-df-quickchart {\n",
              "      --bg-color: #3B4455;\n",
              "      --fill-color: #D2E3FC;\n",
              "      --hover-bg-color: #434B5C;\n",
              "      --hover-fill-color: #FFFFFF;\n",
              "      --disabled-bg-color: #3B4455;\n",
              "      --disabled-fill-color: #666;\n",
              "  }\n",
              "\n",
              "  .colab-df-quickchart {\n",
              "    background-color: var(--bg-color);\n",
              "    border: none;\n",
              "    border-radius: 50%;\n",
              "    cursor: pointer;\n",
              "    display: none;\n",
              "    fill: var(--fill-color);\n",
              "    height: 32px;\n",
              "    padding: 0;\n",
              "    width: 32px;\n",
              "  }\n",
              "\n",
              "  .colab-df-quickchart:hover {\n",
              "    background-color: var(--hover-bg-color);\n",
              "    box-shadow: 0 1px 2px rgba(60, 64, 67, 0.3), 0 1px 3px 1px rgba(60, 64, 67, 0.15);\n",
              "    fill: var(--button-hover-fill-color);\n",
              "  }\n",
              "\n",
              "  .colab-df-quickchart-complete:disabled,\n",
              "  .colab-df-quickchart-complete:disabled:hover {\n",
              "    background-color: var(--disabled-bg-color);\n",
              "    fill: var(--disabled-fill-color);\n",
              "    box-shadow: none;\n",
              "  }\n",
              "\n",
              "  .colab-df-spinner {\n",
              "    border: 2px solid var(--fill-color);\n",
              "    border-color: transparent;\n",
              "    border-bottom-color: var(--fill-color);\n",
              "    animation:\n",
              "      spin 1s steps(1) infinite;\n",
              "  }\n",
              "\n",
              "  @keyframes spin {\n",
              "    0% {\n",
              "      border-color: transparent;\n",
              "      border-bottom-color: var(--fill-color);\n",
              "      border-left-color: var(--fill-color);\n",
              "    }\n",
              "    20% {\n",
              "      border-color: transparent;\n",
              "      border-left-color: var(--fill-color);\n",
              "      border-top-color: var(--fill-color);\n",
              "    }\n",
              "    30% {\n",
              "      border-color: transparent;\n",
              "      border-left-color: var(--fill-color);\n",
              "      border-top-color: var(--fill-color);\n",
              "      border-right-color: var(--fill-color);\n",
              "    }\n",
              "    40% {\n",
              "      border-color: transparent;\n",
              "      border-right-color: var(--fill-color);\n",
              "      border-top-color: var(--fill-color);\n",
              "    }\n",
              "    60% {\n",
              "      border-color: transparent;\n",
              "      border-right-color: var(--fill-color);\n",
              "    }\n",
              "    80% {\n",
              "      border-color: transparent;\n",
              "      border-right-color: var(--fill-color);\n",
              "      border-bottom-color: var(--fill-color);\n",
              "    }\n",
              "    90% {\n",
              "      border-color: transparent;\n",
              "      border-bottom-color: var(--fill-color);\n",
              "    }\n",
              "  }\n",
              "</style>\n",
              "\n",
              "  <script>\n",
              "    async function quickchart(key) {\n",
              "      const quickchartButtonEl =\n",
              "        document.querySelector('#' + key + ' button');\n",
              "      quickchartButtonEl.disabled = true;  // To prevent multiple clicks.\n",
              "      quickchartButtonEl.classList.add('colab-df-spinner');\n",
              "      try {\n",
              "        const charts = await google.colab.kernel.invokeFunction(\n",
              "            'suggestCharts', [key], {});\n",
              "      } catch (error) {\n",
              "        console.error('Error during call to suggestCharts:', error);\n",
              "      }\n",
              "      quickchartButtonEl.classList.remove('colab-df-spinner');\n",
              "      quickchartButtonEl.classList.add('colab-df-quickchart-complete');\n",
              "    }\n",
              "    (() => {\n",
              "      let quickchartButtonEl =\n",
              "        document.querySelector('#df-1a99891f-cf00-4de3-837c-478559016250 button');\n",
              "      quickchartButtonEl.style.display =\n",
              "        google.colab.kernel.accessAllowed ? 'block' : 'none';\n",
              "    })();\n",
              "  </script>\n",
              "</div>\n",
              "\n",
              "    </div>\n",
              "  </div>\n"
            ],
            "application/vnd.google.colaboratory.intrinsic+json": {
              "type": "dataframe",
              "summary": "{\n  \"name\": \"df\",\n  \"rows\": 8,\n  \"fields\": [\n    {\n      \"column\": \"Id\",\n      \"properties\": {\n        \"dtype\": \"number\",\n        \"std\": 53.756293020494844,\n        \"min\": 1.0,\n        \"max\": 150.0,\n        \"num_unique_values\": 6,\n        \"samples\": [\n          150.0,\n          75.5,\n          112.75\n        ],\n        \"semantic_type\": \"\",\n        \"description\": \"\"\n      }\n    },\n    {\n      \"column\": \"SepalLengthCm\",\n      \"properties\": {\n        \"dtype\": \"number\",\n        \"std\": 51.24711349471842,\n        \"min\": 0.8280661279778629,\n        \"max\": 150.0,\n        \"num_unique_values\": 8,\n        \"samples\": [\n          5.843333333333334,\n          5.8,\n          150.0\n        ],\n        \"semantic_type\": \"\",\n        \"description\": \"\"\n      }\n    },\n    {\n      \"column\": \"SepalWidthCm\",\n      \"properties\": {\n        \"dtype\": \"number\",\n        \"std\": 52.08647211421483,\n        \"min\": 0.4335943113621737,\n        \"max\": 150.0,\n        \"num_unique_values\": 8,\n        \"samples\": [\n          3.0540000000000003,\n          3.0,\n          150.0\n        ],\n        \"semantic_type\": \"\",\n        \"description\": \"\"\n      }\n    },\n    {\n      \"column\": \"PetalLengthCm\",\n      \"properties\": {\n        \"dtype\": \"number\",\n        \"std\": 51.835227940958106,\n        \"min\": 1.0,\n        \"max\": 150.0,\n        \"num_unique_values\": 8,\n        \"samples\": [\n          3.758666666666666,\n          4.35,\n          150.0\n        ],\n        \"semantic_type\": \"\",\n        \"description\": \"\"\n      }\n    },\n    {\n      \"column\": \"PetalWidthCm\",\n      \"properties\": {\n        \"dtype\": \"number\",\n        \"std\": 52.63663424340991,\n        \"min\": 0.1,\n        \"max\": 150.0,\n        \"num_unique_values\": 8,\n        \"samples\": [\n          1.1986666666666668,\n          1.3,\n          150.0\n        ],\n        \"semantic_type\": \"\",\n        \"description\": \"\"\n      }\n    }\n  ]\n}"
            }
          },
          "metadata": {},
          "execution_count": 3
        }
      ]
    },
    {
      "cell_type": "code",
      "source": [
        "df.groupby('Species').size()"
      ],
      "metadata": {
        "id": "ugx9pOzMSmhj",
        "colab": {
          "base_uri": "https://localhost:8080/",
          "height": 210
        },
        "outputId": "78c973fd-64bf-40df-f041-9671a5319cb9"
      },
      "execution_count": null,
      "outputs": [
        {
          "output_type": "execute_result",
          "data": {
            "text/plain": [
              "Species\n",
              "Iris-setosa        50\n",
              "Iris-versicolor    50\n",
              "Iris-virginica     50\n",
              "dtype: int64"
            ],
            "text/html": [
              "<div>\n",
              "<style scoped>\n",
              "    .dataframe tbody tr th:only-of-type {\n",
              "        vertical-align: middle;\n",
              "    }\n",
              "\n",
              "    .dataframe tbody tr th {\n",
              "        vertical-align: top;\n",
              "    }\n",
              "\n",
              "    .dataframe thead th {\n",
              "        text-align: right;\n",
              "    }\n",
              "</style>\n",
              "<table border=\"1\" class=\"dataframe\">\n",
              "  <thead>\n",
              "    <tr style=\"text-align: right;\">\n",
              "      <th></th>\n",
              "      <th>0</th>\n",
              "    </tr>\n",
              "    <tr>\n",
              "      <th>Species</th>\n",
              "      <th></th>\n",
              "    </tr>\n",
              "  </thead>\n",
              "  <tbody>\n",
              "    <tr>\n",
              "      <th>Iris-setosa</th>\n",
              "      <td>50</td>\n",
              "    </tr>\n",
              "    <tr>\n",
              "      <th>Iris-versicolor</th>\n",
              "      <td>50</td>\n",
              "    </tr>\n",
              "    <tr>\n",
              "      <th>Iris-virginica</th>\n",
              "      <td>50</td>\n",
              "    </tr>\n",
              "  </tbody>\n",
              "</table>\n",
              "</div><br><label><b>dtype:</b> int64</label>"
            ]
          },
          "metadata": {},
          "execution_count": 4
        }
      ]
    },
    {
      "cell_type": "code",
      "source": [
        "feature_columns = ['SepalLengthCm', 'SepalWidthCm', 'PetalLengthCm','PetalWidthCm']\n",
        "X = df[feature_columns].values\n",
        "y = df['Species'].values"
      ],
      "metadata": {
        "id": "1KT8in4USmeD"
      },
      "execution_count": null,
      "outputs": []
    },
    {
      "cell_type": "code",
      "source": [
        "le = LabelEncoder()\n",
        "y = le.fit_transform(y)\n",
        "X_train, X_test, y_train, y_test = train_test_split(X, y, test_size = 0.2, random_state = 10)"
      ],
      "metadata": {
        "id": "pOZp_r31Smaq"
      },
      "execution_count": null,
      "outputs": []
    },
    {
      "cell_type": "code",
      "source": [
        "classifier = KNeighborsClassifier(n_neighbors=3)\n",
        "classifier.fit(X_train, y_train)\n",
        "y_pred = classifier.predict(X_test)"
      ],
      "metadata": {
        "id": "KRquo3-6SmXH"
      },
      "execution_count": null,
      "outputs": []
    },
    {
      "cell_type": "code",
      "source": [
        "print('Model accuracy score: {0:0.4f}'. format(accuracy_score(y_test, y_pred)))\n",
        "y_pred_train = classifier.predict(X_train)\n",
        "print('Training-set accuracy score: {0:0.4f}'. format(accuracy_score(y_train, y_pred_train)))"
      ],
      "metadata": {
        "id": "OJrqqeZqSmJz",
        "colab": {
          "base_uri": "https://localhost:8080/"
        },
        "outputId": "b0965458-5703-462c-c9fe-257acabee0b2"
      },
      "execution_count": null,
      "outputs": [
        {
          "output_type": "stream",
          "name": "stdout",
          "text": [
            "Model accuracy score: 0.9667\n",
            "Training-set accuracy score: 0.9667\n"
          ]
        }
      ]
    },
    {
      "cell_type": "markdown",
      "source": [
        "#Classification metrices"
      ],
      "metadata": {
        "id": "x8wX-QdZvv8u"
      }
    },
    {
      "cell_type": "markdown",
      "source": [
        "##Confusion matrix\n",
        "A confusion matrix is a tool for summarizing the performance of a classification algorithm. A confusion matrix will give us a clear picture of classification model performance and the types of errors produced by the model. It gives us a summary of correct and incorrect predictions broken down by each category. The summary is represented in a tabular form.\n",
        "\n",
        "Four types of outcomes are possible while evaluating a classification model performance. These four outcomes are described below:-\n",
        "\n",
        "**True Positives (TP)** – True Positives occur when we predict an observation belongs to a certain class and the observation actually belongs to that class.\n",
        "\n",
        "**True Negatives (TN)** – True Negatives occur when we predict an observation does not belong to a certain class and the observation actually does not belong to that class.\n",
        "\n",
        "**False Positives (FP)** – False Positives occur when we predict an observation belongs to a certain class but the observation actually does not belong to that class. This type of error is called Type I error.\n",
        "\n",
        "**False Negatives (FN)** – False Negatives occur when we predict an observation does not belong to a certain class but the observation actually belongs to that class. This is a very serious error and it is called Type II error.\n",
        "\n",
        "These four outcomes are summarized in a confusion matrix given below."
      ],
      "metadata": {
        "id": "-RFaEt1-rhYM"
      }
    },
    {
      "cell_type": "code",
      "source": [
        "cm = confusion_matrix(y_test, y_pred)\n",
        "\n",
        "print('Confusion matrix\\n\\n', cm)"
      ],
      "metadata": {
        "id": "TXKooLGCSmF8",
        "colab": {
          "base_uri": "https://localhost:8080/"
        },
        "outputId": "c810efec-b1b6-41f5-a16c-c30bf7e986ad"
      },
      "execution_count": null,
      "outputs": [
        {
          "output_type": "stream",
          "name": "stdout",
          "text": [
            "Confusion matrix\n",
            "\n",
            " [[10  0  0]\n",
            " [ 0 12  1]\n",
            " [ 0  0  7]]\n"
          ]
        }
      ]
    },
    {
      "cell_type": "code",
      "source": [
        "plt.figure(figsize=(6,4))\n",
        "\n",
        "cm_matrix = pd.DataFrame(data=cm, columns=['Actual 0', 'Actual 1', 'Actual 2'],\n",
        "                         index=['Predicted 0', 'Predicted 1', 'Predicted 2'])\n",
        "\n",
        "sns.heatmap(cm_matrix, annot=True, fmt='d', cmap='YlGnBu')"
      ],
      "metadata": {
        "id": "vuEo7pmhSmCR",
        "colab": {
          "base_uri": "https://localhost:8080/",
          "height": 391
        },
        "outputId": "c86a718b-6291-4efc-8f8d-0cf2d04ce1cb"
      },
      "execution_count": null,
      "outputs": [
        {
          "output_type": "execute_result",
          "data": {
            "text/plain": [
              "<Axes: >"
            ]
          },
          "metadata": {},
          "execution_count": 10
        },
        {
          "output_type": "display_data",
          "data": {
            "text/plain": [
              "<Figure size 600x400 with 2 Axes>"
            ],
            "image/png": "[encoded data removed]"
          },
          "metadata": {}
        }
      ]
    },
    {
      "cell_type": "code",
      "source": [
        "print(classification_report(y_test, y_pred))"
      ],
      "metadata": {
        "id": "OFtgbtrRSl-h",
        "colab": {
          "base_uri": "https://localhost:8080/"
        },
        "outputId": "e61f7eba-90b7-4586-a2d3-60c8247078d9"
      },
      "execution_count": null,
      "outputs": [
        {
          "output_type": "stream",
          "name": "stdout",
          "text": [
            "              precision    recall  f1-score   support\n",
            "\n",
            "           0       1.00      1.00      1.00        10\n",
            "           1       1.00      0.92      0.96        13\n",
            "           2       0.88      1.00      0.93         7\n",
            "\n",
            "    accuracy                           0.97        30\n",
            "   macro avg       0.96      0.97      0.96        30\n",
            "weighted avg       0.97      0.97      0.97        30\n",
            "\n"
          ]
        }
      ]
    },
    {
      "cell_type": "code",
      "source": [
        "def confusion_matrix_for(cls, cm):\n",
        "    TP = cm[cls, cls]\n",
        "    FN = cm[cls].sum() - TP\n",
        "    FP = cm[:, cls].sum() - TP\n",
        "    TN = cm.sum() - TP - FN - FP\n",
        "    return np.array([[TP, FN], [FP, TN]])\n",
        "\n",
        "for i in range(len(cm)):\n",
        "    print(f\"\\nClass {i}:\")\n",
        "    TP, FN, FP, TN = confusion_matrix_for(i, cm).ravel()\n",
        "    print(f'TP: {TP}, FN: {FN}, FP: {FP}, TN: {TN}')\n",
        "\n",
        "\n",
        "\n",
        "\n",
        "    classification_accuracy = (TP + TN) / float(TP + TN + FP + FN)\n",
        "    print('Classification accuracy  : {0:0.4f}'.format(classification_accuracy))\n",
        "\n",
        "    classification_error = (FP + FN) / float(TP + TN + FP + FN)\n",
        "    print('Classification error : {0:0.4f}'.format(classification_error))\n",
        "\n",
        "    precision = TP / float(TP + FP)\n",
        "    print('Precision : {0:0.4f}'.format(precision))\n",
        "\n",
        "    recall = TP / float(TP + FN)\n",
        "    print('Recall or Sensitivity : {0:0.4f}'.format(recall))\n",
        "\n",
        "    f1 = (2*precision*recall)/float(precision+recall)\n",
        "    print('F1 : {0:0.4f}'.format(f1))\n",
        "\n",
        "    true_positive_rate = TP / float(TP + FN)\n",
        "    print('True Positive Rate : {0:0.4f}'.format(true_positive_rate))\n",
        "\n",
        "    false_positive_rate = FP / float(FP + TN)\n",
        "    print('False Positive Rate : {0:0.4f}'.format(false_positive_rate))\n",
        "\n",
        "    specificity = TN / (TN + FP)\n",
        "    print('Specificity : {0:0.4f}'.format(specificity)) #also known as true negtive rate"
      ],
      "metadata": {
        "id": "StDrYtmLSl6w",
        "colab": {
          "base_uri": "https://localhost:8080/"
        },
        "outputId": "7d1968e2-cc4b-4e3a-fbd2-0692d2c0c72c"
      },
      "execution_count": null,
      "outputs": [
        {
          "output_type": "stream",
          "name": "stdout",
          "text": [
            "\n",
            "Class 0:\n",
            "TP: 10, FN: 0, FP: 0, TN: 20\n",
            "Classification accuracy  : 1.0000\n",
            "Classification error : 0.0000\n",
            "Precision : 1.0000\n",
            "Recall or Sensitivity : 1.0000\n",
            "F1 : 1.0000\n",
            "True Positive Rate : 1.0000\n",
            "False Positive Rate : 0.0000\n",
            "Specificity : 1.0000\n",
            "\n",
            "Class 1:\n",
            "TP: 12, FN: 1, FP: 0, TN: 17\n",
            "Classification accuracy  : 0.9667\n",
            "Classification error : 0.0333\n",
            "Precision : 1.0000\n",
            "Recall or Sensitivity : 0.9231\n",
            "F1 : 0.9600\n",
            "True Positive Rate : 0.9231\n",
            "False Positive Rate : 0.0000\n",
            "Specificity : 1.0000\n",
            "\n",
            "Class 2:\n",
            "TP: 7, FN: 0, FP: 1, TN: 22\n",
            "Classification accuracy  : 0.9667\n",
            "Classification error : 0.0333\n",
            "Precision : 0.8750\n",
            "Recall or Sensitivity : 1.0000\n",
            "F1 : 0.9333\n",
            "True Positive Rate : 1.0000\n",
            "False Positive Rate : 0.0435\n",
            "Specificity : 0.9565\n"
          ]
        }
      ]
    },
    {
      "cell_type": "code",
      "source": [
        "param_grid = {'n_neighbors':np.arange(1,50)}\n",
        "\n",
        "knn3 = KNeighborsClassifier()\n",
        "knn_cv= GridSearchCV(knn3,param_grid,cv=5)\n",
        "knn_cv.fit(X_test,y_test)\n",
        "\n",
        "print(\"Best Score:\" + str(knn_cv.best_score_))\n",
        "print(\"Best Parameters: \" + str(knn_cv.best_params_))"
      ],
      "metadata": {
        "colab": {
          "base_uri": "https://localhost:8080/"
        },
        "id": "5uiPpC4kvzbI",
        "outputId": "6a6ee8b6-3870-4ef7-aa07-bc4cc65e65f0"
      },
      "execution_count": null,
      "outputs": [
        {
          "output_type": "stream",
          "name": "stdout",
          "text": [
            "Best Score:0.9666666666666666\n",
            "Best Parameters: {'n_neighbors': np.int64(2)}\n"
          ]
        }
      ]
    },
    {
      "cell_type": "code",
      "source": [
        "k_list = list(range(1,60))\n",
        "# creating list of cv scores\n",
        "cv_scores = []\n",
        "\n",
        "# perform 10-fold cross validation\n",
        "for k in k_list:\n",
        "    knn = KNeighborsClassifier(n_neighbors=k)\n",
        "    scores = cross_val_score(knn, X_train, y_train, cv=10, scoring='accuracy') #https://scikit-learn.org/stable/modules/model_evaluation.html#scoring-parameter\n",
        "    cv_scores.append(scores.mean())"
      ],
      "metadata": {
        "id": "9DNCUkZ1vzYA"
      },
      "execution_count": null,
      "outputs": []
    },
    {
      "cell_type": "code",
      "source": [
        "# changing to misclassification error\n",
        "MSE = [1 - x for x in cv_scores]\n",
        "\n",
        "plt.figure()\n",
        "plt.figure(figsize=(15,10))\n",
        "plt.title('The optimal number of neighbors', fontsize=20, fontweight='bold')\n",
        "plt.xlabel('Number of Neighbors K', fontsize=15)\n",
        "plt.ylabel('Misclassification Error', fontsize=15)\n",
        "sns.set_style(\"whitegrid\")\n",
        "plt.plot(k_list, MSE)\n",
        "#plt.plot(k_list, cv_scores)\n",
        "\n",
        "plt.show()"
      ],
      "metadata": {
        "colab": {
          "base_uri": "https://localhost:8080/",
          "height": 899
        },
        "id": "U0NW8wOnvzUw",
        "outputId": "311c7992-48bc-4003-96a4-747ffefb39dd"
      },
      "execution_count": null,
      "outputs": [
        {
          "output_type": "display_data",
          "data": {
            "text/plain": [
              "<Figure size 640x480 with 0 Axes>"
            ]
          },
          "metadata": {}
        },
        {
          "output_type": "display_data",
          "data": {
            "text/plain": [
              "<Figure size 1500x1000 with 1 Axes>"
            ],
            "image/png": "[encoded data removed]"
          },
          "metadata": {}
        }
      ]
    },
    {
      "cell_type": "code",
      "source": [
        "#best_k = k_list[MSE.index(min(MSE))]\n",
        "best_k = k_list[cv_scores.index(max(cv_scores))]\n",
        "\n",
        "print(\"The optimal number of neighbors is %d.\" % best_k)"
      ],
      "metadata": {
        "colab": {
          "base_uri": "https://localhost:8080/"
        },
        "id": "Qj-KuJeIvzR2",
        "outputId": "d5c5fc4c-7469-4504-e1e8-0397adf35ad4"
      },
      "execution_count": null,
      "outputs": [
        {
          "output_type": "stream",
          "name": "stdout",
          "text": [
            "The optimal number of neighbors is 11.\n"
          ]
        }
      ]
    },
    {
      "cell_type": "code",
      "source": [
        "classifier = KNeighborsClassifier(n_neighbors=best_k) #class sklearn.neighbors.KNeighborsClassifier\n",
        "#(n_neighbors=5, *, weights='uniform', algorithm='auto', leaf_size=30, p=2, metric='minkowski', metric_params=None, n_jobs=None)[source]\n",
        "#weights{‘uniform’, ‘distance’}, callable or None, default=’uniform’\n",
        "#https://scikit-learn.org/stable/modules/generated/sklearn.neighbors.KNeighborsClassifier.html\n",
        "\n",
        "classifier.fit(X_train, y_train)\n",
        "y_pred1 = classifier.predict(X_test)\n",
        "print('Model accuracy score: {0:0.4f}'. format(accuracy_score(y_test, y_pred1)))\n",
        "y_pred_train1 = classifier.predict(X_train)\n",
        "print('Training-set accuracy score: {0:0.4f}'. format(accuracy_score(y_train, y_pred_train1)))"
      ],
      "metadata": {
        "colab": {
          "base_uri": "https://localhost:8080/"
        },
        "id": "KKtZIMgRvzOp",
        "outputId": "3d948c02-86d9-44c6-f2e1-9335ce3702c8"
      },
      "execution_count": null,
      "outputs": [
        {
          "output_type": "stream",
          "name": "stdout",
          "text": [
            "Model accuracy score: 1.0000\n",
            "Training-set accuracy score: 0.9750\n"
          ]
        }
      ]
    },
    {
      "cell_type": "code",
      "source": [
        "\n",
        "accuracy = accuracy_score(y_test,y_pred1)\n",
        "\n",
        "\n",
        "precision = precision_score(y_test, y_pred1, average='weighted')\n",
        "recall = recall_score(y_test, y_pred1, average='weighted')\n",
        "f1 = f1_score(y_test, y_pred1, average='weighted')\n",
        "\n",
        "report = classification_report(y_test, y_pred1)\n",
        "\n",
        "print(\"Accuracy: {:.4f}\".format(accuracy))\n",
        "print(\"Precision: {:.4f}\".format(precision))\n",
        "print(\"Recall: {:.4f}\".format(recall))\n",
        "print(\"F1-score: {:.4f}\".format(f1))\n",
        "print()\n",
        "\n",
        "print(\"Classification Report:\\n\", report)"
      ],
      "metadata": {
        "colab": {
          "base_uri": "https://localhost:8080/"
        },
        "id": "9vDBaV80vzKx",
        "outputId": "c1c0b233-cd7f-4180-b3e1-f08ab336695b"
      },
      "execution_count": null,
      "outputs": [
        {
          "output_type": "stream",
          "name": "stdout",
          "text": [
            "Accuracy: 1.0000\n",
            "Precision: 1.0000\n",
            "Recall: 1.0000\n",
            "F1-score: 1.0000\n",
            "\n",
            "Classification Report:\n",
            "               precision    recall  f1-score   support\n",
            "\n",
            "           0       1.00      1.00      1.00        10\n",
            "           1       1.00      1.00      1.00        13\n",
            "           2       1.00      1.00      1.00         7\n",
            "\n",
            "    accuracy                           1.00        30\n",
            "   macro avg       1.00      1.00      1.00        30\n",
            "weighted avg       1.00      1.00      1.00        30\n",
            "\n"
          ]
        }
      ]
    },
    {
      "cell_type": "code",
      "source": [
        "cm1 = confusion_matrix(y_test, y_pred1)\n",
        "\n",
        "print('Confusion matrix\\n\\n', cm1)"
      ],
      "metadata": {
        "colab": {
          "base_uri": "https://localhost:8080/"
        },
        "id": "rICQxR1nvzH8",
        "outputId": "08e95bbd-d5e6-48cb-ca3a-6b2edb9ce405"
      },
      "execution_count": null,
      "outputs": [
        {
          "output_type": "stream",
          "name": "stdout",
          "text": [
            "Confusion matrix\n",
            "\n",
            " [[10  0  0]\n",
            " [ 0 13  0]\n",
            " [ 0  0  7]]\n"
          ]
        }
      ]
    },
    {
      "cell_type": "code",
      "source": [
        "def confusion_matrix_for(cls, cm):\n",
        "    TP = cm[cls, cls]\n",
        "    FN = cm[cls].sum() - TP\n",
        "    FP = cm[:, cls].sum() - TP\n",
        "    TN = cm.sum() - TP - FN - FP\n",
        "    return np.array([[TP, FN], [FP, TN]])\n",
        "\n",
        "for i in range(len(cm1)):\n",
        "    print(f\"\\nClass {i}:\")\n",
        "    TP, FN, FP, TN = confusion_matrix_for(i, cm1).ravel()\n",
        "    print(f'TP: {TP}, FN: {FN}, FP: {FP}, TN: {TN}')\n",
        "\n",
        "\n",
        "\n",
        "\n",
        "    classification_accuracy = (TP + TN) / float(TP + TN + FP + FN)\n",
        "    print('Classification accuracy  : {0:0.4f}'.format(classification_accuracy))\n",
        "\n",
        "    classification_error = (FP + FN) / float(TP + TN + FP + FN)\n",
        "    print('Classification error : {0:0.4f}'.format(classification_error))\n",
        "\n",
        "    precision = TP / float(TP + FP)\n",
        "    print('Precision : {0:0.4f}'.format(precision))\n",
        "\n",
        "    recall = TP / float(TP + FN)\n",
        "    print('Recall or Sensitivity : {0:0.4f}'.format(recall))\n",
        "\n",
        "    f1 = (2*precision*recall)/float(precision+recall)\n",
        "    print('F1 : {0:0.4f}'.format(f1))\n",
        "\n",
        "    true_positive_rate = TP / float(TP + FN)\n",
        "    print('True Positive Rate : {0:0.4f}'.format(true_positive_rate))\n",
        "\n",
        "    false_positive_rate = FP / float(FP + TN)\n",
        "    print('False Positive Rate : {0:0.4f}'.format(false_positive_rate))\n",
        "\n",
        "    specificity = TN / (TN + FP)\n",
        "    print('Specificity : {0:0.4f}'.format(specificity))"
      ],
      "metadata": {
        "colab": {
          "base_uri": "https://localhost:8080/"
        },
        "id": "5Ue3gg9E4lgl",
        "outputId": "f386b0e3-8d23-41a5-8c78-98f1399ad27f"
      },
      "execution_count": null,
      "outputs": [
        {
          "output_type": "stream",
          "name": "stdout",
          "text": [
            "\n",
            "Class 0:\n",
            "TP: 10, FN: 0, FP: 0, TN: 20\n",
            "Classification accuracy  : 1.0000\n",
            "Classification error : 0.0000\n",
            "Precision : 1.0000\n",
            "Recall or Sensitivity : 1.0000\n",
            "F1 : 1.0000\n",
            "True Positive Rate : 1.0000\n",
            "False Positive Rate : 0.0000\n",
            "Specificity : 1.0000\n",
            "\n",
            "Class 1:\n",
            "TP: 13, FN: 0, FP: 0, TN: 17\n",
            "Classification accuracy  : 1.0000\n",
            "Classification error : 0.0000\n",
            "Precision : 1.0000\n",
            "Recall or Sensitivity : 1.0000\n",
            "F1 : 1.0000\n",
            "True Positive Rate : 1.0000\n",
            "False Positive Rate : 0.0000\n",
            "Specificity : 1.0000\n",
            "\n",
            "Class 2:\n",
            "TP: 7, FN: 0, FP: 0, TN: 23\n",
            "Classification accuracy  : 1.0000\n",
            "Classification error : 0.0000\n",
            "Precision : 1.0000\n",
            "Recall or Sensitivity : 1.0000\n",
            "F1 : 1.0000\n",
            "True Positive Rate : 1.0000\n",
            "False Positive Rate : 0.0000\n",
            "Specificity : 1.0000\n"
          ]
        }
      ]
    }
  ]
}