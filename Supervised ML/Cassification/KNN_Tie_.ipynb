{
  "nbformat": 4,
  "nbformat_minor": 0,
  "metadata": {
    "colab": {
      "provenance": []
    },
    "kernelspec": {
      "name": "python3",
      "display_name": "Python 3"
    },
    "language_info": {
      "name": "python"
    }
  },
  "cells": [
    {
      "cell_type": "code",
      "execution_count": 1,
      "metadata": {
        "colab": {
          "base_uri": "https://localhost:8080/"
        },
        "id": "IB6D4VVlAKi9",
        "outputId": "b0981f58-6dd1-4178-f422-2336d8724c04"
      },
      "outputs": [
        {
          "output_type": "stream",
          "name": "stdout",
          "text": [
            "Predicted class: 0\n"
          ]
        }
      ],
      "source": [
        "from sklearn.neighbors import KNeighborsClassifier\n",
        "import numpy as np\n",
        "\n",
        "# Sample data (6 neighbors with equal votes for two classes)\n",
        "X_train = np.array([\n",
        "    [1, 2], [2, 3], [3, 4], [4, 5], [5, 6], [6, 7]\n",
        "])\n",
        "y_train = np.array([\"1\", \"1\", \"2\", \"2\", \"0\", \"0\"])  # Tie between A and B\n",
        "\n",
        "# Test data point\n",
        "X_test = np.array([[3, 3]])\n",
        "\n",
        "# KNN model with k=6\n",
        "knn = KNeighborsClassifier(n_neighbors=6)\n",
        "knn.fit(X_train, y_train)\n",
        "\n",
        "# Predict class for test point\n",
        "prediction = knn.predict(X_test)\n",
        "\n",
        "print(\"Predicted class:\", prediction[0])  # Expected: \"A\" (since \"A\" < \"B\" alphabetically)\n"
      ]
    }
  ]
}